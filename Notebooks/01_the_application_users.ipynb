{
  "nbformat": 4,
  "nbformat_minor": 0,
  "metadata": {
    "colab": {
      "provenance": []
    },
    "kernelspec": {
      "name": "python3",
      "display_name": "Python 3"
    },
    "language_info": {
      "name": "python"
    }
  },
  "cells": [
    {
      "cell_type": "markdown",
      "source": [
        "<font size=\"+3\"><strong>1. DS Internship Applicants</strong></font>"
      ],
      "metadata": {
        "id": "6neU6fiJAFAP"
      }
    },
    {
      "cell_type": "markdown",
      "source": [
        "<div class=\"alert alert-block alert-warning\">\n",
        "<b>Data Ethics:</b> This project is based on a <b>synthetic data</b>. It is designed to have  characteristics that are similar to the real thing without exposing any actual personal data — like names, birthdays, and email addresses — that would violate our students' privacy.\n",
        "</div>"
      ],
      "metadata": {
        "id": "bmatBYyyAT0e"
      }
    },
    {
      "cell_type": "code",
      "source": [
        "%%capture\n",
        "!pip install python-dotenv\n",
        "import os\n",
        "from dotenv import load_dotenv\n",
        "\n",
        "# Load variables from .env file\n",
        "load_dotenv('env')\n",
        "\n",
        "# Use variables\n",
        "uri = os.getenv('uri')"
      ],
      "metadata": {
        "id": "g9aADC3xNxJ4"
      },
      "execution_count": 8,
      "outputs": []
    },
    {
      "cell_type": "code",
      "source": [
        "%%capture\n",
        "\n",
        "!pip install country_converter\n",
        "!pip install pymongo==3.11\n",
        "!pip install pymongo[srv]\n",
        "!pip install dnspython\n",
        "\n",
        "# Import libraries\n",
        "import pandas as pd\n",
        "import numpy as np\n",
        "import plotly.express as px\n",
        "from pprint import PrettyPrinter\n",
        "from pymongo.mongo_client import MongoClient\n",
        "from country_converter import CountryConverter"
      ],
      "metadata": {
        "id": "xeVxtGG7AW1I"
      },
      "execution_count": 2,
      "outputs": []
    },
    {
      "cell_type": "markdown",
      "source": [
        "The DS Intership student data is stored in a MongoDB database. So we'll start the notebook by creating a `PrettyPrinter`, and connecting to the right database and collection."
      ],
      "metadata": {
        "id": "hDPI91vTAcnk"
      }
    },
    {
      "cell_type": "markdown",
      "source": [
        "# Prepare Data\n",
        "\n",
        "## Concet"
      ],
      "metadata": {
        "id": "MitjoDfqAos7"
      }
    },
    {
      "cell_type": "code",
      "source": [
        "pp = PrettyPrinter (indent= 2)"
      ],
      "metadata": {
        "id": "QjZt25aUJ0hp"
      },
      "execution_count": 3,
      "outputs": []
    },
    {
      "cell_type": "code",
      "source": [
        "client = MongoClient(uri)\n",
        "db = client[\"abtest-data\"]\n",
        "ds_app = db[\"ds-applicants\"]\n",
        "print(\"client:\", type(client))\n",
        "print(\"ds_app:\", type(ds_app))"
      ],
      "metadata": {
        "colab": {
          "base_uri": "https://localhost:8080/"
        },
        "id": "PQi2UXUUKWMR",
        "outputId": "fee137d3-b211-4005-9c02-481bf9e14c97"
      },
      "execution_count": 10,
      "outputs": [
        {
          "output_type": "stream",
          "name": "stdout",
          "text": [
            "client: <class 'pymongo.mongo_client.MongoClient'>\n",
            "ds_app: <class 'pymongo.collection.Collection'>\n"
          ]
        }
      ]
    },
    {
      "cell_type": "markdown",
      "source": [
        "# Explore"
      ],
      "metadata": {
        "id": "1Kts86WkBP88"
      }
    },
    {
      "cell_type": "markdown",
      "source": [
        "## Nationality"
      ],
      "metadata": {
        "id": "ZcyjLMnmBsjr"
      }
    },
    {
      "cell_type": "markdown",
      "source": [
        "Let's start the analysis. One of the possibilities in each record is the country of origin. We want to start by seeing where applicants are coming from.\n",
        "\n",
        "First, we'll perform an aggregation to count countries."
      ],
      "metadata": {
        "id": "DCiiIvJ-BuIZ"
      }
    },
    {
      "cell_type": "code",
      "source": [
        "result = ds_app.aggregate(\n",
        "    [\n",
        "        {\n",
        "            \"$group\": {\n",
        "                \"_id\": \"$countryISO2\", \"count\": {\"$count\":{}}\n",
        "                      }\n",
        "         }\n",
        "     ]\n",
        ")\n",
        "print(\"result type:\", type(result))"
      ],
      "metadata": {
        "id": "dFIWdigdB5vB",
        "colab": {
          "base_uri": "https://localhost:8080/"
        },
        "outputId": "552271eb-cd99-4a8e-a734-07397266e96d"
      },
      "execution_count": 11,
      "outputs": [
        {
          "output_type": "stream",
          "name": "stdout",
          "text": [
            "result type: <class 'pymongo.command_cursor.CommandCursor'>\n"
          ]
        }
      ]
    },
    {
      "cell_type": "markdown",
      "source": [
        "Next, we'll create and print a DataFrame with the results."
      ],
      "metadata": {
        "id": "rZs20Ys9B7cV"
      }
    },
    {
      "cell_type": "code",
      "source": [
        "df_nationality = (\n",
        "    pd.DataFrame(result).rename({\"_id\": \"country_iso2\"}, axis=1).sort_values(\"count\")\n",
        ")\n",
        "\n",
        "print(\"df_nationality type:\", type(df_nationality))\n",
        "print(\"df_nationality shape\", df_nationality.shape)\n",
        "df_nationality.head()"
      ],
      "metadata": {
        "id": "fnb9nJaKCQQv",
        "colab": {
          "base_uri": "https://localhost:8080/",
          "height": 241
        },
        "outputId": "be47e843-18fe-4dff-8a09-49cd0c44bee6"
      },
      "execution_count": 12,
      "outputs": [
        {
          "output_type": "stream",
          "name": "stdout",
          "text": [
            "df_nationality type: <class 'pandas.core.frame.DataFrame'>\n",
            "df_nationality shape (144, 2)\n"
          ]
        },
        {
          "output_type": "execute_result",
          "data": {
            "text/plain": [
              "    country_iso2  count\n",
              "102           GW      1\n",
              "108           BA      1\n",
              "107           GQ      1\n",
              "25            TM      1\n",
              "26            SE      1"
            ],
            "text/html": [
              "\n",
              "  <div id=\"df-8a3919c3-fe44-4e07-9b1f-99d2cd044850\" class=\"colab-df-container\">\n",
              "    <div>\n",
              "<style scoped>\n",
              "    .dataframe tbody tr th:only-of-type {\n",
              "        vertical-align: middle;\n",
              "    }\n",
              "\n",
              "    .dataframe tbody tr th {\n",
              "        vertical-align: top;\n",
              "    }\n",
              "\n",
              "    .dataframe thead th {\n",
              "        text-align: right;\n",
              "    }\n",
              "</style>\n",
              "<table border=\"1\" class=\"dataframe\">\n",
              "  <thead>\n",
              "    <tr style=\"text-align: right;\">\n",
              "      <th></th>\n",
              "      <th>country_iso2</th>\n",
              "      <th>count</th>\n",
              "    </tr>\n",
              "  </thead>\n",
              "  <tbody>\n",
              "    <tr>\n",
              "      <th>102</th>\n",
              "      <td>GW</td>\n",
              "      <td>1</td>\n",
              "    </tr>\n",
              "    <tr>\n",
              "      <th>108</th>\n",
              "      <td>BA</td>\n",
              "      <td>1</td>\n",
              "    </tr>\n",
              "    <tr>\n",
              "      <th>107</th>\n",
              "      <td>GQ</td>\n",
              "      <td>1</td>\n",
              "    </tr>\n",
              "    <tr>\n",
              "      <th>25</th>\n",
              "      <td>TM</td>\n",
              "      <td>1</td>\n",
              "    </tr>\n",
              "    <tr>\n",
              "      <th>26</th>\n",
              "      <td>SE</td>\n",
              "      <td>1</td>\n",
              "    </tr>\n",
              "  </tbody>\n",
              "</table>\n",
              "</div>\n",
              "    <div class=\"colab-df-buttons\">\n",
              "\n",
              "  <div class=\"colab-df-container\">\n",
              "    <button class=\"colab-df-convert\" onclick=\"convertToInteractive('df-8a3919c3-fe44-4e07-9b1f-99d2cd044850')\"\n",
              "            title=\"Convert this dataframe to an interactive table.\"\n",
              "            style=\"display:none;\">\n",
              "\n",
              "  <svg xmlns=\"http://www.w3.org/2000/svg\" height=\"24px\" viewBox=\"0 -960 960 960\">\n",
              "    <path d=\"M120-120v-720h720v720H120Zm60-500h600v-160H180v160Zm220 220h160v-160H400v160Zm0 220h160v-160H400v160ZM180-400h160v-160H180v160Zm440 0h160v-160H620v160ZM180-180h160v-160H180v160Zm440 0h160v-160H620v160Z\"/>\n",
              "  </svg>\n",
              "    </button>\n",
              "\n",
              "  <style>\n",
              "    .colab-df-container {\n",
              "      display:flex;\n",
              "      gap: 12px;\n",
              "    }\n",
              "\n",
              "    .colab-df-convert {\n",
              "      background-color: #E8F0FE;\n",
              "      border: none;\n",
              "      border-radius: 50%;\n",
              "      cursor: pointer;\n",
              "      display: none;\n",
              "      fill: #1967D2;\n",
              "      height: 32px;\n",
              "      padding: 0 0 0 0;\n",
              "      width: 32px;\n",
              "    }\n",
              "\n",
              "    .colab-df-convert:hover {\n",
              "      background-color: #E2EBFA;\n",
              "      box-shadow: 0px 1px 2px rgba(60, 64, 67, 0.3), 0px 1px 3px 1px rgba(60, 64, 67, 0.15);\n",
              "      fill: #174EA6;\n",
              "    }\n",
              "\n",
              "    .colab-df-buttons div {\n",
              "      margin-bottom: 4px;\n",
              "    }\n",
              "\n",
              "    [theme=dark] .colab-df-convert {\n",
              "      background-color: #3B4455;\n",
              "      fill: #D2E3FC;\n",
              "    }\n",
              "\n",
              "    [theme=dark] .colab-df-convert:hover {\n",
              "      background-color: #434B5C;\n",
              "      box-shadow: 0px 1px 3px 1px rgba(0, 0, 0, 0.15);\n",
              "      filter: drop-shadow(0px 1px 2px rgba(0, 0, 0, 0.3));\n",
              "      fill: #FFFFFF;\n",
              "    }\n",
              "  </style>\n",
              "\n",
              "    <script>\n",
              "      const buttonEl =\n",
              "        document.querySelector('#df-8a3919c3-fe44-4e07-9b1f-99d2cd044850 button.colab-df-convert');\n",
              "      buttonEl.style.display =\n",
              "        google.colab.kernel.accessAllowed ? 'block' : 'none';\n",
              "\n",
              "      async function convertToInteractive(key) {\n",
              "        const element = document.querySelector('#df-8a3919c3-fe44-4e07-9b1f-99d2cd044850');\n",
              "        const dataTable =\n",
              "          await google.colab.kernel.invokeFunction('convertToInteractive',\n",
              "                                                    [key], {});\n",
              "        if (!dataTable) return;\n",
              "\n",
              "        const docLinkHtml = 'Like what you see? Visit the ' +\n",
              "          '<a target=\"_blank\" href=https://colab.research.google.com/notebooks/data_table.ipynb>data table notebook</a>'\n",
              "          + ' to learn more about interactive tables.';\n",
              "        element.innerHTML = '';\n",
              "        dataTable['output_type'] = 'display_data';\n",
              "        await google.colab.output.renderOutput(dataTable, element);\n",
              "        const docLink = document.createElement('div');\n",
              "        docLink.innerHTML = docLinkHtml;\n",
              "        element.appendChild(docLink);\n",
              "      }\n",
              "    </script>\n",
              "  </div>\n",
              "\n",
              "\n",
              "<div id=\"df-dfe36ca5-1891-43df-8149-cf23a4405295\">\n",
              "  <button class=\"colab-df-quickchart\" onclick=\"quickchart('df-dfe36ca5-1891-43df-8149-cf23a4405295')\"\n",
              "            title=\"Suggest charts.\"\n",
              "            style=\"display:none;\">\n",
              "\n",
              "<svg xmlns=\"http://www.w3.org/2000/svg\" height=\"24px\"viewBox=\"0 0 24 24\"\n",
              "     width=\"24px\">\n",
              "    <g>\n",
              "        <path d=\"M19 3H5c-1.1 0-2 .9-2 2v14c0 1.1.9 2 2 2h14c1.1 0 2-.9 2-2V5c0-1.1-.9-2-2-2zM9 17H7v-7h2v7zm4 0h-2V7h2v10zm4 0h-2v-4h2v4z\"/>\n",
              "    </g>\n",
              "</svg>\n",
              "  </button>\n",
              "\n",
              "<style>\n",
              "  .colab-df-quickchart {\n",
              "      --bg-color: #E8F0FE;\n",
              "      --fill-color: #1967D2;\n",
              "      --hover-bg-color: #E2EBFA;\n",
              "      --hover-fill-color: #174EA6;\n",
              "      --disabled-fill-color: #AAA;\n",
              "      --disabled-bg-color: #DDD;\n",
              "  }\n",
              "\n",
              "  [theme=dark] .colab-df-quickchart {\n",
              "      --bg-color: #3B4455;\n",
              "      --fill-color: #D2E3FC;\n",
              "      --hover-bg-color: #434B5C;\n",
              "      --hover-fill-color: #FFFFFF;\n",
              "      --disabled-bg-color: #3B4455;\n",
              "      --disabled-fill-color: #666;\n",
              "  }\n",
              "\n",
              "  .colab-df-quickchart {\n",
              "    background-color: var(--bg-color);\n",
              "    border: none;\n",
              "    border-radius: 50%;\n",
              "    cursor: pointer;\n",
              "    display: none;\n",
              "    fill: var(--fill-color);\n",
              "    height: 32px;\n",
              "    padding: 0;\n",
              "    width: 32px;\n",
              "  }\n",
              "\n",
              "  .colab-df-quickchart:hover {\n",
              "    background-color: var(--hover-bg-color);\n",
              "    box-shadow: 0 1px 2px rgba(60, 64, 67, 0.3), 0 1px 3px 1px rgba(60, 64, 67, 0.15);\n",
              "    fill: var(--button-hover-fill-color);\n",
              "  }\n",
              "\n",
              "  .colab-df-quickchart-complete:disabled,\n",
              "  .colab-df-quickchart-complete:disabled:hover {\n",
              "    background-color: var(--disabled-bg-color);\n",
              "    fill: var(--disabled-fill-color);\n",
              "    box-shadow: none;\n",
              "  }\n",
              "\n",
              "  .colab-df-spinner {\n",
              "    border: 2px solid var(--fill-color);\n",
              "    border-color: transparent;\n",
              "    border-bottom-color: var(--fill-color);\n",
              "    animation:\n",
              "      spin 1s steps(1) infinite;\n",
              "  }\n",
              "\n",
              "  @keyframes spin {\n",
              "    0% {\n",
              "      border-color: transparent;\n",
              "      border-bottom-color: var(--fill-color);\n",
              "      border-left-color: var(--fill-color);\n",
              "    }\n",
              "    20% {\n",
              "      border-color: transparent;\n",
              "      border-left-color: var(--fill-color);\n",
              "      border-top-color: var(--fill-color);\n",
              "    }\n",
              "    30% {\n",
              "      border-color: transparent;\n",
              "      border-left-color: var(--fill-color);\n",
              "      border-top-color: var(--fill-color);\n",
              "      border-right-color: var(--fill-color);\n",
              "    }\n",
              "    40% {\n",
              "      border-color: transparent;\n",
              "      border-right-color: var(--fill-color);\n",
              "      border-top-color: var(--fill-color);\n",
              "    }\n",
              "    60% {\n",
              "      border-color: transparent;\n",
              "      border-right-color: var(--fill-color);\n",
              "    }\n",
              "    80% {\n",
              "      border-color: transparent;\n",
              "      border-right-color: var(--fill-color);\n",
              "      border-bottom-color: var(--fill-color);\n",
              "    }\n",
              "    90% {\n",
              "      border-color: transparent;\n",
              "      border-bottom-color: var(--fill-color);\n",
              "    }\n",
              "  }\n",
              "</style>\n",
              "\n",
              "  <script>\n",
              "    async function quickchart(key) {\n",
              "      const quickchartButtonEl =\n",
              "        document.querySelector('#' + key + ' button');\n",
              "      quickchartButtonEl.disabled = true;  // To prevent multiple clicks.\n",
              "      quickchartButtonEl.classList.add('colab-df-spinner');\n",
              "      try {\n",
              "        const charts = await google.colab.kernel.invokeFunction(\n",
              "            'suggestCharts', [key], {});\n",
              "      } catch (error) {\n",
              "        console.error('Error during call to suggestCharts:', error);\n",
              "      }\n",
              "      quickchartButtonEl.classList.remove('colab-df-spinner');\n",
              "      quickchartButtonEl.classList.add('colab-df-quickchart-complete');\n",
              "    }\n",
              "    (() => {\n",
              "      let quickchartButtonEl =\n",
              "        document.querySelector('#df-dfe36ca5-1891-43df-8149-cf23a4405295 button');\n",
              "      quickchartButtonEl.style.display =\n",
              "        google.colab.kernel.accessAllowed ? 'block' : 'none';\n",
              "    })();\n",
              "  </script>\n",
              "</div>\n",
              "    </div>\n",
              "  </div>\n"
            ]
          },
          "metadata": {},
          "execution_count": 12
        }
      ]
    },
    {
      "cell_type": "markdown",
      "source": [
        "Now we have the countries, but they're represented using the [ISO 3166-1 alpha-2 standard](https://en.wikipedia.org/wiki/ISO_3166-1_alpha-2), where each country has a two-letter code. It'll be much easier to interpret our data if we have the full country name, so we'll need to do some data enrichment using [country converter](https://github.com/konstantinstadler/country_converter) library.\n",
        "\n",
        "Since `country_converter` is an open-source library, there are several things to think about before we can bring it into our project. The first thing we need to do is figure out if we're even allowed to use the library for the kind of project we're working on by taking a look at the library's license. `country_converter` has a [GNU General Public License](https://www.gnu.org/licenses/gpl-3.0.en.html), so there are no worries there.\n",
        "\n",
        "Second, we need to make sure the software is being actively maintained. If the last time anybody changed the library was back in 2014, we're probably going to run into some problems when we try to use it. `country_converter`'s last update is very recent, so we aren't going to have any trouble there either.\n",
        "\n",
        "Third, we need to see what kinds of quality-control measures are in place. Even if the library was updated five minutes ago and includes a license that gives us permission to do whatever we want, it's going to be entirely useless if it's full of mistakes. Happily, `country_converter`'s testing coverage and build badges look excellent, so we're good to go there as well.\n",
        "\n",
        "The last thing we need to do is make sure the library will do the things we need it to do by looking at its documentation. `country_converter`'s documentation is very thorough, so if we run into any problems, we'll almost certainly be able to figure out what went wrong.\n",
        "\n",
        "`country_converter` looks good across all those dimensions, so let's put it to work!"
      ],
      "metadata": {
        "id": "-jKwE6sACaqA"
      }
    },
    {
      "cell_type": "code",
      "source": [
        "# Instantiate a CountryConverter object named cc, and then use it to add a \"country_name\" column to the DataFrame df_nationality\n",
        "cc = CountryConverter()\n",
        "df_nationality[\"country_name\"] = cc.convert(\n",
        "    df_nationality[\"country_iso2\"], to=\"name_short\"\n",
        ")\n",
        "\n",
        "print(\"df_nationality shape:\", df_nationality.shape)\n",
        "df_nationality.head()"
      ],
      "metadata": {
        "id": "T-UCIQMUCrJw",
        "colab": {
          "base_uri": "https://localhost:8080/",
          "height": 224
        },
        "outputId": "00d91790-cf8a-4efd-8fc2-b06e0577748e"
      },
      "execution_count": 13,
      "outputs": [
        {
          "output_type": "stream",
          "name": "stdout",
          "text": [
            "df_nationality shape: (144, 3)\n"
          ]
        },
        {
          "output_type": "execute_result",
          "data": {
            "text/plain": [
              "    country_iso2  count            country_name\n",
              "102           GW      1           Guinea-Bissau\n",
              "108           BA      1  Bosnia and Herzegovina\n",
              "107           GQ      1       Equatorial Guinea\n",
              "25            TM      1            Turkmenistan\n",
              "26            SE      1                  Sweden"
            ],
            "text/html": [
              "\n",
              "  <div id=\"df-a3080765-f2a1-40bc-b814-d6f8e950b811\" class=\"colab-df-container\">\n",
              "    <div>\n",
              "<style scoped>\n",
              "    .dataframe tbody tr th:only-of-type {\n",
              "        vertical-align: middle;\n",
              "    }\n",
              "\n",
              "    .dataframe tbody tr th {\n",
              "        vertical-align: top;\n",
              "    }\n",
              "\n",
              "    .dataframe thead th {\n",
              "        text-align: right;\n",
              "    }\n",
              "</style>\n",
              "<table border=\"1\" class=\"dataframe\">\n",
              "  <thead>\n",
              "    <tr style=\"text-align: right;\">\n",
              "      <th></th>\n",
              "      <th>country_iso2</th>\n",
              "      <th>count</th>\n",
              "      <th>country_name</th>\n",
              "    </tr>\n",
              "  </thead>\n",
              "  <tbody>\n",
              "    <tr>\n",
              "      <th>102</th>\n",
              "      <td>GW</td>\n",
              "      <td>1</td>\n",
              "      <td>Guinea-Bissau</td>\n",
              "    </tr>\n",
              "    <tr>\n",
              "      <th>108</th>\n",
              "      <td>BA</td>\n",
              "      <td>1</td>\n",
              "      <td>Bosnia and Herzegovina</td>\n",
              "    </tr>\n",
              "    <tr>\n",
              "      <th>107</th>\n",
              "      <td>GQ</td>\n",
              "      <td>1</td>\n",
              "      <td>Equatorial Guinea</td>\n",
              "    </tr>\n",
              "    <tr>\n",
              "      <th>25</th>\n",
              "      <td>TM</td>\n",
              "      <td>1</td>\n",
              "      <td>Turkmenistan</td>\n",
              "    </tr>\n",
              "    <tr>\n",
              "      <th>26</th>\n",
              "      <td>SE</td>\n",
              "      <td>1</td>\n",
              "      <td>Sweden</td>\n",
              "    </tr>\n",
              "  </tbody>\n",
              "</table>\n",
              "</div>\n",
              "    <div class=\"colab-df-buttons\">\n",
              "\n",
              "  <div class=\"colab-df-container\">\n",
              "    <button class=\"colab-df-convert\" onclick=\"convertToInteractive('df-a3080765-f2a1-40bc-b814-d6f8e950b811')\"\n",
              "            title=\"Convert this dataframe to an interactive table.\"\n",
              "            style=\"display:none;\">\n",
              "\n",
              "  <svg xmlns=\"http://www.w3.org/2000/svg\" height=\"24px\" viewBox=\"0 -960 960 960\">\n",
              "    <path d=\"M120-120v-720h720v720H120Zm60-500h600v-160H180v160Zm220 220h160v-160H400v160Zm0 220h160v-160H400v160ZM180-400h160v-160H180v160Zm440 0h160v-160H620v160ZM180-180h160v-160H180v160Zm440 0h160v-160H620v160Z\"/>\n",
              "  </svg>\n",
              "    </button>\n",
              "\n",
              "  <style>\n",
              "    .colab-df-container {\n",
              "      display:flex;\n",
              "      gap: 12px;\n",
              "    }\n",
              "\n",
              "    .colab-df-convert {\n",
              "      background-color: #E8F0FE;\n",
              "      border: none;\n",
              "      border-radius: 50%;\n",
              "      cursor: pointer;\n",
              "      display: none;\n",
              "      fill: #1967D2;\n",
              "      height: 32px;\n",
              "      padding: 0 0 0 0;\n",
              "      width: 32px;\n",
              "    }\n",
              "\n",
              "    .colab-df-convert:hover {\n",
              "      background-color: #E2EBFA;\n",
              "      box-shadow: 0px 1px 2px rgba(60, 64, 67, 0.3), 0px 1px 3px 1px rgba(60, 64, 67, 0.15);\n",
              "      fill: #174EA6;\n",
              "    }\n",
              "\n",
              "    .colab-df-buttons div {\n",
              "      margin-bottom: 4px;\n",
              "    }\n",
              "\n",
              "    [theme=dark] .colab-df-convert {\n",
              "      background-color: #3B4455;\n",
              "      fill: #D2E3FC;\n",
              "    }\n",
              "\n",
              "    [theme=dark] .colab-df-convert:hover {\n",
              "      background-color: #434B5C;\n",
              "      box-shadow: 0px 1px 3px 1px rgba(0, 0, 0, 0.15);\n",
              "      filter: drop-shadow(0px 1px 2px rgba(0, 0, 0, 0.3));\n",
              "      fill: #FFFFFF;\n",
              "    }\n",
              "  </style>\n",
              "\n",
              "    <script>\n",
              "      const buttonEl =\n",
              "        document.querySelector('#df-a3080765-f2a1-40bc-b814-d6f8e950b811 button.colab-df-convert');\n",
              "      buttonEl.style.display =\n",
              "        google.colab.kernel.accessAllowed ? 'block' : 'none';\n",
              "\n",
              "      async function convertToInteractive(key) {\n",
              "        const element = document.querySelector('#df-a3080765-f2a1-40bc-b814-d6f8e950b811');\n",
              "        const dataTable =\n",
              "          await google.colab.kernel.invokeFunction('convertToInteractive',\n",
              "                                                    [key], {});\n",
              "        if (!dataTable) return;\n",
              "\n",
              "        const docLinkHtml = 'Like what you see? Visit the ' +\n",
              "          '<a target=\"_blank\" href=https://colab.research.google.com/notebooks/data_table.ipynb>data table notebook</a>'\n",
              "          + ' to learn more about interactive tables.';\n",
              "        element.innerHTML = '';\n",
              "        dataTable['output_type'] = 'display_data';\n",
              "        await google.colab.output.renderOutput(dataTable, element);\n",
              "        const docLink = document.createElement('div');\n",
              "        docLink.innerHTML = docLinkHtml;\n",
              "        element.appendChild(docLink);\n",
              "      }\n",
              "    </script>\n",
              "  </div>\n",
              "\n",
              "\n",
              "<div id=\"df-67a0ed99-4861-4f4e-8f20-652b679c0581\">\n",
              "  <button class=\"colab-df-quickchart\" onclick=\"quickchart('df-67a0ed99-4861-4f4e-8f20-652b679c0581')\"\n",
              "            title=\"Suggest charts.\"\n",
              "            style=\"display:none;\">\n",
              "\n",
              "<svg xmlns=\"http://www.w3.org/2000/svg\" height=\"24px\"viewBox=\"0 0 24 24\"\n",
              "     width=\"24px\">\n",
              "    <g>\n",
              "        <path d=\"M19 3H5c-1.1 0-2 .9-2 2v14c0 1.1.9 2 2 2h14c1.1 0 2-.9 2-2V5c0-1.1-.9-2-2-2zM9 17H7v-7h2v7zm4 0h-2V7h2v10zm4 0h-2v-4h2v4z\"/>\n",
              "    </g>\n",
              "</svg>\n",
              "  </button>\n",
              "\n",
              "<style>\n",
              "  .colab-df-quickchart {\n",
              "      --bg-color: #E8F0FE;\n",
              "      --fill-color: #1967D2;\n",
              "      --hover-bg-color: #E2EBFA;\n",
              "      --hover-fill-color: #174EA6;\n",
              "      --disabled-fill-color: #AAA;\n",
              "      --disabled-bg-color: #DDD;\n",
              "  }\n",
              "\n",
              "  [theme=dark] .colab-df-quickchart {\n",
              "      --bg-color: #3B4455;\n",
              "      --fill-color: #D2E3FC;\n",
              "      --hover-bg-color: #434B5C;\n",
              "      --hover-fill-color: #FFFFFF;\n",
              "      --disabled-bg-color: #3B4455;\n",
              "      --disabled-fill-color: #666;\n",
              "  }\n",
              "\n",
              "  .colab-df-quickchart {\n",
              "    background-color: var(--bg-color);\n",
              "    border: none;\n",
              "    border-radius: 50%;\n",
              "    cursor: pointer;\n",
              "    display: none;\n",
              "    fill: var(--fill-color);\n",
              "    height: 32px;\n",
              "    padding: 0;\n",
              "    width: 32px;\n",
              "  }\n",
              "\n",
              "  .colab-df-quickchart:hover {\n",
              "    background-color: var(--hover-bg-color);\n",
              "    box-shadow: 0 1px 2px rgba(60, 64, 67, 0.3), 0 1px 3px 1px rgba(60, 64, 67, 0.15);\n",
              "    fill: var(--button-hover-fill-color);\n",
              "  }\n",
              "\n",
              "  .colab-df-quickchart-complete:disabled,\n",
              "  .colab-df-quickchart-complete:disabled:hover {\n",
              "    background-color: var(--disabled-bg-color);\n",
              "    fill: var(--disabled-fill-color);\n",
              "    box-shadow: none;\n",
              "  }\n",
              "\n",
              "  .colab-df-spinner {\n",
              "    border: 2px solid var(--fill-color);\n",
              "    border-color: transparent;\n",
              "    border-bottom-color: var(--fill-color);\n",
              "    animation:\n",
              "      spin 1s steps(1) infinite;\n",
              "  }\n",
              "\n",
              "  @keyframes spin {\n",
              "    0% {\n",
              "      border-color: transparent;\n",
              "      border-bottom-color: var(--fill-color);\n",
              "      border-left-color: var(--fill-color);\n",
              "    }\n",
              "    20% {\n",
              "      border-color: transparent;\n",
              "      border-left-color: var(--fill-color);\n",
              "      border-top-color: var(--fill-color);\n",
              "    }\n",
              "    30% {\n",
              "      border-color: transparent;\n",
              "      border-left-color: var(--fill-color);\n",
              "      border-top-color: var(--fill-color);\n",
              "      border-right-color: var(--fill-color);\n",
              "    }\n",
              "    40% {\n",
              "      border-color: transparent;\n",
              "      border-right-color: var(--fill-color);\n",
              "      border-top-color: var(--fill-color);\n",
              "    }\n",
              "    60% {\n",
              "      border-color: transparent;\n",
              "      border-right-color: var(--fill-color);\n",
              "    }\n",
              "    80% {\n",
              "      border-color: transparent;\n",
              "      border-right-color: var(--fill-color);\n",
              "      border-bottom-color: var(--fill-color);\n",
              "    }\n",
              "    90% {\n",
              "      border-color: transparent;\n",
              "      border-bottom-color: var(--fill-color);\n",
              "    }\n",
              "  }\n",
              "</style>\n",
              "\n",
              "  <script>\n",
              "    async function quickchart(key) {\n",
              "      const quickchartButtonEl =\n",
              "        document.querySelector('#' + key + ' button');\n",
              "      quickchartButtonEl.disabled = true;  // To prevent multiple clicks.\n",
              "      quickchartButtonEl.classList.add('colab-df-spinner');\n",
              "      try {\n",
              "        const charts = await google.colab.kernel.invokeFunction(\n",
              "            'suggestCharts', [key], {});\n",
              "      } catch (error) {\n",
              "        console.error('Error during call to suggestCharts:', error);\n",
              "      }\n",
              "      quickchartButtonEl.classList.remove('colab-df-spinner');\n",
              "      quickchartButtonEl.classList.add('colab-df-quickchart-complete');\n",
              "    }\n",
              "    (() => {\n",
              "      let quickchartButtonEl =\n",
              "        document.querySelector('#df-67a0ed99-4861-4f4e-8f20-652b679c0581 button');\n",
              "      quickchartButtonEl.style.display =\n",
              "        google.colab.kernel.accessAllowed ? 'block' : 'none';\n",
              "    })();\n",
              "  </script>\n",
              "</div>\n",
              "    </div>\n",
              "  </div>\n"
            ]
          },
          "metadata": {},
          "execution_count": 13
        }
      ]
    },
    {
      "cell_type": "code",
      "source": [
        "# Create horizontal bar chart\n",
        "fig = px.bar(\n",
        "    data_frame = df_nationality.tail(10),\n",
        "    x = \"count\",\n",
        "    y = \"country_name\",\n",
        "    orientation = \"h\",\n",
        "    title = \"DS Applicants: Nationality\"\n",
        ")\n",
        "# Set axis labels\n",
        "fig.update_layout(xaxis_title = \"Frequency [count]\", yaxis_title = \"Country\")\n",
        "fig.show()"
      ],
      "metadata": {
        "id": "Y3Bd-KoTC8PE",
        "colab": {
          "base_uri": "https://localhost:8080/",
          "height": 542
        },
        "outputId": "20cdea0e-73e7-40ae-8102-1adfcb79eb16"
      },
      "execution_count": 14,
      "outputs": [
        {
          "output_type": "display_data",
          "data": {
            "text/html": [
              "<html>\n",
              "<head><meta charset=\"utf-8\" /></head>\n",
              "<body>\n",
              "    <div>            <script src=\"https://cdnjs.cloudflare.com/ajax/libs/mathjax/2.7.5/MathJax.js?config=TeX-AMS-MML_SVG\"></script><script type=\"text/javascript\">if (window.MathJax && window.MathJax.Hub && window.MathJax.Hub.Config) {window.MathJax.Hub.Config({SVG: {font: \"STIX-Web\"}});}</script>                <script type=\"text/javascript\">window.PlotlyConfig = {MathJaxConfig: 'local'};</script>\n",
              "        <script charset=\"utf-8\" src=\"https://cdn.plot.ly/plotly-2.24.1.min.js\"></script>                <div id=\"cf90c9eb-32d1-4e96-a13f-fc0c1a8f1373\" class=\"plotly-graph-div\" style=\"height:525px; width:100%;\"></div>            <script type=\"text/javascript\">                                    window.PLOTLYENV=window.PLOTLYENV || {};                                    if (document.getElementById(\"cf90c9eb-32d1-4e96-a13f-fc0c1a8f1373\")) {                    Plotly.newPlot(                        \"cf90c9eb-32d1-4e96-a13f-fc0c1a8f1373\",                        [{\"alignmentgroup\":\"True\",\"hovertemplate\":\"count=%{x}\\u003cbr\\u003ecountry_name=%{y}\\u003cextra\\u003e\\u003c\\u002fextra\\u003e\",\"legendgroup\":\"\",\"marker\":{\"color\":\"#636efa\",\"pattern\":{\"shape\":\"\"}},\"name\":\"\",\"offsetgroup\":\"\",\"orientation\":\"h\",\"showlegend\":false,\"textposition\":\"auto\",\"x\":[117,124,140,189,238,325,370,653,702,1533],\"xaxis\":\"x\",\"y\":[\"Zimbabwe\",\"United States\",\"Philippines\",\"Ghana\",\"Ethiopia\",\"Bangladesh\",\"Kenya\",\"India\",\"Pakistan\",\"Nigeria\"],\"yaxis\":\"y\",\"type\":\"bar\"}],                        {\"template\":{\"data\":{\"histogram2dcontour\":[{\"type\":\"histogram2dcontour\",\"colorbar\":{\"outlinewidth\":0,\"ticks\":\"\"},\"colorscale\":[[0.0,\"#0d0887\"],[0.1111111111111111,\"#46039f\"],[0.2222222222222222,\"#7201a8\"],[0.3333333333333333,\"#9c179e\"],[0.4444444444444444,\"#bd3786\"],[0.5555555555555556,\"#d8576b\"],[0.6666666666666666,\"#ed7953\"],[0.7777777777777778,\"#fb9f3a\"],[0.8888888888888888,\"#fdca26\"],[1.0,\"#f0f921\"]]}],\"choropleth\":[{\"type\":\"choropleth\",\"colorbar\":{\"outlinewidth\":0,\"ticks\":\"\"}}],\"histogram2d\":[{\"type\":\"histogram2d\",\"colorbar\":{\"outlinewidth\":0,\"ticks\":\"\"},\"colorscale\":[[0.0,\"#0d0887\"],[0.1111111111111111,\"#46039f\"],[0.2222222222222222,\"#7201a8\"],[0.3333333333333333,\"#9c179e\"],[0.4444444444444444,\"#bd3786\"],[0.5555555555555556,\"#d8576b\"],[0.6666666666666666,\"#ed7953\"],[0.7777777777777778,\"#fb9f3a\"],[0.8888888888888888,\"#fdca26\"],[1.0,\"#f0f921\"]]}],\"heatmap\":[{\"type\":\"heatmap\",\"colorbar\":{\"outlinewidth\":0,\"ticks\":\"\"},\"colorscale\":[[0.0,\"#0d0887\"],[0.1111111111111111,\"#46039f\"],[0.2222222222222222,\"#7201a8\"],[0.3333333333333333,\"#9c179e\"],[0.4444444444444444,\"#bd3786\"],[0.5555555555555556,\"#d8576b\"],[0.6666666666666666,\"#ed7953\"],[0.7777777777777778,\"#fb9f3a\"],[0.8888888888888888,\"#fdca26\"],[1.0,\"#f0f921\"]]}],\"heatmapgl\":[{\"type\":\"heatmapgl\",\"colorbar\":{\"outlinewidth\":0,\"ticks\":\"\"},\"colorscale\":[[0.0,\"#0d0887\"],[0.1111111111111111,\"#46039f\"],[0.2222222222222222,\"#7201a8\"],[0.3333333333333333,\"#9c179e\"],[0.4444444444444444,\"#bd3786\"],[0.5555555555555556,\"#d8576b\"],[0.6666666666666666,\"#ed7953\"],[0.7777777777777778,\"#fb9f3a\"],[0.8888888888888888,\"#fdca26\"],[1.0,\"#f0f921\"]]}],\"contourcarpet\":[{\"type\":\"contourcarpet\",\"colorbar\":{\"outlinewidth\":0,\"ticks\":\"\"}}],\"contour\":[{\"type\":\"contour\",\"colorbar\":{\"outlinewidth\":0,\"ticks\":\"\"},\"colorscale\":[[0.0,\"#0d0887\"],[0.1111111111111111,\"#46039f\"],[0.2222222222222222,\"#7201a8\"],[0.3333333333333333,\"#9c179e\"],[0.4444444444444444,\"#bd3786\"],[0.5555555555555556,\"#d8576b\"],[0.6666666666666666,\"#ed7953\"],[0.7777777777777778,\"#fb9f3a\"],[0.8888888888888888,\"#fdca26\"],[1.0,\"#f0f921\"]]}],\"surface\":[{\"type\":\"surface\",\"colorbar\":{\"outlinewidth\":0,\"ticks\":\"\"},\"colorscale\":[[0.0,\"#0d0887\"],[0.1111111111111111,\"#46039f\"],[0.2222222222222222,\"#7201a8\"],[0.3333333333333333,\"#9c179e\"],[0.4444444444444444,\"#bd3786\"],[0.5555555555555556,\"#d8576b\"],[0.6666666666666666,\"#ed7953\"],[0.7777777777777778,\"#fb9f3a\"],[0.8888888888888888,\"#fdca26\"],[1.0,\"#f0f921\"]]}],\"mesh3d\":[{\"type\":\"mesh3d\",\"colorbar\":{\"outlinewidth\":0,\"ticks\":\"\"}}],\"scatter\":[{\"fillpattern\":{\"fillmode\":\"overlay\",\"size\":10,\"solidity\":0.2},\"type\":\"scatter\"}],\"parcoords\":[{\"type\":\"parcoords\",\"line\":{\"colorbar\":{\"outlinewidth\":0,\"ticks\":\"\"}}}],\"scatterpolargl\":[{\"type\":\"scatterpolargl\",\"marker\":{\"colorbar\":{\"outlinewidth\":0,\"ticks\":\"\"}}}],\"bar\":[{\"error_x\":{\"color\":\"#2a3f5f\"},\"error_y\":{\"color\":\"#2a3f5f\"},\"marker\":{\"line\":{\"color\":\"#E5ECF6\",\"width\":0.5},\"pattern\":{\"fillmode\":\"overlay\",\"size\":10,\"solidity\":0.2}},\"type\":\"bar\"}],\"scattergeo\":[{\"type\":\"scattergeo\",\"marker\":{\"colorbar\":{\"outlinewidth\":0,\"ticks\":\"\"}}}],\"scatterpolar\":[{\"type\":\"scatterpolar\",\"marker\":{\"colorbar\":{\"outlinewidth\":0,\"ticks\":\"\"}}}],\"histogram\":[{\"marker\":{\"pattern\":{\"fillmode\":\"overlay\",\"size\":10,\"solidity\":0.2}},\"type\":\"histogram\"}],\"scattergl\":[{\"type\":\"scattergl\",\"marker\":{\"colorbar\":{\"outlinewidth\":0,\"ticks\":\"\"}}}],\"scatter3d\":[{\"type\":\"scatter3d\",\"line\":{\"colorbar\":{\"outlinewidth\":0,\"ticks\":\"\"}},\"marker\":{\"colorbar\":{\"outlinewidth\":0,\"ticks\":\"\"}}}],\"scattermapbox\":[{\"type\":\"scattermapbox\",\"marker\":{\"colorbar\":{\"outlinewidth\":0,\"ticks\":\"\"}}}],\"scatterternary\":[{\"type\":\"scatterternary\",\"marker\":{\"colorbar\":{\"outlinewidth\":0,\"ticks\":\"\"}}}],\"scattercarpet\":[{\"type\":\"scattercarpet\",\"marker\":{\"colorbar\":{\"outlinewidth\":0,\"ticks\":\"\"}}}],\"carpet\":[{\"aaxis\":{\"endlinecolor\":\"#2a3f5f\",\"gridcolor\":\"white\",\"linecolor\":\"white\",\"minorgridcolor\":\"white\",\"startlinecolor\":\"#2a3f5f\"},\"baxis\":{\"endlinecolor\":\"#2a3f5f\",\"gridcolor\":\"white\",\"linecolor\":\"white\",\"minorgridcolor\":\"white\",\"startlinecolor\":\"#2a3f5f\"},\"type\":\"carpet\"}],\"table\":[{\"cells\":{\"fill\":{\"color\":\"#EBF0F8\"},\"line\":{\"color\":\"white\"}},\"header\":{\"fill\":{\"color\":\"#C8D4E3\"},\"line\":{\"color\":\"white\"}},\"type\":\"table\"}],\"barpolar\":[{\"marker\":{\"line\":{\"color\":\"#E5ECF6\",\"width\":0.5},\"pattern\":{\"fillmode\":\"overlay\",\"size\":10,\"solidity\":0.2}},\"type\":\"barpolar\"}],\"pie\":[{\"automargin\":true,\"type\":\"pie\"}]},\"layout\":{\"autotypenumbers\":\"strict\",\"colorway\":[\"#636efa\",\"#EF553B\",\"#00cc96\",\"#ab63fa\",\"#FFA15A\",\"#19d3f3\",\"#FF6692\",\"#B6E880\",\"#FF97FF\",\"#FECB52\"],\"font\":{\"color\":\"#2a3f5f\"},\"hovermode\":\"closest\",\"hoverlabel\":{\"align\":\"left\"},\"paper_bgcolor\":\"white\",\"plot_bgcolor\":\"#E5ECF6\",\"polar\":{\"bgcolor\":\"#E5ECF6\",\"angularaxis\":{\"gridcolor\":\"white\",\"linecolor\":\"white\",\"ticks\":\"\"},\"radialaxis\":{\"gridcolor\":\"white\",\"linecolor\":\"white\",\"ticks\":\"\"}},\"ternary\":{\"bgcolor\":\"#E5ECF6\",\"aaxis\":{\"gridcolor\":\"white\",\"linecolor\":\"white\",\"ticks\":\"\"},\"baxis\":{\"gridcolor\":\"white\",\"linecolor\":\"white\",\"ticks\":\"\"},\"caxis\":{\"gridcolor\":\"white\",\"linecolor\":\"white\",\"ticks\":\"\"}},\"coloraxis\":{\"colorbar\":{\"outlinewidth\":0,\"ticks\":\"\"}},\"colorscale\":{\"sequential\":[[0.0,\"#0d0887\"],[0.1111111111111111,\"#46039f\"],[0.2222222222222222,\"#7201a8\"],[0.3333333333333333,\"#9c179e\"],[0.4444444444444444,\"#bd3786\"],[0.5555555555555556,\"#d8576b\"],[0.6666666666666666,\"#ed7953\"],[0.7777777777777778,\"#fb9f3a\"],[0.8888888888888888,\"#fdca26\"],[1.0,\"#f0f921\"]],\"sequentialminus\":[[0.0,\"#0d0887\"],[0.1111111111111111,\"#46039f\"],[0.2222222222222222,\"#7201a8\"],[0.3333333333333333,\"#9c179e\"],[0.4444444444444444,\"#bd3786\"],[0.5555555555555556,\"#d8576b\"],[0.6666666666666666,\"#ed7953\"],[0.7777777777777778,\"#fb9f3a\"],[0.8888888888888888,\"#fdca26\"],[1.0,\"#f0f921\"]],\"diverging\":[[0,\"#8e0152\"],[0.1,\"#c51b7d\"],[0.2,\"#de77ae\"],[0.3,\"#f1b6da\"],[0.4,\"#fde0ef\"],[0.5,\"#f7f7f7\"],[0.6,\"#e6f5d0\"],[0.7,\"#b8e186\"],[0.8,\"#7fbc41\"],[0.9,\"#4d9221\"],[1,\"#276419\"]]},\"xaxis\":{\"gridcolor\":\"white\",\"linecolor\":\"white\",\"ticks\":\"\",\"title\":{\"standoff\":15},\"zerolinecolor\":\"white\",\"automargin\":true,\"zerolinewidth\":2},\"yaxis\":{\"gridcolor\":\"white\",\"linecolor\":\"white\",\"ticks\":\"\",\"title\":{\"standoff\":15},\"zerolinecolor\":\"white\",\"automargin\":true,\"zerolinewidth\":2},\"scene\":{\"xaxis\":{\"backgroundcolor\":\"#E5ECF6\",\"gridcolor\":\"white\",\"linecolor\":\"white\",\"showbackground\":true,\"ticks\":\"\",\"zerolinecolor\":\"white\",\"gridwidth\":2},\"yaxis\":{\"backgroundcolor\":\"#E5ECF6\",\"gridcolor\":\"white\",\"linecolor\":\"white\",\"showbackground\":true,\"ticks\":\"\",\"zerolinecolor\":\"white\",\"gridwidth\":2},\"zaxis\":{\"backgroundcolor\":\"#E5ECF6\",\"gridcolor\":\"white\",\"linecolor\":\"white\",\"showbackground\":true,\"ticks\":\"\",\"zerolinecolor\":\"white\",\"gridwidth\":2}},\"shapedefaults\":{\"line\":{\"color\":\"#2a3f5f\"}},\"annotationdefaults\":{\"arrowcolor\":\"#2a3f5f\",\"arrowhead\":0,\"arrowwidth\":1},\"geo\":{\"bgcolor\":\"white\",\"landcolor\":\"#E5ECF6\",\"subunitcolor\":\"white\",\"showland\":true,\"showlakes\":true,\"lakecolor\":\"white\"},\"title\":{\"x\":0.05},\"mapbox\":{\"style\":\"light\"}}},\"xaxis\":{\"anchor\":\"y\",\"domain\":[0.0,1.0],\"title\":{\"text\":\"Frequency [count]\"}},\"yaxis\":{\"anchor\":\"x\",\"domain\":[0.0,1.0],\"title\":{\"text\":\"Country\"}},\"legend\":{\"tracegroupgap\":0},\"title\":{\"text\":\"DS Applicants: Nationality\"},\"barmode\":\"relative\"},                        {\"responsive\": true}                    ).then(function(){\n",
              "                            \n",
              "var gd = document.getElementById('cf90c9eb-32d1-4e96-a13f-fc0c1a8f1373');\n",
              "var x = new MutationObserver(function (mutations, observer) {{\n",
              "        var display = window.getComputedStyle(gd).display;\n",
              "        if (!display || display === 'none') {{\n",
              "            console.log([gd, 'removed!']);\n",
              "            Plotly.purge(gd);\n",
              "            observer.disconnect();\n",
              "        }}\n",
              "}});\n",
              "\n",
              "// Listen for the removal of the full notebook cells\n",
              "var notebookContainer = gd.closest('#notebook-container');\n",
              "if (notebookContainer) {{\n",
              "    x.observe(notebookContainer, {childList: true});\n",
              "}}\n",
              "\n",
              "// Listen for the clearing of the current output cell\n",
              "var outputEl = gd.closest('.output');\n",
              "if (outputEl) {{\n",
              "    x.observe(outputEl, {childList: true});\n",
              "}}\n",
              "\n",
              "                        })                };                            </script>        </div>\n",
              "</body>\n",
              "</html>"
            ]
          },
          "metadata": {}
        }
      ]
    },
    {
      "cell_type": "markdown",
      "source": [
        "That's showing us the raw number of applicants from each country, but since we're working with admissions data, it might be more helpful to see the proportion of applicants each country represents. We can get there by normalizing the dataset."
      ],
      "metadata": {
        "id": "Y9ccZZr5DFsa"
      }
    },
    {
      "cell_type": "code",
      "source": [
        "df_nationality[\"count_pct\"] = (\n",
        "    (df_nationality[\"count\"] / df_nationality[\"count\"].sum()) * 100\n",
        ")\n",
        "print(\"df_nationality shape:\", df_nationality.shape)\n",
        "df_nationality.head()"
      ],
      "metadata": {
        "id": "LCc9clhhDKLg",
        "colab": {
          "base_uri": "https://localhost:8080/",
          "height": 224
        },
        "outputId": "fcd07a70-1201-45f1-91cd-58c2befa453d"
      },
      "execution_count": 15,
      "outputs": [
        {
          "output_type": "stream",
          "name": "stdout",
          "text": [
            "df_nationality shape: (144, 4)\n"
          ]
        },
        {
          "output_type": "execute_result",
          "data": {
            "text/plain": [
              "    country_iso2  count            country_name  count_pct\n",
              "102           GW      1           Guinea-Bissau   0.015929\n",
              "108           BA      1  Bosnia and Herzegovina   0.015929\n",
              "107           GQ      1       Equatorial Guinea   0.015929\n",
              "25            TM      1            Turkmenistan   0.015929\n",
              "26            SE      1                  Sweden   0.015929"
            ],
            "text/html": [
              "\n",
              "  <div id=\"df-2973b44e-5538-4e59-804e-4fdd942b6715\" class=\"colab-df-container\">\n",
              "    <div>\n",
              "<style scoped>\n",
              "    .dataframe tbody tr th:only-of-type {\n",
              "        vertical-align: middle;\n",
              "    }\n",
              "\n",
              "    .dataframe tbody tr th {\n",
              "        vertical-align: top;\n",
              "    }\n",
              "\n",
              "    .dataframe thead th {\n",
              "        text-align: right;\n",
              "    }\n",
              "</style>\n",
              "<table border=\"1\" class=\"dataframe\">\n",
              "  <thead>\n",
              "    <tr style=\"text-align: right;\">\n",
              "      <th></th>\n",
              "      <th>country_iso2</th>\n",
              "      <th>count</th>\n",
              "      <th>country_name</th>\n",
              "      <th>count_pct</th>\n",
              "    </tr>\n",
              "  </thead>\n",
              "  <tbody>\n",
              "    <tr>\n",
              "      <th>102</th>\n",
              "      <td>GW</td>\n",
              "      <td>1</td>\n",
              "      <td>Guinea-Bissau</td>\n",
              "      <td>0.015929</td>\n",
              "    </tr>\n",
              "    <tr>\n",
              "      <th>108</th>\n",
              "      <td>BA</td>\n",
              "      <td>1</td>\n",
              "      <td>Bosnia and Herzegovina</td>\n",
              "      <td>0.015929</td>\n",
              "    </tr>\n",
              "    <tr>\n",
              "      <th>107</th>\n",
              "      <td>GQ</td>\n",
              "      <td>1</td>\n",
              "      <td>Equatorial Guinea</td>\n",
              "      <td>0.015929</td>\n",
              "    </tr>\n",
              "    <tr>\n",
              "      <th>25</th>\n",
              "      <td>TM</td>\n",
              "      <td>1</td>\n",
              "      <td>Turkmenistan</td>\n",
              "      <td>0.015929</td>\n",
              "    </tr>\n",
              "    <tr>\n",
              "      <th>26</th>\n",
              "      <td>SE</td>\n",
              "      <td>1</td>\n",
              "      <td>Sweden</td>\n",
              "      <td>0.015929</td>\n",
              "    </tr>\n",
              "  </tbody>\n",
              "</table>\n",
              "</div>\n",
              "    <div class=\"colab-df-buttons\">\n",
              "\n",
              "  <div class=\"colab-df-container\">\n",
              "    <button class=\"colab-df-convert\" onclick=\"convertToInteractive('df-2973b44e-5538-4e59-804e-4fdd942b6715')\"\n",
              "            title=\"Convert this dataframe to an interactive table.\"\n",
              "            style=\"display:none;\">\n",
              "\n",
              "  <svg xmlns=\"http://www.w3.org/2000/svg\" height=\"24px\" viewBox=\"0 -960 960 960\">\n",
              "    <path d=\"M120-120v-720h720v720H120Zm60-500h600v-160H180v160Zm220 220h160v-160H400v160Zm0 220h160v-160H400v160ZM180-400h160v-160H180v160Zm440 0h160v-160H620v160ZM180-180h160v-160H180v160Zm440 0h160v-160H620v160Z\"/>\n",
              "  </svg>\n",
              "    </button>\n",
              "\n",
              "  <style>\n",
              "    .colab-df-container {\n",
              "      display:flex;\n",
              "      gap: 12px;\n",
              "    }\n",
              "\n",
              "    .colab-df-convert {\n",
              "      background-color: #E8F0FE;\n",
              "      border: none;\n",
              "      border-radius: 50%;\n",
              "      cursor: pointer;\n",
              "      display: none;\n",
              "      fill: #1967D2;\n",
              "      height: 32px;\n",
              "      padding: 0 0 0 0;\n",
              "      width: 32px;\n",
              "    }\n",
              "\n",
              "    .colab-df-convert:hover {\n",
              "      background-color: #E2EBFA;\n",
              "      box-shadow: 0px 1px 2px rgba(60, 64, 67, 0.3), 0px 1px 3px 1px rgba(60, 64, 67, 0.15);\n",
              "      fill: #174EA6;\n",
              "    }\n",
              "\n",
              "    .colab-df-buttons div {\n",
              "      margin-bottom: 4px;\n",
              "    }\n",
              "\n",
              "    [theme=dark] .colab-df-convert {\n",
              "      background-color: #3B4455;\n",
              "      fill: #D2E3FC;\n",
              "    }\n",
              "\n",
              "    [theme=dark] .colab-df-convert:hover {\n",
              "      background-color: #434B5C;\n",
              "      box-shadow: 0px 1px 3px 1px rgba(0, 0, 0, 0.15);\n",
              "      filter: drop-shadow(0px 1px 2px rgba(0, 0, 0, 0.3));\n",
              "      fill: #FFFFFF;\n",
              "    }\n",
              "  </style>\n",
              "\n",
              "    <script>\n",
              "      const buttonEl =\n",
              "        document.querySelector('#df-2973b44e-5538-4e59-804e-4fdd942b6715 button.colab-df-convert');\n",
              "      buttonEl.style.display =\n",
              "        google.colab.kernel.accessAllowed ? 'block' : 'none';\n",
              "\n",
              "      async function convertToInteractive(key) {\n",
              "        const element = document.querySelector('#df-2973b44e-5538-4e59-804e-4fdd942b6715');\n",
              "        const dataTable =\n",
              "          await google.colab.kernel.invokeFunction('convertToInteractive',\n",
              "                                                    [key], {});\n",
              "        if (!dataTable) return;\n",
              "\n",
              "        const docLinkHtml = 'Like what you see? Visit the ' +\n",
              "          '<a target=\"_blank\" href=https://colab.research.google.com/notebooks/data_table.ipynb>data table notebook</a>'\n",
              "          + ' to learn more about interactive tables.';\n",
              "        element.innerHTML = '';\n",
              "        dataTable['output_type'] = 'display_data';\n",
              "        await google.colab.output.renderOutput(dataTable, element);\n",
              "        const docLink = document.createElement('div');\n",
              "        docLink.innerHTML = docLinkHtml;\n",
              "        element.appendChild(docLink);\n",
              "      }\n",
              "    </script>\n",
              "  </div>\n",
              "\n",
              "\n",
              "<div id=\"df-266e7917-9280-4e92-b135-e7c0aae9862a\">\n",
              "  <button class=\"colab-df-quickchart\" onclick=\"quickchart('df-266e7917-9280-4e92-b135-e7c0aae9862a')\"\n",
              "            title=\"Suggest charts.\"\n",
              "            style=\"display:none;\">\n",
              "\n",
              "<svg xmlns=\"http://www.w3.org/2000/svg\" height=\"24px\"viewBox=\"0 0 24 24\"\n",
              "     width=\"24px\">\n",
              "    <g>\n",
              "        <path d=\"M19 3H5c-1.1 0-2 .9-2 2v14c0 1.1.9 2 2 2h14c1.1 0 2-.9 2-2V5c0-1.1-.9-2-2-2zM9 17H7v-7h2v7zm4 0h-2V7h2v10zm4 0h-2v-4h2v4z\"/>\n",
              "    </g>\n",
              "</svg>\n",
              "  </button>\n",
              "\n",
              "<style>\n",
              "  .colab-df-quickchart {\n",
              "      --bg-color: #E8F0FE;\n",
              "      --fill-color: #1967D2;\n",
              "      --hover-bg-color: #E2EBFA;\n",
              "      --hover-fill-color: #174EA6;\n",
              "      --disabled-fill-color: #AAA;\n",
              "      --disabled-bg-color: #DDD;\n",
              "  }\n",
              "\n",
              "  [theme=dark] .colab-df-quickchart {\n",
              "      --bg-color: #3B4455;\n",
              "      --fill-color: #D2E3FC;\n",
              "      --hover-bg-color: #434B5C;\n",
              "      --hover-fill-color: #FFFFFF;\n",
              "      --disabled-bg-color: #3B4455;\n",
              "      --disabled-fill-color: #666;\n",
              "  }\n",
              "\n",
              "  .colab-df-quickchart {\n",
              "    background-color: var(--bg-color);\n",
              "    border: none;\n",
              "    border-radius: 50%;\n",
              "    cursor: pointer;\n",
              "    display: none;\n",
              "    fill: var(--fill-color);\n",
              "    height: 32px;\n",
              "    padding: 0;\n",
              "    width: 32px;\n",
              "  }\n",
              "\n",
              "  .colab-df-quickchart:hover {\n",
              "    background-color: var(--hover-bg-color);\n",
              "    box-shadow: 0 1px 2px rgba(60, 64, 67, 0.3), 0 1px 3px 1px rgba(60, 64, 67, 0.15);\n",
              "    fill: var(--button-hover-fill-color);\n",
              "  }\n",
              "\n",
              "  .colab-df-quickchart-complete:disabled,\n",
              "  .colab-df-quickchart-complete:disabled:hover {\n",
              "    background-color: var(--disabled-bg-color);\n",
              "    fill: var(--disabled-fill-color);\n",
              "    box-shadow: none;\n",
              "  }\n",
              "\n",
              "  .colab-df-spinner {\n",
              "    border: 2px solid var(--fill-color);\n",
              "    border-color: transparent;\n",
              "    border-bottom-color: var(--fill-color);\n",
              "    animation:\n",
              "      spin 1s steps(1) infinite;\n",
              "  }\n",
              "\n",
              "  @keyframes spin {\n",
              "    0% {\n",
              "      border-color: transparent;\n",
              "      border-bottom-color: var(--fill-color);\n",
              "      border-left-color: var(--fill-color);\n",
              "    }\n",
              "    20% {\n",
              "      border-color: transparent;\n",
              "      border-left-color: var(--fill-color);\n",
              "      border-top-color: var(--fill-color);\n",
              "    }\n",
              "    30% {\n",
              "      border-color: transparent;\n",
              "      border-left-color: var(--fill-color);\n",
              "      border-top-color: var(--fill-color);\n",
              "      border-right-color: var(--fill-color);\n",
              "    }\n",
              "    40% {\n",
              "      border-color: transparent;\n",
              "      border-right-color: var(--fill-color);\n",
              "      border-top-color: var(--fill-color);\n",
              "    }\n",
              "    60% {\n",
              "      border-color: transparent;\n",
              "      border-right-color: var(--fill-color);\n",
              "    }\n",
              "    80% {\n",
              "      border-color: transparent;\n",
              "      border-right-color: var(--fill-color);\n",
              "      border-bottom-color: var(--fill-color);\n",
              "    }\n",
              "    90% {\n",
              "      border-color: transparent;\n",
              "      border-bottom-color: var(--fill-color);\n",
              "    }\n",
              "  }\n",
              "</style>\n",
              "\n",
              "  <script>\n",
              "    async function quickchart(key) {\n",
              "      const quickchartButtonEl =\n",
              "        document.querySelector('#' + key + ' button');\n",
              "      quickchartButtonEl.disabled = true;  // To prevent multiple clicks.\n",
              "      quickchartButtonEl.classList.add('colab-df-spinner');\n",
              "      try {\n",
              "        const charts = await google.colab.kernel.invokeFunction(\n",
              "            'suggestCharts', [key], {});\n",
              "      } catch (error) {\n",
              "        console.error('Error during call to suggestCharts:', error);\n",
              "      }\n",
              "      quickchartButtonEl.classList.remove('colab-df-spinner');\n",
              "      quickchartButtonEl.classList.add('colab-df-quickchart-complete');\n",
              "    }\n",
              "    (() => {\n",
              "      let quickchartButtonEl =\n",
              "        document.querySelector('#df-266e7917-9280-4e92-b135-e7c0aae9862a button');\n",
              "      quickchartButtonEl.style.display =\n",
              "        google.colab.kernel.accessAllowed ? 'block' : 'none';\n",
              "    })();\n",
              "  </script>\n",
              "</div>\n",
              "    </div>\n",
              "  </div>\n"
            ]
          },
          "metadata": {},
          "execution_count": 15
        }
      ]
    },
    {
      "cell_type": "markdown",
      "source": [
        "Now we can turn that into a new bar chart."
      ],
      "metadata": {
        "id": "jYtuQtN8DSJq"
      }
    },
    {
      "cell_type": "code",
      "source": [
        "# Create horizontal bar chart\n",
        "fig = px.bar(\n",
        "    data_frame = df_nationality.tail(10),\n",
        "    x = \"count_pct\",\n",
        "    y = \"country_name\",\n",
        "    orientation = \"h\",\n",
        "    title = \"DS Applicants: Nationality\"\n",
        ")\n",
        "# Set axis labels\n",
        "fig.update_layout(xaxis_title=\"Frequency [%]\", yaxis_title = \"Country\")\n",
        "fig.show()"
      ],
      "metadata": {
        "id": "xDLKVvPJDYTr",
        "colab": {
          "base_uri": "https://localhost:8080/",
          "height": 542
        },
        "outputId": "1e47441b-6fe0-4bd4-b75e-34e27f8020f3"
      },
      "execution_count": 16,
      "outputs": [
        {
          "output_type": "display_data",
          "data": {
            "text/html": [
              "<html>\n",
              "<head><meta charset=\"utf-8\" /></head>\n",
              "<body>\n",
              "    <div>            <script src=\"https://cdnjs.cloudflare.com/ajax/libs/mathjax/2.7.5/MathJax.js?config=TeX-AMS-MML_SVG\"></script><script type=\"text/javascript\">if (window.MathJax && window.MathJax.Hub && window.MathJax.Hub.Config) {window.MathJax.Hub.Config({SVG: {font: \"STIX-Web\"}});}</script>                <script type=\"text/javascript\">window.PlotlyConfig = {MathJaxConfig: 'local'};</script>\n",
              "        <script charset=\"utf-8\" src=\"https://cdn.plot.ly/plotly-2.24.1.min.js\"></script>                <div id=\"db625a08-96c7-42f1-b7b2-ca87934decf4\" class=\"plotly-graph-div\" style=\"height:525px; width:100%;\"></div>            <script type=\"text/javascript\">                                    window.PLOTLYENV=window.PLOTLYENV || {};                                    if (document.getElementById(\"db625a08-96c7-42f1-b7b2-ca87934decf4\")) {                    Plotly.newPlot(                        \"db625a08-96c7-42f1-b7b2-ca87934decf4\",                        [{\"alignmentgroup\":\"True\",\"hovertemplate\":\"count_pct=%{x}\\u003cbr\\u003ecountry_name=%{y}\\u003cextra\\u003e\\u003c\\u002fextra\\u003e\",\"legendgroup\":\"\",\"marker\":{\"color\":\"#636efa\",\"pattern\":{\"shape\":\"\"}},\"name\":\"\",\"offsetgroup\":\"\",\"orientation\":\"h\",\"showlegend\":false,\"textposition\":\"auto\",\"x\":[1.8636508442179038,1.9751513220770944,2.2300095571838168,3.010512902198152,3.7910162472124878,5.176807900605288,5.893596686842944,10.401401720293087,11.181905065307422,24.418604651162788],\"xaxis\":\"x\",\"y\":[\"Zimbabwe\",\"United States\",\"Philippines\",\"Ghana\",\"Ethiopia\",\"Bangladesh\",\"Kenya\",\"India\",\"Pakistan\",\"Nigeria\"],\"yaxis\":\"y\",\"type\":\"bar\"}],                        {\"template\":{\"data\":{\"histogram2dcontour\":[{\"type\":\"histogram2dcontour\",\"colorbar\":{\"outlinewidth\":0,\"ticks\":\"\"},\"colorscale\":[[0.0,\"#0d0887\"],[0.1111111111111111,\"#46039f\"],[0.2222222222222222,\"#7201a8\"],[0.3333333333333333,\"#9c179e\"],[0.4444444444444444,\"#bd3786\"],[0.5555555555555556,\"#d8576b\"],[0.6666666666666666,\"#ed7953\"],[0.7777777777777778,\"#fb9f3a\"],[0.8888888888888888,\"#fdca26\"],[1.0,\"#f0f921\"]]}],\"choropleth\":[{\"type\":\"choropleth\",\"colorbar\":{\"outlinewidth\":0,\"ticks\":\"\"}}],\"histogram2d\":[{\"type\":\"histogram2d\",\"colorbar\":{\"outlinewidth\":0,\"ticks\":\"\"},\"colorscale\":[[0.0,\"#0d0887\"],[0.1111111111111111,\"#46039f\"],[0.2222222222222222,\"#7201a8\"],[0.3333333333333333,\"#9c179e\"],[0.4444444444444444,\"#bd3786\"],[0.5555555555555556,\"#d8576b\"],[0.6666666666666666,\"#ed7953\"],[0.7777777777777778,\"#fb9f3a\"],[0.8888888888888888,\"#fdca26\"],[1.0,\"#f0f921\"]]}],\"heatmap\":[{\"type\":\"heatmap\",\"colorbar\":{\"outlinewidth\":0,\"ticks\":\"\"},\"colorscale\":[[0.0,\"#0d0887\"],[0.1111111111111111,\"#46039f\"],[0.2222222222222222,\"#7201a8\"],[0.3333333333333333,\"#9c179e\"],[0.4444444444444444,\"#bd3786\"],[0.5555555555555556,\"#d8576b\"],[0.6666666666666666,\"#ed7953\"],[0.7777777777777778,\"#fb9f3a\"],[0.8888888888888888,\"#fdca26\"],[1.0,\"#f0f921\"]]}],\"heatmapgl\":[{\"type\":\"heatmapgl\",\"colorbar\":{\"outlinewidth\":0,\"ticks\":\"\"},\"colorscale\":[[0.0,\"#0d0887\"],[0.1111111111111111,\"#46039f\"],[0.2222222222222222,\"#7201a8\"],[0.3333333333333333,\"#9c179e\"],[0.4444444444444444,\"#bd3786\"],[0.5555555555555556,\"#d8576b\"],[0.6666666666666666,\"#ed7953\"],[0.7777777777777778,\"#fb9f3a\"],[0.8888888888888888,\"#fdca26\"],[1.0,\"#f0f921\"]]}],\"contourcarpet\":[{\"type\":\"contourcarpet\",\"colorbar\":{\"outlinewidth\":0,\"ticks\":\"\"}}],\"contour\":[{\"type\":\"contour\",\"colorbar\":{\"outlinewidth\":0,\"ticks\":\"\"},\"colorscale\":[[0.0,\"#0d0887\"],[0.1111111111111111,\"#46039f\"],[0.2222222222222222,\"#7201a8\"],[0.3333333333333333,\"#9c179e\"],[0.4444444444444444,\"#bd3786\"],[0.5555555555555556,\"#d8576b\"],[0.6666666666666666,\"#ed7953\"],[0.7777777777777778,\"#fb9f3a\"],[0.8888888888888888,\"#fdca26\"],[1.0,\"#f0f921\"]]}],\"surface\":[{\"type\":\"surface\",\"colorbar\":{\"outlinewidth\":0,\"ticks\":\"\"},\"colorscale\":[[0.0,\"#0d0887\"],[0.1111111111111111,\"#46039f\"],[0.2222222222222222,\"#7201a8\"],[0.3333333333333333,\"#9c179e\"],[0.4444444444444444,\"#bd3786\"],[0.5555555555555556,\"#d8576b\"],[0.6666666666666666,\"#ed7953\"],[0.7777777777777778,\"#fb9f3a\"],[0.8888888888888888,\"#fdca26\"],[1.0,\"#f0f921\"]]}],\"mesh3d\":[{\"type\":\"mesh3d\",\"colorbar\":{\"outlinewidth\":0,\"ticks\":\"\"}}],\"scatter\":[{\"fillpattern\":{\"fillmode\":\"overlay\",\"size\":10,\"solidity\":0.2},\"type\":\"scatter\"}],\"parcoords\":[{\"type\":\"parcoords\",\"line\":{\"colorbar\":{\"outlinewidth\":0,\"ticks\":\"\"}}}],\"scatterpolargl\":[{\"type\":\"scatterpolargl\",\"marker\":{\"colorbar\":{\"outlinewidth\":0,\"ticks\":\"\"}}}],\"bar\":[{\"error_x\":{\"color\":\"#2a3f5f\"},\"error_y\":{\"color\":\"#2a3f5f\"},\"marker\":{\"line\":{\"color\":\"#E5ECF6\",\"width\":0.5},\"pattern\":{\"fillmode\":\"overlay\",\"size\":10,\"solidity\":0.2}},\"type\":\"bar\"}],\"scattergeo\":[{\"type\":\"scattergeo\",\"marker\":{\"colorbar\":{\"outlinewidth\":0,\"ticks\":\"\"}}}],\"scatterpolar\":[{\"type\":\"scatterpolar\",\"marker\":{\"colorbar\":{\"outlinewidth\":0,\"ticks\":\"\"}}}],\"histogram\":[{\"marker\":{\"pattern\":{\"fillmode\":\"overlay\",\"size\":10,\"solidity\":0.2}},\"type\":\"histogram\"}],\"scattergl\":[{\"type\":\"scattergl\",\"marker\":{\"colorbar\":{\"outlinewidth\":0,\"ticks\":\"\"}}}],\"scatter3d\":[{\"type\":\"scatter3d\",\"line\":{\"colorbar\":{\"outlinewidth\":0,\"ticks\":\"\"}},\"marker\":{\"colorbar\":{\"outlinewidth\":0,\"ticks\":\"\"}}}],\"scattermapbox\":[{\"type\":\"scattermapbox\",\"marker\":{\"colorbar\":{\"outlinewidth\":0,\"ticks\":\"\"}}}],\"scatterternary\":[{\"type\":\"scatterternary\",\"marker\":{\"colorbar\":{\"outlinewidth\":0,\"ticks\":\"\"}}}],\"scattercarpet\":[{\"type\":\"scattercarpet\",\"marker\":{\"colorbar\":{\"outlinewidth\":0,\"ticks\":\"\"}}}],\"carpet\":[{\"aaxis\":{\"endlinecolor\":\"#2a3f5f\",\"gridcolor\":\"white\",\"linecolor\":\"white\",\"minorgridcolor\":\"white\",\"startlinecolor\":\"#2a3f5f\"},\"baxis\":{\"endlinecolor\":\"#2a3f5f\",\"gridcolor\":\"white\",\"linecolor\":\"white\",\"minorgridcolor\":\"white\",\"startlinecolor\":\"#2a3f5f\"},\"type\":\"carpet\"}],\"table\":[{\"cells\":{\"fill\":{\"color\":\"#EBF0F8\"},\"line\":{\"color\":\"white\"}},\"header\":{\"fill\":{\"color\":\"#C8D4E3\"},\"line\":{\"color\":\"white\"}},\"type\":\"table\"}],\"barpolar\":[{\"marker\":{\"line\":{\"color\":\"#E5ECF6\",\"width\":0.5},\"pattern\":{\"fillmode\":\"overlay\",\"size\":10,\"solidity\":0.2}},\"type\":\"barpolar\"}],\"pie\":[{\"automargin\":true,\"type\":\"pie\"}]},\"layout\":{\"autotypenumbers\":\"strict\",\"colorway\":[\"#636efa\",\"#EF553B\",\"#00cc96\",\"#ab63fa\",\"#FFA15A\",\"#19d3f3\",\"#FF6692\",\"#B6E880\",\"#FF97FF\",\"#FECB52\"],\"font\":{\"color\":\"#2a3f5f\"},\"hovermode\":\"closest\",\"hoverlabel\":{\"align\":\"left\"},\"paper_bgcolor\":\"white\",\"plot_bgcolor\":\"#E5ECF6\",\"polar\":{\"bgcolor\":\"#E5ECF6\",\"angularaxis\":{\"gridcolor\":\"white\",\"linecolor\":\"white\",\"ticks\":\"\"},\"radialaxis\":{\"gridcolor\":\"white\",\"linecolor\":\"white\",\"ticks\":\"\"}},\"ternary\":{\"bgcolor\":\"#E5ECF6\",\"aaxis\":{\"gridcolor\":\"white\",\"linecolor\":\"white\",\"ticks\":\"\"},\"baxis\":{\"gridcolor\":\"white\",\"linecolor\":\"white\",\"ticks\":\"\"},\"caxis\":{\"gridcolor\":\"white\",\"linecolor\":\"white\",\"ticks\":\"\"}},\"coloraxis\":{\"colorbar\":{\"outlinewidth\":0,\"ticks\":\"\"}},\"colorscale\":{\"sequential\":[[0.0,\"#0d0887\"],[0.1111111111111111,\"#46039f\"],[0.2222222222222222,\"#7201a8\"],[0.3333333333333333,\"#9c179e\"],[0.4444444444444444,\"#bd3786\"],[0.5555555555555556,\"#d8576b\"],[0.6666666666666666,\"#ed7953\"],[0.7777777777777778,\"#fb9f3a\"],[0.8888888888888888,\"#fdca26\"],[1.0,\"#f0f921\"]],\"sequentialminus\":[[0.0,\"#0d0887\"],[0.1111111111111111,\"#46039f\"],[0.2222222222222222,\"#7201a8\"],[0.3333333333333333,\"#9c179e\"],[0.4444444444444444,\"#bd3786\"],[0.5555555555555556,\"#d8576b\"],[0.6666666666666666,\"#ed7953\"],[0.7777777777777778,\"#fb9f3a\"],[0.8888888888888888,\"#fdca26\"],[1.0,\"#f0f921\"]],\"diverging\":[[0,\"#8e0152\"],[0.1,\"#c51b7d\"],[0.2,\"#de77ae\"],[0.3,\"#f1b6da\"],[0.4,\"#fde0ef\"],[0.5,\"#f7f7f7\"],[0.6,\"#e6f5d0\"],[0.7,\"#b8e186\"],[0.8,\"#7fbc41\"],[0.9,\"#4d9221\"],[1,\"#276419\"]]},\"xaxis\":{\"gridcolor\":\"white\",\"linecolor\":\"white\",\"ticks\":\"\",\"title\":{\"standoff\":15},\"zerolinecolor\":\"white\",\"automargin\":true,\"zerolinewidth\":2},\"yaxis\":{\"gridcolor\":\"white\",\"linecolor\":\"white\",\"ticks\":\"\",\"title\":{\"standoff\":15},\"zerolinecolor\":\"white\",\"automargin\":true,\"zerolinewidth\":2},\"scene\":{\"xaxis\":{\"backgroundcolor\":\"#E5ECF6\",\"gridcolor\":\"white\",\"linecolor\":\"white\",\"showbackground\":true,\"ticks\":\"\",\"zerolinecolor\":\"white\",\"gridwidth\":2},\"yaxis\":{\"backgroundcolor\":\"#E5ECF6\",\"gridcolor\":\"white\",\"linecolor\":\"white\",\"showbackground\":true,\"ticks\":\"\",\"zerolinecolor\":\"white\",\"gridwidth\":2},\"zaxis\":{\"backgroundcolor\":\"#E5ECF6\",\"gridcolor\":\"white\",\"linecolor\":\"white\",\"showbackground\":true,\"ticks\":\"\",\"zerolinecolor\":\"white\",\"gridwidth\":2}},\"shapedefaults\":{\"line\":{\"color\":\"#2a3f5f\"}},\"annotationdefaults\":{\"arrowcolor\":\"#2a3f5f\",\"arrowhead\":0,\"arrowwidth\":1},\"geo\":{\"bgcolor\":\"white\",\"landcolor\":\"#E5ECF6\",\"subunitcolor\":\"white\",\"showland\":true,\"showlakes\":true,\"lakecolor\":\"white\"},\"title\":{\"x\":0.05},\"mapbox\":{\"style\":\"light\"}}},\"xaxis\":{\"anchor\":\"y\",\"domain\":[0.0,1.0],\"title\":{\"text\":\"Frequency [%]\"}},\"yaxis\":{\"anchor\":\"x\",\"domain\":[0.0,1.0],\"title\":{\"text\":\"Country\"}},\"legend\":{\"tracegroupgap\":0},\"title\":{\"text\":\"DS Applicants: Nationality\"},\"barmode\":\"relative\"},                        {\"responsive\": true}                    ).then(function(){\n",
              "                            \n",
              "var gd = document.getElementById('db625a08-96c7-42f1-b7b2-ca87934decf4');\n",
              "var x = new MutationObserver(function (mutations, observer) {{\n",
              "        var display = window.getComputedStyle(gd).display;\n",
              "        if (!display || display === 'none') {{\n",
              "            console.log([gd, 'removed!']);\n",
              "            Plotly.purge(gd);\n",
              "            observer.disconnect();\n",
              "        }}\n",
              "}});\n",
              "\n",
              "// Listen for the removal of the full notebook cells\n",
              "var notebookContainer = gd.closest('#notebook-container');\n",
              "if (notebookContainer) {{\n",
              "    x.observe(notebookContainer, {childList: true});\n",
              "}}\n",
              "\n",
              "// Listen for the clearing of the current output cell\n",
              "var outputEl = gd.closest('.output');\n",
              "if (outputEl) {{\n",
              "    x.observe(outputEl, {childList: true});\n",
              "}}\n",
              "\n",
              "                        })                };                            </script>        </div>\n",
              "</body>\n",
              "</html>"
            ]
          },
          "metadata": {}
        }
      ]
    },
    {
      "cell_type": "markdown",
      "source": [
        "Bar charts are useful, but since we're talking about actual places here, let's see how this data looks when we put it on a world map. However, plotly express requires the [ISO 3166-1 alpha-3](https://en.wikipedia.org/wiki/ISO_3166-1_alpha-3) codes. This means that we'll need to add another column to our DataFrame before we can make our visualization."
      ],
      "metadata": {
        "id": "Hng48VGfDesV"
      }
    },
    {
      "cell_type": "code",
      "source": [
        "df_nationality[\"country_iso3\"] = cc.convert(df_nationality[\"country_iso2\"], to = \"ISO3\")\n",
        "\n",
        "print(\"df_nationality shape:\", df_nationality.shape)\n",
        "df_nationality.head()"
      ],
      "metadata": {
        "id": "J03_BuhWDjxZ",
        "colab": {
          "base_uri": "https://localhost:8080/",
          "height": 224
        },
        "outputId": "6d0d8ba5-43ca-4326-9c87-19ba64b96393"
      },
      "execution_count": 17,
      "outputs": [
        {
          "output_type": "stream",
          "name": "stdout",
          "text": [
            "df_nationality shape: (144, 5)\n"
          ]
        },
        {
          "output_type": "execute_result",
          "data": {
            "text/plain": [
              "    country_iso2  count            country_name  count_pct country_iso3\n",
              "102           GW      1           Guinea-Bissau   0.015929          GNB\n",
              "108           BA      1  Bosnia and Herzegovina   0.015929          BIH\n",
              "107           GQ      1       Equatorial Guinea   0.015929          GNQ\n",
              "25            TM      1            Turkmenistan   0.015929          TKM\n",
              "26            SE      1                  Sweden   0.015929          SWE"
            ],
            "text/html": [
              "\n",
              "  <div id=\"df-4aa90ec2-2589-4ffc-b6db-8b7d24606bca\" class=\"colab-df-container\">\n",
              "    <div>\n",
              "<style scoped>\n",
              "    .dataframe tbody tr th:only-of-type {\n",
              "        vertical-align: middle;\n",
              "    }\n",
              "\n",
              "    .dataframe tbody tr th {\n",
              "        vertical-align: top;\n",
              "    }\n",
              "\n",
              "    .dataframe thead th {\n",
              "        text-align: right;\n",
              "    }\n",
              "</style>\n",
              "<table border=\"1\" class=\"dataframe\">\n",
              "  <thead>\n",
              "    <tr style=\"text-align: right;\">\n",
              "      <th></th>\n",
              "      <th>country_iso2</th>\n",
              "      <th>count</th>\n",
              "      <th>country_name</th>\n",
              "      <th>count_pct</th>\n",
              "      <th>country_iso3</th>\n",
              "    </tr>\n",
              "  </thead>\n",
              "  <tbody>\n",
              "    <tr>\n",
              "      <th>102</th>\n",
              "      <td>GW</td>\n",
              "      <td>1</td>\n",
              "      <td>Guinea-Bissau</td>\n",
              "      <td>0.015929</td>\n",
              "      <td>GNB</td>\n",
              "    </tr>\n",
              "    <tr>\n",
              "      <th>108</th>\n",
              "      <td>BA</td>\n",
              "      <td>1</td>\n",
              "      <td>Bosnia and Herzegovina</td>\n",
              "      <td>0.015929</td>\n",
              "      <td>BIH</td>\n",
              "    </tr>\n",
              "    <tr>\n",
              "      <th>107</th>\n",
              "      <td>GQ</td>\n",
              "      <td>1</td>\n",
              "      <td>Equatorial Guinea</td>\n",
              "      <td>0.015929</td>\n",
              "      <td>GNQ</td>\n",
              "    </tr>\n",
              "    <tr>\n",
              "      <th>25</th>\n",
              "      <td>TM</td>\n",
              "      <td>1</td>\n",
              "      <td>Turkmenistan</td>\n",
              "      <td>0.015929</td>\n",
              "      <td>TKM</td>\n",
              "    </tr>\n",
              "    <tr>\n",
              "      <th>26</th>\n",
              "      <td>SE</td>\n",
              "      <td>1</td>\n",
              "      <td>Sweden</td>\n",
              "      <td>0.015929</td>\n",
              "      <td>SWE</td>\n",
              "    </tr>\n",
              "  </tbody>\n",
              "</table>\n",
              "</div>\n",
              "    <div class=\"colab-df-buttons\">\n",
              "\n",
              "  <div class=\"colab-df-container\">\n",
              "    <button class=\"colab-df-convert\" onclick=\"convertToInteractive('df-4aa90ec2-2589-4ffc-b6db-8b7d24606bca')\"\n",
              "            title=\"Convert this dataframe to an interactive table.\"\n",
              "            style=\"display:none;\">\n",
              "\n",
              "  <svg xmlns=\"http://www.w3.org/2000/svg\" height=\"24px\" viewBox=\"0 -960 960 960\">\n",
              "    <path d=\"M120-120v-720h720v720H120Zm60-500h600v-160H180v160Zm220 220h160v-160H400v160Zm0 220h160v-160H400v160ZM180-400h160v-160H180v160Zm440 0h160v-160H620v160ZM180-180h160v-160H180v160Zm440 0h160v-160H620v160Z\"/>\n",
              "  </svg>\n",
              "    </button>\n",
              "\n",
              "  <style>\n",
              "    .colab-df-container {\n",
              "      display:flex;\n",
              "      gap: 12px;\n",
              "    }\n",
              "\n",
              "    .colab-df-convert {\n",
              "      background-color: #E8F0FE;\n",
              "      border: none;\n",
              "      border-radius: 50%;\n",
              "      cursor: pointer;\n",
              "      display: none;\n",
              "      fill: #1967D2;\n",
              "      height: 32px;\n",
              "      padding: 0 0 0 0;\n",
              "      width: 32px;\n",
              "    }\n",
              "\n",
              "    .colab-df-convert:hover {\n",
              "      background-color: #E2EBFA;\n",
              "      box-shadow: 0px 1px 2px rgba(60, 64, 67, 0.3), 0px 1px 3px 1px rgba(60, 64, 67, 0.15);\n",
              "      fill: #174EA6;\n",
              "    }\n",
              "\n",
              "    .colab-df-buttons div {\n",
              "      margin-bottom: 4px;\n",
              "    }\n",
              "\n",
              "    [theme=dark] .colab-df-convert {\n",
              "      background-color: #3B4455;\n",
              "      fill: #D2E3FC;\n",
              "    }\n",
              "\n",
              "    [theme=dark] .colab-df-convert:hover {\n",
              "      background-color: #434B5C;\n",
              "      box-shadow: 0px 1px 3px 1px rgba(0, 0, 0, 0.15);\n",
              "      filter: drop-shadow(0px 1px 2px rgba(0, 0, 0, 0.3));\n",
              "      fill: #FFFFFF;\n",
              "    }\n",
              "  </style>\n",
              "\n",
              "    <script>\n",
              "      const buttonEl =\n",
              "        document.querySelector('#df-4aa90ec2-2589-4ffc-b6db-8b7d24606bca button.colab-df-convert');\n",
              "      buttonEl.style.display =\n",
              "        google.colab.kernel.accessAllowed ? 'block' : 'none';\n",
              "\n",
              "      async function convertToInteractive(key) {\n",
              "        const element = document.querySelector('#df-4aa90ec2-2589-4ffc-b6db-8b7d24606bca');\n",
              "        const dataTable =\n",
              "          await google.colab.kernel.invokeFunction('convertToInteractive',\n",
              "                                                    [key], {});\n",
              "        if (!dataTable) return;\n",
              "\n",
              "        const docLinkHtml = 'Like what you see? Visit the ' +\n",
              "          '<a target=\"_blank\" href=https://colab.research.google.com/notebooks/data_table.ipynb>data table notebook</a>'\n",
              "          + ' to learn more about interactive tables.';\n",
              "        element.innerHTML = '';\n",
              "        dataTable['output_type'] = 'display_data';\n",
              "        await google.colab.output.renderOutput(dataTable, element);\n",
              "        const docLink = document.createElement('div');\n",
              "        docLink.innerHTML = docLinkHtml;\n",
              "        element.appendChild(docLink);\n",
              "      }\n",
              "    </script>\n",
              "  </div>\n",
              "\n",
              "\n",
              "<div id=\"df-c3413db9-2e70-4e0c-9898-a3c75e02ddd5\">\n",
              "  <button class=\"colab-df-quickchart\" onclick=\"quickchart('df-c3413db9-2e70-4e0c-9898-a3c75e02ddd5')\"\n",
              "            title=\"Suggest charts.\"\n",
              "            style=\"display:none;\">\n",
              "\n",
              "<svg xmlns=\"http://www.w3.org/2000/svg\" height=\"24px\"viewBox=\"0 0 24 24\"\n",
              "     width=\"24px\">\n",
              "    <g>\n",
              "        <path d=\"M19 3H5c-1.1 0-2 .9-2 2v14c0 1.1.9 2 2 2h14c1.1 0 2-.9 2-2V5c0-1.1-.9-2-2-2zM9 17H7v-7h2v7zm4 0h-2V7h2v10zm4 0h-2v-4h2v4z\"/>\n",
              "    </g>\n",
              "</svg>\n",
              "  </button>\n",
              "\n",
              "<style>\n",
              "  .colab-df-quickchart {\n",
              "      --bg-color: #E8F0FE;\n",
              "      --fill-color: #1967D2;\n",
              "      --hover-bg-color: #E2EBFA;\n",
              "      --hover-fill-color: #174EA6;\n",
              "      --disabled-fill-color: #AAA;\n",
              "      --disabled-bg-color: #DDD;\n",
              "  }\n",
              "\n",
              "  [theme=dark] .colab-df-quickchart {\n",
              "      --bg-color: #3B4455;\n",
              "      --fill-color: #D2E3FC;\n",
              "      --hover-bg-color: #434B5C;\n",
              "      --hover-fill-color: #FFFFFF;\n",
              "      --disabled-bg-color: #3B4455;\n",
              "      --disabled-fill-color: #666;\n",
              "  }\n",
              "\n",
              "  .colab-df-quickchart {\n",
              "    background-color: var(--bg-color);\n",
              "    border: none;\n",
              "    border-radius: 50%;\n",
              "    cursor: pointer;\n",
              "    display: none;\n",
              "    fill: var(--fill-color);\n",
              "    height: 32px;\n",
              "    padding: 0;\n",
              "    width: 32px;\n",
              "  }\n",
              "\n",
              "  .colab-df-quickchart:hover {\n",
              "    background-color: var(--hover-bg-color);\n",
              "    box-shadow: 0 1px 2px rgba(60, 64, 67, 0.3), 0 1px 3px 1px rgba(60, 64, 67, 0.15);\n",
              "    fill: var(--button-hover-fill-color);\n",
              "  }\n",
              "\n",
              "  .colab-df-quickchart-complete:disabled,\n",
              "  .colab-df-quickchart-complete:disabled:hover {\n",
              "    background-color: var(--disabled-bg-color);\n",
              "    fill: var(--disabled-fill-color);\n",
              "    box-shadow: none;\n",
              "  }\n",
              "\n",
              "  .colab-df-spinner {\n",
              "    border: 2px solid var(--fill-color);\n",
              "    border-color: transparent;\n",
              "    border-bottom-color: var(--fill-color);\n",
              "    animation:\n",
              "      spin 1s steps(1) infinite;\n",
              "  }\n",
              "\n",
              "  @keyframes spin {\n",
              "    0% {\n",
              "      border-color: transparent;\n",
              "      border-bottom-color: var(--fill-color);\n",
              "      border-left-color: var(--fill-color);\n",
              "    }\n",
              "    20% {\n",
              "      border-color: transparent;\n",
              "      border-left-color: var(--fill-color);\n",
              "      border-top-color: var(--fill-color);\n",
              "    }\n",
              "    30% {\n",
              "      border-color: transparent;\n",
              "      border-left-color: var(--fill-color);\n",
              "      border-top-color: var(--fill-color);\n",
              "      border-right-color: var(--fill-color);\n",
              "    }\n",
              "    40% {\n",
              "      border-color: transparent;\n",
              "      border-right-color: var(--fill-color);\n",
              "      border-top-color: var(--fill-color);\n",
              "    }\n",
              "    60% {\n",
              "      border-color: transparent;\n",
              "      border-right-color: var(--fill-color);\n",
              "    }\n",
              "    80% {\n",
              "      border-color: transparent;\n",
              "      border-right-color: var(--fill-color);\n",
              "      border-bottom-color: var(--fill-color);\n",
              "    }\n",
              "    90% {\n",
              "      border-color: transparent;\n",
              "      border-bottom-color: var(--fill-color);\n",
              "    }\n",
              "  }\n",
              "</style>\n",
              "\n",
              "  <script>\n",
              "    async function quickchart(key) {\n",
              "      const quickchartButtonEl =\n",
              "        document.querySelector('#' + key + ' button');\n",
              "      quickchartButtonEl.disabled = true;  // To prevent multiple clicks.\n",
              "      quickchartButtonEl.classList.add('colab-df-spinner');\n",
              "      try {\n",
              "        const charts = await google.colab.kernel.invokeFunction(\n",
              "            'suggestCharts', [key], {});\n",
              "      } catch (error) {\n",
              "        console.error('Error during call to suggestCharts:', error);\n",
              "      }\n",
              "      quickchartButtonEl.classList.remove('colab-df-spinner');\n",
              "      quickchartButtonEl.classList.add('colab-df-quickchart-complete');\n",
              "    }\n",
              "    (() => {\n",
              "      let quickchartButtonEl =\n",
              "        document.querySelector('#df-c3413db9-2e70-4e0c-9898-a3c75e02ddd5 button');\n",
              "      quickchartButtonEl.style.display =\n",
              "        google.colab.kernel.accessAllowed ? 'block' : 'none';\n",
              "    })();\n",
              "  </script>\n",
              "</div>\n",
              "    </div>\n",
              "  </div>\n"
            ]
          },
          "metadata": {},
          "execution_count": 17
        }
      ]
    },
    {
      "cell_type": "markdown",
      "source": [
        "Let's turn the table into a map!"
      ],
      "metadata": {
        "id": "NBLD-xCYDwoo"
      }
    },
    {
      "cell_type": "code",
      "source": [
        "def build_nat_choropleth():\n",
        "    fig = px.choropleth(\n",
        "        data_frame = df_nationality,\n",
        "        locations = \"country_iso3\",\n",
        "        color = \"count_pct\",\n",
        "        projection = \"natural earth\",\n",
        "        color_continuous_scale = px.colors.sequential.Blues,\n",
        "        title = \"DS Applicants: Nationality\"\n",
        "        )\n",
        "    return fig\n",
        "\n",
        "\n",
        "nat_fig = build_nat_choropleth()\n",
        "print(\"nat_fig type:\", type(nat_fig))\n",
        "nat_fig.show()"
      ],
      "metadata": {
        "id": "MBerOZH7D1Xt",
        "colab": {
          "base_uri": "https://localhost:8080/",
          "height": 559
        },
        "outputId": "c3e522bd-c1bb-42c1-f608-63aa07c78bee"
      },
      "execution_count": 19,
      "outputs": [
        {
          "output_type": "stream",
          "name": "stdout",
          "text": [
            "nat_fig type: <class 'plotly.graph_objs._figure.Figure'>\n"
          ]
        },
        {
          "output_type": "display_data",
          "data": {
            "text/html": [
              "<html>\n",
              "<head><meta charset=\"utf-8\" /></head>\n",
              "<body>\n",
              "    <div>            <script src=\"https://cdnjs.cloudflare.com/ajax/libs/mathjax/2.7.5/MathJax.js?config=TeX-AMS-MML_SVG\"></script><script type=\"text/javascript\">if (window.MathJax && window.MathJax.Hub && window.MathJax.Hub.Config) {window.MathJax.Hub.Config({SVG: {font: \"STIX-Web\"}});}</script>                <script type=\"text/javascript\">window.PlotlyConfig = {MathJaxConfig: 'local'};</script>\n",
              "        <script charset=\"utf-8\" src=\"https://cdn.plot.ly/plotly-2.24.1.min.js\"></script>                <div id=\"020bd849-c9c5-468e-a3af-c46b67f94c32\" class=\"plotly-graph-div\" style=\"height:525px; width:100%;\"></div>            <script type=\"text/javascript\">                                    window.PLOTLYENV=window.PLOTLYENV || {};                                    if (document.getElementById(\"020bd849-c9c5-468e-a3af-c46b67f94c32\")) {                    Plotly.newPlot(                        \"020bd849-c9c5-468e-a3af-c46b67f94c32\",                        [{\"coloraxis\":\"coloraxis\",\"geo\":\"geo\",\"hovertemplate\":\"country_iso3=%{location}\\u003cbr\\u003ecount_pct=%{z}\\u003cextra\\u003e\\u003c\\u002fextra\\u003e\",\"locations\":[\"GNB\",\"BIH\",\"GNQ\",\"TKM\",\"SWE\",\"MKD\",\"BRB\",\"CHL\",\"JAM\",\"VIR\",\"VUT\",\"CRI\",\"DOM\",\"KHM\",\"CYP\",\"ASM\",\"DMA\",\"ISR\",\"GUY\",\"GAB\",\"IOT\",\"VEN\",\"PRT\",\"AND\",\"CPV\",\"TLS\",\"AIA\",\"HUN\",\"ARE\",\"BGR\",\"DJI\",\"TJK\",\"MAC\",\"MDG\",\"CZE\",\"TON\",\"HTI\",\"SVK\",\"BLR\",\"WSM\",\"BEL\",\"PAN\",\"KGZ\",\"ATG\",\"LBN\",\"NLD\",\"PRI\",\"PER\",\"NER\",\"ARM\",\"ROU\",\"ARG\",\"GRC\",\"MNG\",\"SRB\",\"STP\",\"COM\",\"NAM\",\"MRT\",\"CAF\",\"BDI\",\"AGO\",\"FRA\",\"GIN\",\"FJI\",\"BFA\",\"ERI\",\"POL\",\"TWN\",\"ITA\",\"MUS\",\"COL\",\"COG\",\"UKR\",\"UZB\",\"SDN\",\"YEM\",\"HKG\",\"BTN\",\"MMR\",\"ESP\",\"KOR\",\"JOR\",\"LBY\",\"KAZ\",\"AZE\",\"ALA\",\"SEN\",\"RUS\",\"TCD\",\"AUS\",\"MOZ\",\"MLI\",\"DEU\",\"PNG\",\"MEX\",\"ALB\",\"CAN\",\"THA\",\"TUR\",\"CIV\",\"SWZ\",\"SSD\",\"COD\",\"MAR\",\"TGO\",\"GBR\",\"BRA\",\"TUN\",\"SGP\",\"MYS\",\"GMB\",\"LSO\",\"IRQ\",\"BEN\",\"BWA\",\"DZA\",\"LBR\",\"EGY\",\"LKA\",\"RWA\",\"CHN\",\"TZA\",\"SLE\",\"SOM\",\"IDN\",\"MWI\",\"NPL\",\"ZAF\",\"ZMB\",\"VNM\",\"CMR\",\"UGA\",\"AFG\",\"ZWE\",\"USA\",\"PHL\",\"GHA\",\"ETH\",\"BGD\",\"KEN\",\"IND\",\"PAK\",\"NGA\"],\"name\":\"\",\"z\":[0.01592863969417012,0.01592863969417012,0.01592863969417012,0.01592863969417012,0.01592863969417012,0.01592863969417012,0.01592863969417012,0.01592863969417012,0.01592863969417012,0.01592863969417012,0.01592863969417012,0.01592863969417012,0.01592863969417012,0.01592863969417012,0.01592863969417012,0.01592863969417012,0.01592863969417012,0.01592863969417012,0.01592863969417012,0.01592863969417012,0.01592863969417012,0.01592863969417012,0.01592863969417012,0.01592863969417012,0.01592863969417012,0.01592863969417012,0.01592863969417012,0.03185727938834024,0.03185727938834024,0.03185727938834024,0.03185727938834024,0.03185727938834024,0.03185727938834024,0.03185727938834024,0.03185727938834024,0.03185727938834024,0.03185727938834024,0.03185727938834024,0.03185727938834024,0.03185727938834024,0.03185727938834024,0.04778591908251035,0.04778591908251035,0.04778591908251035,0.04778591908251035,0.04778591908251035,0.04778591908251035,0.04778591908251035,0.04778591908251035,0.04778591908251035,0.04778591908251035,0.04778591908251035,0.04778591908251035,0.04778591908251035,0.04778591908251035,0.04778591908251035,0.04778591908251035,0.04778591908251035,0.04778591908251035,0.06371455877668047,0.06371455877668047,0.06371455877668047,0.06371455877668047,0.06371455877668047,0.06371455877668047,0.07964319847085059,0.07964319847085059,0.07964319847085059,0.07964319847085059,0.07964319847085059,0.07964319847085059,0.0955718381650207,0.0955718381650207,0.0955718381650207,0.0955718381650207,0.0955718381650207,0.11150047785919083,0.11150047785919083,0.11150047785919083,0.11150047785919083,0.11150047785919083,0.11150047785919083,0.12742911755336095,0.12742911755336095,0.12742911755336095,0.14335775724753105,0.15928639694170119,0.15928639694170119,0.15928639694170119,0.15928639694170119,0.15928639694170119,0.1752150366358713,0.1752150366358713,0.20707231602421153,0.20707231602421153,0.22300095571838166,0.22300095571838166,0.2548582351067219,0.2548582351067219,0.270786874800892,0.270786874800892,0.2867155144950621,0.2867155144950621,0.2867155144950621,0.30264415418923224,0.30264415418923224,0.31857279388340237,0.3345014335775725,0.3345014335775725,0.3504300732717426,0.3504300732717426,0.3504300732717426,0.3504300732717426,0.3663587129659127,0.3663587129659127,0.41414463204842306,0.4937878305192736,0.5097164702134438,0.5575023892959542,0.669002867155145,0.796431984708506,0.8601465434851864,0.8760751831793565,0.8920038228735266,1.0035043007327173,1.0512902198152279,1.083147499203568,1.1309334182860784,1.1627906976744187,1.226505256451099,1.226505256451099,1.2742911755336095,1.35393437400446,1.5610066900286717,1.8636508442179038,1.9751513220770944,2.2300095571838168,3.010512902198152,3.7910162472124878,5.176807900605288,5.893596686842944,10.401401720293087,11.181905065307422,24.418604651162788],\"type\":\"choropleth\"}],                        {\"template\":{\"data\":{\"histogram2dcontour\":[{\"type\":\"histogram2dcontour\",\"colorbar\":{\"outlinewidth\":0,\"ticks\":\"\"},\"colorscale\":[[0.0,\"#0d0887\"],[0.1111111111111111,\"#46039f\"],[0.2222222222222222,\"#7201a8\"],[0.3333333333333333,\"#9c179e\"],[0.4444444444444444,\"#bd3786\"],[0.5555555555555556,\"#d8576b\"],[0.6666666666666666,\"#ed7953\"],[0.7777777777777778,\"#fb9f3a\"],[0.8888888888888888,\"#fdca26\"],[1.0,\"#f0f921\"]]}],\"choropleth\":[{\"type\":\"choropleth\",\"colorbar\":{\"outlinewidth\":0,\"ticks\":\"\"}}],\"histogram2d\":[{\"type\":\"histogram2d\",\"colorbar\":{\"outlinewidth\":0,\"ticks\":\"\"},\"colorscale\":[[0.0,\"#0d0887\"],[0.1111111111111111,\"#46039f\"],[0.2222222222222222,\"#7201a8\"],[0.3333333333333333,\"#9c179e\"],[0.4444444444444444,\"#bd3786\"],[0.5555555555555556,\"#d8576b\"],[0.6666666666666666,\"#ed7953\"],[0.7777777777777778,\"#fb9f3a\"],[0.8888888888888888,\"#fdca26\"],[1.0,\"#f0f921\"]]}],\"heatmap\":[{\"type\":\"heatmap\",\"colorbar\":{\"outlinewidth\":0,\"ticks\":\"\"},\"colorscale\":[[0.0,\"#0d0887\"],[0.1111111111111111,\"#46039f\"],[0.2222222222222222,\"#7201a8\"],[0.3333333333333333,\"#9c179e\"],[0.4444444444444444,\"#bd3786\"],[0.5555555555555556,\"#d8576b\"],[0.6666666666666666,\"#ed7953\"],[0.7777777777777778,\"#fb9f3a\"],[0.8888888888888888,\"#fdca26\"],[1.0,\"#f0f921\"]]}],\"heatmapgl\":[{\"type\":\"heatmapgl\",\"colorbar\":{\"outlinewidth\":0,\"ticks\":\"\"},\"colorscale\":[[0.0,\"#0d0887\"],[0.1111111111111111,\"#46039f\"],[0.2222222222222222,\"#7201a8\"],[0.3333333333333333,\"#9c179e\"],[0.4444444444444444,\"#bd3786\"],[0.5555555555555556,\"#d8576b\"],[0.6666666666666666,\"#ed7953\"],[0.7777777777777778,\"#fb9f3a\"],[0.8888888888888888,\"#fdca26\"],[1.0,\"#f0f921\"]]}],\"contourcarpet\":[{\"type\":\"contourcarpet\",\"colorbar\":{\"outlinewidth\":0,\"ticks\":\"\"}}],\"contour\":[{\"type\":\"contour\",\"colorbar\":{\"outlinewidth\":0,\"ticks\":\"\"},\"colorscale\":[[0.0,\"#0d0887\"],[0.1111111111111111,\"#46039f\"],[0.2222222222222222,\"#7201a8\"],[0.3333333333333333,\"#9c179e\"],[0.4444444444444444,\"#bd3786\"],[0.5555555555555556,\"#d8576b\"],[0.6666666666666666,\"#ed7953\"],[0.7777777777777778,\"#fb9f3a\"],[0.8888888888888888,\"#fdca26\"],[1.0,\"#f0f921\"]]}],\"surface\":[{\"type\":\"surface\",\"colorbar\":{\"outlinewidth\":0,\"ticks\":\"\"},\"colorscale\":[[0.0,\"#0d0887\"],[0.1111111111111111,\"#46039f\"],[0.2222222222222222,\"#7201a8\"],[0.3333333333333333,\"#9c179e\"],[0.4444444444444444,\"#bd3786\"],[0.5555555555555556,\"#d8576b\"],[0.6666666666666666,\"#ed7953\"],[0.7777777777777778,\"#fb9f3a\"],[0.8888888888888888,\"#fdca26\"],[1.0,\"#f0f921\"]]}],\"mesh3d\":[{\"type\":\"mesh3d\",\"colorbar\":{\"outlinewidth\":0,\"ticks\":\"\"}}],\"scatter\":[{\"fillpattern\":{\"fillmode\":\"overlay\",\"size\":10,\"solidity\":0.2},\"type\":\"scatter\"}],\"parcoords\":[{\"type\":\"parcoords\",\"line\":{\"colorbar\":{\"outlinewidth\":0,\"ticks\":\"\"}}}],\"scatterpolargl\":[{\"type\":\"scatterpolargl\",\"marker\":{\"colorbar\":{\"outlinewidth\":0,\"ticks\":\"\"}}}],\"bar\":[{\"error_x\":{\"color\":\"#2a3f5f\"},\"error_y\":{\"color\":\"#2a3f5f\"},\"marker\":{\"line\":{\"color\":\"#E5ECF6\",\"width\":0.5},\"pattern\":{\"fillmode\":\"overlay\",\"size\":10,\"solidity\":0.2}},\"type\":\"bar\"}],\"scattergeo\":[{\"type\":\"scattergeo\",\"marker\":{\"colorbar\":{\"outlinewidth\":0,\"ticks\":\"\"}}}],\"scatterpolar\":[{\"type\":\"scatterpolar\",\"marker\":{\"colorbar\":{\"outlinewidth\":0,\"ticks\":\"\"}}}],\"histogram\":[{\"marker\":{\"pattern\":{\"fillmode\":\"overlay\",\"size\":10,\"solidity\":0.2}},\"type\":\"histogram\"}],\"scattergl\":[{\"type\":\"scattergl\",\"marker\":{\"colorbar\":{\"outlinewidth\":0,\"ticks\":\"\"}}}],\"scatter3d\":[{\"type\":\"scatter3d\",\"line\":{\"colorbar\":{\"outlinewidth\":0,\"ticks\":\"\"}},\"marker\":{\"colorbar\":{\"outlinewidth\":0,\"ticks\":\"\"}}}],\"scattermapbox\":[{\"type\":\"scattermapbox\",\"marker\":{\"colorbar\":{\"outlinewidth\":0,\"ticks\":\"\"}}}],\"scatterternary\":[{\"type\":\"scatterternary\",\"marker\":{\"colorbar\":{\"outlinewidth\":0,\"ticks\":\"\"}}}],\"scattercarpet\":[{\"type\":\"scattercarpet\",\"marker\":{\"colorbar\":{\"outlinewidth\":0,\"ticks\":\"\"}}}],\"carpet\":[{\"aaxis\":{\"endlinecolor\":\"#2a3f5f\",\"gridcolor\":\"white\",\"linecolor\":\"white\",\"minorgridcolor\":\"white\",\"startlinecolor\":\"#2a3f5f\"},\"baxis\":{\"endlinecolor\":\"#2a3f5f\",\"gridcolor\":\"white\",\"linecolor\":\"white\",\"minorgridcolor\":\"white\",\"startlinecolor\":\"#2a3f5f\"},\"type\":\"carpet\"}],\"table\":[{\"cells\":{\"fill\":{\"color\":\"#EBF0F8\"},\"line\":{\"color\":\"white\"}},\"header\":{\"fill\":{\"color\":\"#C8D4E3\"},\"line\":{\"color\":\"white\"}},\"type\":\"table\"}],\"barpolar\":[{\"marker\":{\"line\":{\"color\":\"#E5ECF6\",\"width\":0.5},\"pattern\":{\"fillmode\":\"overlay\",\"size\":10,\"solidity\":0.2}},\"type\":\"barpolar\"}],\"pie\":[{\"automargin\":true,\"type\":\"pie\"}]},\"layout\":{\"autotypenumbers\":\"strict\",\"colorway\":[\"#636efa\",\"#EF553B\",\"#00cc96\",\"#ab63fa\",\"#FFA15A\",\"#19d3f3\",\"#FF6692\",\"#B6E880\",\"#FF97FF\",\"#FECB52\"],\"font\":{\"color\":\"#2a3f5f\"},\"hovermode\":\"closest\",\"hoverlabel\":{\"align\":\"left\"},\"paper_bgcolor\":\"white\",\"plot_bgcolor\":\"#E5ECF6\",\"polar\":{\"bgcolor\":\"#E5ECF6\",\"angularaxis\":{\"gridcolor\":\"white\",\"linecolor\":\"white\",\"ticks\":\"\"},\"radialaxis\":{\"gridcolor\":\"white\",\"linecolor\":\"white\",\"ticks\":\"\"}},\"ternary\":{\"bgcolor\":\"#E5ECF6\",\"aaxis\":{\"gridcolor\":\"white\",\"linecolor\":\"white\",\"ticks\":\"\"},\"baxis\":{\"gridcolor\":\"white\",\"linecolor\":\"white\",\"ticks\":\"\"},\"caxis\":{\"gridcolor\":\"white\",\"linecolor\":\"white\",\"ticks\":\"\"}},\"coloraxis\":{\"colorbar\":{\"outlinewidth\":0,\"ticks\":\"\"}},\"colorscale\":{\"sequential\":[[0.0,\"#0d0887\"],[0.1111111111111111,\"#46039f\"],[0.2222222222222222,\"#7201a8\"],[0.3333333333333333,\"#9c179e\"],[0.4444444444444444,\"#bd3786\"],[0.5555555555555556,\"#d8576b\"],[0.6666666666666666,\"#ed7953\"],[0.7777777777777778,\"#fb9f3a\"],[0.8888888888888888,\"#fdca26\"],[1.0,\"#f0f921\"]],\"sequentialminus\":[[0.0,\"#0d0887\"],[0.1111111111111111,\"#46039f\"],[0.2222222222222222,\"#7201a8\"],[0.3333333333333333,\"#9c179e\"],[0.4444444444444444,\"#bd3786\"],[0.5555555555555556,\"#d8576b\"],[0.6666666666666666,\"#ed7953\"],[0.7777777777777778,\"#fb9f3a\"],[0.8888888888888888,\"#fdca26\"],[1.0,\"#f0f921\"]],\"diverging\":[[0,\"#8e0152\"],[0.1,\"#c51b7d\"],[0.2,\"#de77ae\"],[0.3,\"#f1b6da\"],[0.4,\"#fde0ef\"],[0.5,\"#f7f7f7\"],[0.6,\"#e6f5d0\"],[0.7,\"#b8e186\"],[0.8,\"#7fbc41\"],[0.9,\"#4d9221\"],[1,\"#276419\"]]},\"xaxis\":{\"gridcolor\":\"white\",\"linecolor\":\"white\",\"ticks\":\"\",\"title\":{\"standoff\":15},\"zerolinecolor\":\"white\",\"automargin\":true,\"zerolinewidth\":2},\"yaxis\":{\"gridcolor\":\"white\",\"linecolor\":\"white\",\"ticks\":\"\",\"title\":{\"standoff\":15},\"zerolinecolor\":\"white\",\"automargin\":true,\"zerolinewidth\":2},\"scene\":{\"xaxis\":{\"backgroundcolor\":\"#E5ECF6\",\"gridcolor\":\"white\",\"linecolor\":\"white\",\"showbackground\":true,\"ticks\":\"\",\"zerolinecolor\":\"white\",\"gridwidth\":2},\"yaxis\":{\"backgroundcolor\":\"#E5ECF6\",\"gridcolor\":\"white\",\"linecolor\":\"white\",\"showbackground\":true,\"ticks\":\"\",\"zerolinecolor\":\"white\",\"gridwidth\":2},\"zaxis\":{\"backgroundcolor\":\"#E5ECF6\",\"gridcolor\":\"white\",\"linecolor\":\"white\",\"showbackground\":true,\"ticks\":\"\",\"zerolinecolor\":\"white\",\"gridwidth\":2}},\"shapedefaults\":{\"line\":{\"color\":\"#2a3f5f\"}},\"annotationdefaults\":{\"arrowcolor\":\"#2a3f5f\",\"arrowhead\":0,\"arrowwidth\":1},\"geo\":{\"bgcolor\":\"white\",\"landcolor\":\"#E5ECF6\",\"subunitcolor\":\"white\",\"showland\":true,\"showlakes\":true,\"lakecolor\":\"white\"},\"title\":{\"x\":0.05},\"mapbox\":{\"style\":\"light\"}}},\"geo\":{\"domain\":{\"x\":[0.0,1.0],\"y\":[0.0,1.0]},\"projection\":{\"type\":\"natural earth\"},\"center\":{}},\"coloraxis\":{\"colorbar\":{\"title\":{\"text\":\"count_pct\"}},\"colorscale\":[[0.0,\"rgb(247,251,255)\"],[0.125,\"rgb(222,235,247)\"],[0.25,\"rgb(198,219,239)\"],[0.375,\"rgb(158,202,225)\"],[0.5,\"rgb(107,174,214)\"],[0.625,\"rgb(66,146,198)\"],[0.75,\"rgb(33,113,181)\"],[0.875,\"rgb(8,81,156)\"],[1.0,\"rgb(8,48,107)\"]]},\"legend\":{\"tracegroupgap\":0},\"title\":{\"text\":\"DS Applicants: Nationality\"}},                        {\"responsive\": true}                    ).then(function(){\n",
              "                            \n",
              "var gd = document.getElementById('020bd849-c9c5-468e-a3af-c46b67f94c32');\n",
              "var x = new MutationObserver(function (mutations, observer) {{\n",
              "        var display = window.getComputedStyle(gd).display;\n",
              "        if (!display || display === 'none') {{\n",
              "            console.log([gd, 'removed!']);\n",
              "            Plotly.purge(gd);\n",
              "            observer.disconnect();\n",
              "        }}\n",
              "}});\n",
              "\n",
              "// Listen for the removal of the full notebook cells\n",
              "var notebookContainer = gd.closest('#notebook-container');\n",
              "if (notebookContainer) {{\n",
              "    x.observe(notebookContainer, {childList: true});\n",
              "}}\n",
              "\n",
              "// Listen for the clearing of the current output cell\n",
              "var outputEl = gd.closest('.output');\n",
              "if (outputEl) {{\n",
              "    x.observe(outputEl, {childList: true});\n",
              "}}\n",
              "\n",
              "                        })                };                            </script>        </div>\n",
              "</body>\n",
              "</html>"
            ]
          },
          "metadata": {}
        }
      ]
    },
    {
      "cell_type": "markdown",
      "source": [
        "## Age"
      ],
      "metadata": {
        "id": "3pxLwwqhEGMi"
      }
    },
    {
      "cell_type": "markdown",
      "source": [
        "Now that we know where the applicants are from, let's see what else we can learn. For instance, how old are DS Lab applicants? We know the birthday of all our applicants, but we'll need to perform another aggregation to calculate their ages. We'll use the `\"$birthday\"` field and the `\"$$NOW\"` variable."
      ],
      "metadata": {
        "id": "kdweWJ4WEH4r"
      }
    },
    {
      "cell_type": "code",
      "source": [
        "result = ds_app.aggregate(\n",
        "    [\n",
        "        {\n",
        "            \"$project\": {\n",
        "                \"years\": {\n",
        "                    \"$dateDiff\": {\n",
        "                        \"startDate\": \"$birthday\",\n",
        "                        \"endDate\": \"$$NOW\",\n",
        "                        \"unit\": \"year\"\n",
        "                      }\n",
        "                    }\n",
        "                }\n",
        "            }\n",
        "        ]\n",
        "   )\n",
        "\n",
        "\n",
        "print(\"result type:\", type(result))"
      ],
      "metadata": {
        "id": "_uLBumlqENSR",
        "colab": {
          "base_uri": "https://localhost:8080/"
        },
        "outputId": "7feac026-65e1-4cf7-9700-29c17e7cdf54"
      },
      "execution_count": 20,
      "outputs": [
        {
          "output_type": "stream",
          "name": "stdout",
          "text": [
            "result type: <class 'pymongo.command_cursor.CommandCursor'>\n"
          ]
        }
      ]
    },
    {
      "cell_type": "markdown",
      "source": [
        "Once we have the query results, we can put them into a Series."
      ],
      "metadata": {
        "id": "4P8yc-_LESU_"
      }
    },
    {
      "cell_type": "code",
      "source": [
        "ages = pd.DataFrame(result) [\"years\"]\n",
        "\n",
        "print(\"ages type:\", type(ages))\n",
        "print(\"ages shape:\", ages.shape)\n",
        "ages.head()"
      ],
      "metadata": {
        "id": "dGbWuCm8EYFp",
        "colab": {
          "base_uri": "https://localhost:8080/"
        },
        "outputId": "6f5fe5ca-f25d-491a-fb75-7528df26c557"
      },
      "execution_count": 21,
      "outputs": [
        {
          "output_type": "stream",
          "name": "stdout",
          "text": [
            "ages type: <class 'pandas.core.series.Series'>\n",
            "ages shape: (6278,)\n"
          ]
        },
        {
          "output_type": "execute_result",
          "data": {
            "text/plain": [
              "0    25\n",
              "1    24\n",
              "2    29\n",
              "3    39\n",
              "4    33\n",
              "Name: years, dtype: int64"
            ]
          },
          "metadata": {},
          "execution_count": 21
        }
      ]
    },
    {
      "cell_type": "markdown",
      "source": [
        "And finally, plot a histogram to show the distribution of ages."
      ],
      "metadata": {
        "id": "TB63qScAEdD-"
      }
    },
    {
      "cell_type": "code",
      "source": [
        "def build_age_hist():\n",
        "    # Create histogram of `ages`\n",
        "    fig = px.histogram(x=ages, nbins=20, title=\"DS Applicants: Distribution of Ages\")\n",
        "    # Set axis labels\n",
        "    fig.update_layout(xaxis_title=\"Age\",yaxis_title=\"Frequency [count]\")\n",
        "    return fig\n",
        "\n",
        "\n",
        "age_fig = build_age_hist()\n",
        "print(\"age_fig type:\", type(age_fig))\n",
        "age_fig.show()"
      ],
      "metadata": {
        "colab": {
          "base_uri": "https://localhost:8080/",
          "height": 559
        },
        "id": "F--WHNRL8FWr",
        "outputId": "cae59c27-42f1-4ef1-dae4-d1ef98834a00"
      },
      "execution_count": 22,
      "outputs": [
        {
          "output_type": "stream",
          "name": "stdout",
          "text": [
            "age_fig type: <class 'plotly.graph_objs._figure.Figure'>\n"
          ]
        },
        {
          "output_type": "display_data",
          "data": {
            "text/html": [
              "<html>\n",
              "<head><meta charset=\"utf-8\" /></head>\n",
              "<body>\n",
              "    <div>            <script src=\"https://cdnjs.cloudflare.com/ajax/libs/mathjax/2.7.5/MathJax.js?config=TeX-AMS-MML_SVG\"></script><script type=\"text/javascript\">if (window.MathJax && window.MathJax.Hub && window.MathJax.Hub.Config) {window.MathJax.Hub.Config({SVG: {font: \"STIX-Web\"}});}</script>                <script type=\"text/javascript\">window.PlotlyConfig = {MathJaxConfig: 'local'};</script>\n",
              "        <script charset=\"utf-8\" src=\"https://cdn.plot.ly/plotly-2.24.1.min.js\"></script>                <div id=\"72a4f6c1-d704-450e-925f-abcb1175c80f\" class=\"plotly-graph-div\" style=\"height:525px; width:100%;\"></div>            <script type=\"text/javascript\">                                    window.PLOTLYENV=window.PLOTLYENV || {};                                    if (document.getElementById(\"72a4f6c1-d704-450e-925f-abcb1175c80f\")) {                    Plotly.newPlot(                        \"72a4f6c1-d704-450e-925f-abcb1175c80f\",                        [{\"alignmentgroup\":\"True\",\"bingroup\":\"x\",\"hovertemplate\":\"x=%{x}\\u003cbr\\u003ecount=%{y}\\u003cextra\\u003e\\u003c\\u002fextra\\u003e\",\"legendgroup\":\"\",\"marker\":{\"color\":\"#636efa\",\"pattern\":{\"shape\":\"\"}},\"name\":\"\",\"nbinsx\":20,\"offsetgroup\":\"\",\"orientation\":\"v\",\"showlegend\":false,\"x\":[25,24,29,39,33,33,30,40,25,44,22,28,30,25,27,29,33,24,35,35,26,20,32,33,48,22,22,26,41,36,32,30,24,30,27,36,31,40,31,26,27,21,23,33,34,25,20,29,30,30,24,20,20,20,26,21,20,49,27,24,32,22,30,27,30,24,37,27,28,25,40,31,30,26,36,42,25,28,28,42,32,31,34,25,24,25,34,26,29,22,27,26,31,24,45,23,22,28,27,27,34,25,28,25,47,30,22,23,29,30,25,30,24,25,35,29,20,39,34,41,39,21,27,34,34,39,47,37,23,24,25,42,22,34,30,26,29,36,33,28,23,31,23,27,22,24,28,28,36,33,42,27,38,24,24,33,36,37,33,31,26,20,29,25,36,48,33,31,25,35,28,22,43,23,37,39,29,22,38,26,23,29,23,29,22,33,22,24,34,27,25,29,28,24,46,29,29,28,29,35,38,26,34,53,23,20,41,33,28,33,25,23,37,41,39,23,26,23,45,44,32,25,32,39,47,26,27,27,49,23,26,36,24,24,31,22,23,23,22,22,30,37,26,21,36,30,24,22,24,31,29,23,46,23,26,27,25,25,23,28,21,25,24,46,31,73,34,33,25,26,20,36,25,23,39,30,24,28,39,38,26,25,23,26,26,30,30,36,27,20,33,24,32,32,25,39,24,30,23,20,42,25,22,24,34,23,39,25,28,21,29,25,33,25,33,29,27,31,35,24,51,34,31,21,55,26,28,34,34,33,24,27,28,27,23,61,33,31,27,26,21,38,25,35,27,32,20,29,23,30,21,26,25,23,33,36,24,39,26,28,30,36,37,20,34,33,30,28,27,27,28,24,24,29,54,36,31,54,21,24,41,53,48,28,25,33,24,26,20,28,21,27,27,21,25,21,20,29,37,22,37,27,20,25,22,40,29,31,31,46,38,31,21,29,26,40,20,27,29,27,26,21,49,45,42,27,42,37,34,44,22,30,22,37,21,20,31,40,34,28,32,48,39,25,29,50,25,22,27,24,23,30,27,23,34,28,31,26,35,26,35,35,32,33,27,32,19,42,26,31,27,36,20,23,29,32,20,26,25,29,24,33,21,20,24,39,28,41,37,25,21,28,31,23,29,23,24,32,40,24,24,22,30,22,24,22,23,34,27,31,20,29,36,32,19,21,19,20,35,27,34,27,21,26,30,26,19,20,28,25,27,21,29,43,26,31,30,25,32,24,21,30,32,20,28,32,37,28,27,27,27,36,25,26,40,31,23,26,38,32,26,39,24,27,20,24,28,26,21,23,23,40,37,24,53,29,27,39,25,33,32,37,35,27,23,33,23,32,20,25,30,29,20,26,28,32,35,21,23,30,26,20,33,33,22,39,27,24,23,32,28,20,21,40,22,24,32,39,26,21,22,30,26,31,28,38,49,30,26,29,24,24,31,23,63,26,35,24,30,30,25,20,22,27,34,23,24,25,38,23,20,29,36,27,23,27,24,29,34,33,21,43,47,32,27,25,26,40,22,25,27,28,27,38,22,36,34,35,28,39,24,28,32,33,23,22,27,25,22,28,21,24,27,47,36,42,24,32,20,24,26,34,44,27,19,26,22,23,48,30,21,34,22,25,27,48,29,20,22,31,22,21,27,24,34,32,31,26,32,38,25,31,56,22,24,40,26,23,25,25,31,22,21,22,20,19,28,38,24,33,22,44,44,24,67,44,26,31,24,22,20,21,22,21,25,22,46,22,30,40,26,29,31,31,28,29,44,38,28,31,22,25,29,26,21,33,28,25,49,25,23,54,23,23,27,22,29,48,38,35,28,38,37,30,27,23,30,26,35,26,24,34,22,36,29,25,20,26,38,43,30,25,40,25,23,25,35,25,32,27,30,25,24,31,23,43,28,24,53,25,35,28,31,33,30,19,33,23,21,30,25,30,27,24,28,41,27,38,45,21,26,24,34,22,30,25,38,26,22,50,26,37,25,25,35,26,23,54,31,23,30,34,28,31,41,24,22,19,23,31,33,25,26,23,39,41,27,36,40,19,36,27,27,30,22,30,27,38,33,35,26,24,30,34,33,36,38,21,41,26,26,22,27,27,33,33,31,52,28,23,37,34,25,23,23,24,30,31,31,27,28,36,23,30,23,28,28,32,28,32,20,35,40,25,21,31,23,23,28,31,31,29,28,36,36,22,35,30,47,34,30,23,21,27,28,27,37,25,21,41,26,34,25,28,33,35,47,37,42,25,22,34,34,32,25,23,21,27,23,30,25,31,30,35,26,28,23,30,34,33,27,30,54,38,41,31,20,23,33,29,35,23,35,30,47,30,30,40,28,37,34,29,33,24,30,27,21,22,33,26,27,20,38,50,33,25,26,44,40,31,26,26,30,25,32,26,25,22,27,25,27,35,28,32,32,20,25,22,25,20,27,28,32,27,30,32,35,34,19,20,42,29,22,24,25,25,39,25,25,27,25,39,28,25,28,30,28,23,35,26,32,47,40,28,31,27,25,24,22,39,31,29,28,30,28,53,24,25,45,23,24,28,42,25,44,24,19,29,36,28,21,39,25,26,21,43,25,28,41,29,20,22,30,24,32,34,37,26,41,32,28,28,28,21,30,33,36,30,26,23,34,59,28,19,44,22,22,31,20,27,25,39,31,30,27,21,27,52,23,27,62,28,27,24,27,25,22,40,30,21,36,25,35,22,21,28,53,27,42,34,30,19,27,21,25,26,30,34,34,28,23,23,22,21,43,23,20,40,29,19,24,25,25,23,28,24,22,25,29,29,33,27,21,42,36,25,45,25,21,28,27,30,27,48,24,24,23,30,40,23,21,23,25,27,39,26,22,25,26,30,22,40,26,31,30,38,38,30,42,30,19,29,34,20,29,24,34,22,24,30,31,34,26,21,31,24,40,59,46,22,31,31,26,22,24,26,23,20,22,32,23,28,22,34,28,33,51,29,49,39,29,32,27,25,22,22,33,20,36,28,23,39,46,24,34,23,26,24,25,20,43,31,25,34,31,40,24,41,34,30,31,30,54,25,29,23,24,33,25,23,37,27,25,32,26,29,26,24,22,24,25,30,43,25,26,22,23,47,29,24,24,23,47,60,21,20,20,25,26,21,26,34,27,20,24,25,36,25,64,27,41,27,20,23,19,24,57,24,32,23,20,34,33,23,21,23,42,25,30,24,35,27,27,33,30,31,20,38,25,25,23,27,42,23,32,28,46,33,29,27,39,23,28,30,33,23,47,20,21,21,20,29,31,27,38,45,28,20,39,23,33,31,21,27,24,27,33,35,23,26,39,21,25,28,40,29,33,33,24,33,20,35,35,25,30,28,41,19,23,57,24,27,41,30,22,21,24,40,36,31,40,29,26,21,29,30,20,42,28,30,52,27,37,27,33,25,24,29,20,25,29,23,33,43,30,26,26,24,25,32,34,21,27,23,33,22,25,24,30,22,26,40,28,42,23,23,45,27,22,24,28,30,32,45,20,29,26,25,22,24,27,26,20,25,25,28,27,30,22,26,21,22,22,35,24,23,31,29,30,22,25,53,21,25,30,30,35,27,28,23,22,32,23,39,47,22,37,29,28,26,31,23,28,38,20,32,26,25,33,38,26,36,26,32,31,24,19,23,28,28,28,20,46,29,38,35,34,26,40,26,24,36,26,26,40,30,30,24,48,27,24,22,35,23,24,24,31,47,20,20,42,45,26,42,28,24,33,26,27,24,31,31,25,23,41,22,20,40,27,22,37,32,25,21,21,23,36,26,27,22,28,27,31,36,50,21,23,34,39,28,41,28,30,24,22,24,34,36,23,25,32,33,25,32,23,36,22,26,41,35,22,24,31,41,23,27,41,27,40,22,23,29,46,22,28,19,27,31,28,20,32,29,28,46,38,34,27,32,32,21,19,24,31,37,37,33,21,38,34,30,23,25,21,35,31,24,30,23,32,44,32,25,34,25,23,24,42,33,28,27,23,24,21,29,23,33,21,29,40,41,40,28,43,26,27,27,30,39,30,37,28,20,19,19,24,29,29,40,29,28,31,27,21,30,34,50,49,23,32,23,30,27,27,25,43,32,36,30,38,35,23,26,20,34,46,24,19,19,31,27,24,31,31,35,24,26,46,28,39,44,35,34,46,27,22,37,26,20,30,33,34,24,19,24,23,30,41,40,21,29,25,46,41,34,42,62,21,20,23,47,27,28,32,20,33,26,30,33,38,24,25,22,58,35,41,19,29,29,23,23,33,37,23,47,23,22,51,29,32,21,45,22,27,20,28,19,28,36,25,22,44,21,32,22,26,40,19,24,25,31,22,31,34,40,34,22,29,31,42,21,40,28,25,35,58,30,36,39,24,30,31,23,26,52,28,28,32,25,20,26,25,29,35,30,28,29,42,50,27,20,27,44,32,29,41,20,22,41,20,26,29,29,23,25,37,21,25,38,46,24,30,47,29,21,23,24,24,25,38,51,23,25,32,27,30,30,30,27,27,34,20,35,25,23,33,26,28,28,29,23,25,26,25,24,21,27,24,37,19,40,26,27,30,28,23,45,22,25,30,27,30,33,23,42,49,23,56,31,46,25,32,40,40,32,25,29,34,34,25,22,31,21,34,38,36,31,23,19,21,31,32,21,29,33,32,30,33,26,23,24,24,36,23,20,33,39,36,28,25,23,33,26,26,29,21,24,23,25,48,23,25,26,24,29,34,39,52,32,49,27,34,28,22,28,27,23,24,46,26,30,42,26,21,34,24,20,27,28,23,21,36,49,24,23,43,31,32,22,25,37,21,20,40,20,40,26,22,32,44,30,27,30,37,28,24,25,26,24,35,28,22,31,40,30,26,34,32,27,29,35,20,29,23,37,23,32,31,21,49,22,31,45,35,23,28,39,21,24,28,25,41,44,32,25,31,22,23,38,58,23,30,26,29,31,22,33,23,23,44,29,24,24,27,34,30,26,23,25,33,54,31,30,23,23,27,31,34,22,22,37,23,25,31,27,46,26,25,30,38,36,39,20,30,26,25,28,33,33,45,34,26,22,22,25,28,34,27,33,26,26,31,34,34,24,30,29,26,55,27,44,29,24,25,28,31,30,39,29,30,43,29,36,26,28,27,33,44,32,23,21,30,20,23,32,40,40,28,28,23,25,26,34,39,49,23,28,31,25,31,25,37,22,26,21,25,31,24,39,26,33,23,29,30,23,30,23,26,24,35,35,31,26,21,20,32,31,53,35,20,28,38,36,36,21,25,51,34,19,27,21,19,27,21,20,23,22,28,62,26,19,28,40,25,25,21,23,35,42,34,59,29,23,26,24,21,27,21,26,30,38,28,27,34,40,34,36,21,31,22,26,25,28,25,23,35,27,30,25,25,24,19,40,27,39,32,22,26,26,29,29,36,44,22,43,32,22,32,25,42,24,41,20,33,31,27,28,19,38,24,27,27,25,31,24,23,22,21,22,27,36,36,47,41,31,22,24,25,41,32,24,42,27,24,38,26,22,25,20,35,27,25,25,21,48,50,44,27,25,25,22,20,33,37,20,38,26,30,33,25,29,20,25,26,26,29,49,28,24,24,26,23,25,27,27,31,20,42,23,24,23,43,38,23,22,28,20,29,34,23,41,20,46,30,27,35,22,27,24,35,26,24,30,34,20,26,37,37,33,19,22,36,35,32,32,39,30,22,33,29,27,21,27,23,39,31,32,23,37,40,29,36,21,46,29,41,44,25,21,31,44,31,23,41,25,24,22,30,38,26,23,22,34,24,30,35,29,29,31,26,24,24,25,40,32,43,28,20,33,36,24,47,24,27,24,30,42,25,36,23,27,22,30,30,23,46,25,29,26,32,26,43,31,40,40,25,39,31,27,21,22,37,22,25,28,30,53,28,26,43,21,33,26,31,28,25,39,25,25,26,28,25,22,29,33,27,30,28,22,37,38,29,28,21,32,21,24,25,22,30,38,25,52,30,21,30,54,23,26,27,31,33,39,33,31,42,41,31,31,31,40,52,38,25,20,38,32,27,21,20,20,28,36,28,29,29,23,26,31,24,36,24,27,41,40,21,31,43,34,48,20,22,30,19,32,30,21,29,37,40,31,29,26,28,30,25,24,25,32,25,24,26,36,39,23,25,35,36,56,29,30,27,24,22,26,20,28,26,31,41,26,42,23,26,28,23,27,27,20,29,33,27,33,37,26,28,26,31,22,30,22,22,27,21,25,37,22,29,45,25,33,38,37,24,19,35,36,36,30,54,25,25,24,42,27,28,24,26,26,30,24,32,41,38,28,24,26,25,23,40,41,35,23,24,26,36,25,24,35,33,26,29,19,36,32,31,27,30,34,23,27,37,23,31,34,24,21,24,25,29,27,41,33,23,37,24,26,23,30,29,24,28,26,28,23,31,30,23,49,36,33,30,28,28,24,20,25,33,26,42,22,21,21,26,22,23,29,34,32,31,25,23,26,25,22,30,22,24,35,28,29,25,32,36,24,30,32,33,38,29,28,32,24,34,32,34,32,30,28,24,21,45,30,27,40,22,37,33,32,33,21,27,37,20,37,25,39,36,22,36,19,27,35,21,23,20,25,29,23,24,22,27,30,24,30,37,23,33,25,23,22,34,35,23,34,27,29,21,25,27,21,23,27,21,27,26,24,27,30,32,38,28,20,41,27,38,21,24,35,31,25,21,29,22,50,42,29,28,33,29,35,27,37,25,34,23,52,41,26,25,30,26,20,35,32,30,25,42,25,27,28,35,40,32,28,29,27,24,22,29,43,29,26,53,29,44,22,27,20,40,38,28,50,26,44,21,27,28,27,31,25,29,27,64,28,23,27,38,23,23,25,27,34,46,30,26,29,37,24,30,23,47,22,32,25,22,43,33,42,36,33,44,28,25,31,27,23,44,34,24,24,22,24,24,26,31,25,24,44,35,24,32,22,24,30,34,42,25,24,31,48,26,27,24,43,24,29,35,22,35,20,27,20,21,43,27,32,24,25,22,24,45,19,29,21,34,30,20,31,22,21,30,34,26,21,23,23,47,23,22,30,31,43,35,35,27,23,34,39,26,27,23,20,31,31,20,23,34,30,25,25,21,25,33,25,29,28,30,39,24,29,31,27,28,20,23,28,28,26,24,25,30,26,31,26,32,29,30,24,26,21,29,36,44,21,29,49,24,29,28,29,35,23,31,27,26,27,28,31,45,44,32,49,19,25,33,20,24,31,21,20,24,25,41,20,32,40,20,24,19,27,30,24,26,23,24,25,20,31,24,32,30,25,32,23,21,25,20,29,40,22,24,26,28,29,32,36,23,34,28,32,21,34,29,24,40,20,24,23,30,26,39,26,25,32,47,22,43,29,39,39,21,25,38,35,20,40,34,30,37,24,32,19,40,22,25,33,32,24,32,32,39,35,43,25,34,22,32,28,29,29,37,26,24,27,25,53,28,31,30,25,32,28,30,27,25,29,20,24,52,27,31,31,25,19,24,27,21,30,24,28,24,27,25,21,30,21,28,59,20,36,48,32,22,21,29,28,25,26,23,27,33,26,25,23,28,37,25,20,21,47,37,36,20,25,44,30,24,31,25,23,42,23,27,30,20,31,37,22,27,27,38,38,43,33,28,21,34,27,29,25,21,33,29,22,19,28,35,27,32,45,35,57,27,23,24,21,29,21,34,25,28,27,22,30,21,43,28,24,27,22,41,26,29,27,28,29,28,28,31,32,24,37,46,20,42,36,19,25,20,31,19,22,23,38,26,30,27,41,21,25,29,20,33,32,19,20,26,24,32,19,29,25,21,27,29,21,31,23,32,26,21,19,28,30,25,28,27,24,22,25,34,20,20,21,45,24,32,25,32,21,29,25,23,26,26,27,31,25,23,42,25,41,29,42,24,46,33,27,32,21,25,30,21,34,25,46,23,35,25,31,23,19,28,30,40,26,28,20,33,27,42,27,29,20,31,24,25,47,37,23,24,28,47,38,26,28,33,25,34,34,36,22,28,39,22,65,26,25,42,27,21,27,21,35,36,25,44,38,25,22,24,24,37,20,26,26,23,38,20,33,25,21,25,33,30,42,28,35,43,30,33,28,26,33,31,21,27,56,22,27,32,21,27,25,33,22,45,25,30,38,32,20,33,29,38,28,34,22,48,23,26,25,25,21,26,26,50,41,23,35,32,27,20,22,32,42,36,20,29,33,25,35,30,26,21,28,28,22,26,24,28,32,24,22,22,36,34,26,19,33,25,26,21,32,31,33,37,42,25,24,25,33,39,29,38,32,19,32,49,22,34,25,23,22,31,21,43,34,24,22,41,27,26,28,24,24,25,20,32,34,33,19,23,27,20,29,32,33,40,35,35,25,21,20,28,46,26,22,27,22,28,33,34,38,32,31,29,27,31,24,23,37,34,22,21,35,23,25,20,39,20,45,38,32,35,22,21,34,20,23,33,29,33,45,27,25,26,41,44,43,24,31,30,27,27,40,31,25,35,33,33,33,36,41,36,22,21,19,31,25,44,24,41,21,23,28,60,28,38,36,30,30,28,22,26,25,35,26,26,39,20,28,29,25,34,21,60,26,23,25,23,22,27,20,29,31,30,21,37,21,29,29,29,28,31,27,24,25,27,21,23,27,23,21,36,44,27,27,27,30,34,20,43,40,26,43,28,24,28,32,30,26,32,37,40,32,25,21,34,37,32,20,29,39,38,22,26,30,37,25,24,19,26,30,27,31,24,34,22,24,21,28,38,44,28,36,32,30,22,21,32,35,30,32,23,33,23,26,23,23,25,33,23,41,26,25,45,22,21,36,24,32,48,19,29,25,44,26,31,23,24,40,24,25,27,21,27,21,33,27,38,48,25,21,24,39,26,26,21,48,22,36,39,29,32,31,21,19,26,27,23,24,23,34,21,20,38,20,20,33,28,40,30,23,25,26,29,19,28,27,50,23,21,38,24,64,28,28,34,32,28,24,20,25,40,27,34,30,32,29,26,30,27,35,26,34,24,38,21,41,26,41,34,27,25,24,25,23,31,33,35,22,25,24,26,41,23,37,23,30,35,34,23,39,22,24,26,21,27,29,31,26,23,24,26,28,27,29,28,27,42,35,32,25,24,22,23,22,30,24,27,30,25,24,32,26,20,25,21,27,36,36,20,25,21,32,20,24,27,35,39,28,48,33,43,29,28,36,26,19,27,23,38,48,28,44,28,37,29,31,23,27,22,41,31,37,43,24,22,33,29,21,52,29,30,31,38,24,29,30,25,20,33,25,22,23,34,27,32,37,31,32,29,38,29,22,30,22,39,36,21,36,23,28,38,42,24,25,26,30,24,24,49,30,25,28,27,27,30,22,22,25,23,21,24,25,23,20,40,22,32,24,32,32,20,42,29,25,37,25,23,25,23,28,31,26,28,28,35,25,41,20,22,28,19,32,42,24,24,21,31,28,45,24,20,40,33,41,24,29,22,25,25,28,24,42,29,23,23,37,31,36,35,26,37,35,21,32,23,40,22,26,21,28,21,22,23,21,26,33,24,28,44,30,30,30,26,40,25,19,29,30,24,23,39,23,37,27,33,34,27,23,48,24,39,24,33,24,37,23,19,22,22,25,25,23,31,41,23,19,22,26,28,30,23,19,24,25,30,27,26,24,22,37,25,26,43,54,31,35,27,24,23,28,21,25,52,27,30,42,26,23,21,22,37,28,37,38,24,33,37,21,25,26,25,41,19,24,35,32,22,31,23,32,50,24,33,28,23,30,23,32,27,45,30,38,19,24,34,25,31,32,25,26,21,21,23,25,25,38,34,41,29,22,26,26,26,30,41,25,37,34,21,27,49,30,24,41,29,28,40,41,28,25,23,28,30,22,30,20,42,32,30,29,19,19,38,26,24,30,31,27,24,38,30,44,31,27,27,29,42,27,35,21,21,28,41,30,38,26,34,22,42,20,23,29,24,31,29,23,25,25,25,39,35,64,22,31,37,23,38,33,44,28,23,19,28,34,28,37,26,29,36,34,33,29,27,31,38,32,27,28,35,46,46,26,20,36,49,20,26,30,25,29,35,22,28,31,34,29,38,26,27,20,23,39,25,23,27,37,46,26,44,21,26,20,29,23,31,26,27,23,22,27,27,19,22,27,35,21,31,20,29,24,31,38,31,29,26,31,30,24,33,25,27,30,38,24,40,35,30,19,27,33,31,24,48,40,20,22,43,31,29,39,20,25,29,42,35,23,38,24,32,32,30,25,31,22,24,29,28,21,27,40,24,30,37,37,26,22,35,29,29,32,31,23,26,25,28,27,36,35,30,21,32,26,42,27,41,25,27,27,38,22,23,33,26,31,24,29,27,28,36,43,31,28,26,28,44,31,32,25,37,36,28,30,22,26,22,23,36,26,28,40,30,35,27,37,24,20,36,31,47,26,37,25,25,30,27,25,33,21,31,27,26,21,30,29,26,31,30,29,23,43,35,31,23,21,43,29,19,32,20,25,29,36,30,27,32,38,39,24,28,42,27,37,37,32,34,36,24,25,25,24,48,24,25,26,23,21,24,26,41,23,22,30,25,39,23,19,26,28,45,38,23,33,29,22,24,22,27,30,35,39,26,25,32,22,25,30,34,21,24,24,25,28,24,40,27,44,23,25,27,26,28,32,25,25,24,31,20,39,34,31,34,44,25,22,25,29,21,28,34,30,36,28,27,31,39,21,23,31,37,26,25,23,25,29,35,19,26,29,22,43,20,34,27,28,33,19,37,38,34,20,33,40,31,29,26,41,23,29,23,28,30,24,26,28,37,25,36,20,43,24,20,23,26,21,26,32,64,24,22,25,42,28,22,25,26,29,25,21,34,37,28,36,27,28,27,22,23,38,27,23,29,36,25,24,27,24,36,30,23,26,37,26,25,26,24,23,39,31,23,24,36,23,38,24,22,27,34,29,38,22,19,34,27,30,27,30,20,48,31,23,21,29,24,29,25,31,26,22,21,47,25,30,25,30,37,29,25,21,44,35,27,35,22,46,41,25,22,28,38,31,33,40,31,41,36,26,51,20,30,33,24,34,28,31,22,30,24,26,19,26,33,30,34,40,34,34,25,34,42,22,23,23,25,25,31,24,35,24,42,21,36,26,31,29,26,40,25,23,20,30,36,23,27,31,19,38,34,31,31,41,20,26,28,23,24,41,24,26,29,27,23,23,20,36,47,24,19,27,24,26,20,25,36,21,24,47,38,19,25,44,27,21,26,25,28,30,28,26,19,35,24,41,30,27,33,19,28,38,26,29,29,28,29,19,47,54,26,29,26,26,24,20,28,25,37,19,25,38,22,34,30,23,31,28,24,35,29,24,30,33,38,24,20,28,25,36,26,54,37,29,21,24,18,35,41,30,32,23,32,40,26,20,21,33,20,36,21,28,24,27,28,28,28,40,25,32,37,41,39,46,34,32,52,20,46,23,35,23,26,36,19,19,27,31,42,24,34,25,32,27,26,35,24,22,36,21,23,22,29,25,25,28,29,22,37,21,31,41,34,31,20,18,28,24,25,26,29,28,19,23,29,32,23,27,52,24,27,28,25,21,19,23,19,36,20,46,24,23,22,32,21,29,20,29,27,24,20,25,21,28,19,39,25,28,26,35,33,24,41,27,28,47,26,34,24,33,22,24,24,28,32,23,31,32,23,44,22,30,61,36,33,38,22,37,21,25,39,26,26,27,23,23,37,54,22,34,20,25,24,27,28,27,21,25,33,27,34,33,21,39,25,19,28,21,36,35,22,30,53,22,32,21,26,38,25,26,32,31,40,23,47,21,22,20,18,22,24,43,21,36,30,32,21,29,26,21,24,38,24,21,32,21,46,32,31,23,21,27,27,22,36,21,20,18,30,34,30,34,32,31,29,38,25,28,26,29,23,35,24,28,33,22,31,36,23,22,32,25,29,23,23,32,20,25,28,22,42,42,24,30,19,26,20,24,19,32,31,30,27,29,27,28,19,27,21,24,28,27,30,35,26,28,28,35,21,25,42,19,29,20,21,28,31,24,25,40,41,27,30,25,20,48,29,23,30,27,20,63,21,20,29,37,69,24,31,18,24,32,29,37,25,26,21,28,30,20,24,25,41,31,28,21,32,29,30,33,33,27,30,24,19,23,35,35,38,52,33,20,23,18,26,26,26,30,22,21,22,22,51,26,37,35,33,22,26,25,26,28,22,26,28,20,33,29,20,23,24,29,33,28,43,27,22,23,23,23,27,30,25,22,26,29,21,24,20,27,43,28,39,33,48,36,32,23,28,20,27,22,24,23,25,33,28,20,32,36,30,27,29,24,29,21,34,21,26,21,22,32,37,28,48,21,29,38,19,21,22,30,28,22,26,23,29,36,43,38,19,28,25,41,29,45,24,26,29,22,25,28,27,21,37,25,28,25,42,25,27,31,25,25,39,32,38,22,37,20,23,23,29,28,31,26,21,37,22,24,25,35,26,23,26,25,21,21,29,28,23,42,21,23,31,21,22,30,32,35,24,37,39,31,21,26,19,27,23,23,22,23,23,32,22,30,26,20,26,24,29,21,24,18,23,35,33,23,25,39,49,32,26,46,20,32,30,25,30,23,23,18,28,32,18,25,28,25,25,26,23,18,32,26,27,37,21,33,31,38,27,30,48,21,26,21,26,26,28,27,30,24,24,34,33,31,28,32,31,39,22,28,39,30,18,28,36,30,24,24,27,26,23,21,35,28,25,22,28,32,23,28,35,25,22,30,20,33,20,21,22,33,35,37,40,31,45,28,20,23,27,28,37,35,27,22,19,21,21,23,45,24,27,29,29,24,22,22,20,21,24,22,20,25,38,20,43,21,30,19,21,24,30,19,29,33,37,32,47,19,49,29,23,27,24,38,33,29,25,33,30,20,23,28,39,21,28,34,24,18,31,26,22,27,20,36,21,21,23,27,35,26,24,24,23,26,35,33,42,29,28,25,37,31,20,34,26,35,33,26,62,55,25,24,26,24,25,29,26,29,26,21,19,23,36,28,39,36,27,23,38,46,27,34,27,32,29,19,23,30,25,21,37,33,22,22,21,36,24,22,30,19,40,25,23,38,41,39,26,49,43,31,26,27,28,32,35,21,20,30,22,29,37,23,21,23,24,27,41,33,28,22,28,32,24,19,28,24,43,23,26,35,20,24,28,38,29,38,34,29,33,33,29,30,29,28,27,24,23,23,41,23,22,25,34,61,26,47,21,32,39,44,30,22,40,21,44,29,30,27,20,25,32,26,28,31,25,22,23,28,44,27,35,36,33,50,19,30,30,52,19,27,23,31,25,30,34,24,28,22,23,46,26,21,25,31,37,36,28,22,36,23,40,24,24,30,26,22,34,23,28,25,22,29,19,26,24,21,45,32,30,23,24,26,21,26,23,24,31,31,31,25,29,24,28,18,26,27,36,36,31,21,23,25,24,32,29,36,41,25,19,18,37,33,46,19,30,28,29,23,22,23,27,39,28,30,24,23,20,34,18,20,21,34,37,21,21,39,47,28,33,41,18,21,19,38,19,24,35,23,32,32,33,22,41,28,22,29,27,28,20,23,47,23,18,28,30,27,37,20,32,23,23,28,39,30,35,28,24,27,40,26,19,26,27,35,20,20,35,31,26,39,25,32,23,32,41,24,22,24,25,25,25,29,43,30,23,28,35,26,42,35,31,24,27,22,27,21,35,43,40,24,31,40,20,21,23,32,33,31,32,25,24,28,26,24,34,19,52,33,26,29,35,28,36,30,19,28,26,24,31,26,25,24,49,26,32,24,20,20,20,22,22,19,26,25,25,23,22,26,26,21,32,30,22,21,18,30,36,20,38,23,20,31,40,32,33,33,22,27,41,20,25,29,26,21,23,27,22,28,19,61,27,22,25,25,19,26,27,27,23,22,22,19,23,27,35,26,32,30,33,38,21,27,29,35,23,24,34,25,38,18,41,27,43,29,21,21,43,43,37,31,21,33,21,29,22,25,39,29,27,34,31,26,31,42,19,18,21,18,48,36,19,24,22,46,20,25,23,26,23,30,21,62,22,26,25,21,23,46,23,33,22,39,34,29,27,31,20,24,25,27,28,18,35,21,23,37,19,45,37,21,37,28,23,28,29,43,19,25,22,26,24,25,32,24,21,29,18,24,41,28,25,25,34,38,34,23],\"xaxis\":\"x\",\"yaxis\":\"y\",\"type\":\"histogram\"}],                        {\"template\":{\"data\":{\"histogram2dcontour\":[{\"type\":\"histogram2dcontour\",\"colorbar\":{\"outlinewidth\":0,\"ticks\":\"\"},\"colorscale\":[[0.0,\"#0d0887\"],[0.1111111111111111,\"#46039f\"],[0.2222222222222222,\"#7201a8\"],[0.3333333333333333,\"#9c179e\"],[0.4444444444444444,\"#bd3786\"],[0.5555555555555556,\"#d8576b\"],[0.6666666666666666,\"#ed7953\"],[0.7777777777777778,\"#fb9f3a\"],[0.8888888888888888,\"#fdca26\"],[1.0,\"#f0f921\"]]}],\"choropleth\":[{\"type\":\"choropleth\",\"colorbar\":{\"outlinewidth\":0,\"ticks\":\"\"}}],\"histogram2d\":[{\"type\":\"histogram2d\",\"colorbar\":{\"outlinewidth\":0,\"ticks\":\"\"},\"colorscale\":[[0.0,\"#0d0887\"],[0.1111111111111111,\"#46039f\"],[0.2222222222222222,\"#7201a8\"],[0.3333333333333333,\"#9c179e\"],[0.4444444444444444,\"#bd3786\"],[0.5555555555555556,\"#d8576b\"],[0.6666666666666666,\"#ed7953\"],[0.7777777777777778,\"#fb9f3a\"],[0.8888888888888888,\"#fdca26\"],[1.0,\"#f0f921\"]]}],\"heatmap\":[{\"type\":\"heatmap\",\"colorbar\":{\"outlinewidth\":0,\"ticks\":\"\"},\"colorscale\":[[0.0,\"#0d0887\"],[0.1111111111111111,\"#46039f\"],[0.2222222222222222,\"#7201a8\"],[0.3333333333333333,\"#9c179e\"],[0.4444444444444444,\"#bd3786\"],[0.5555555555555556,\"#d8576b\"],[0.6666666666666666,\"#ed7953\"],[0.7777777777777778,\"#fb9f3a\"],[0.8888888888888888,\"#fdca26\"],[1.0,\"#f0f921\"]]}],\"heatmapgl\":[{\"type\":\"heatmapgl\",\"colorbar\":{\"outlinewidth\":0,\"ticks\":\"\"},\"colorscale\":[[0.0,\"#0d0887\"],[0.1111111111111111,\"#46039f\"],[0.2222222222222222,\"#7201a8\"],[0.3333333333333333,\"#9c179e\"],[0.4444444444444444,\"#bd3786\"],[0.5555555555555556,\"#d8576b\"],[0.6666666666666666,\"#ed7953\"],[0.7777777777777778,\"#fb9f3a\"],[0.8888888888888888,\"#fdca26\"],[1.0,\"#f0f921\"]]}],\"contourcarpet\":[{\"type\":\"contourcarpet\",\"colorbar\":{\"outlinewidth\":0,\"ticks\":\"\"}}],\"contour\":[{\"type\":\"contour\",\"colorbar\":{\"outlinewidth\":0,\"ticks\":\"\"},\"colorscale\":[[0.0,\"#0d0887\"],[0.1111111111111111,\"#46039f\"],[0.2222222222222222,\"#7201a8\"],[0.3333333333333333,\"#9c179e\"],[0.4444444444444444,\"#bd3786\"],[0.5555555555555556,\"#d8576b\"],[0.6666666666666666,\"#ed7953\"],[0.7777777777777778,\"#fb9f3a\"],[0.8888888888888888,\"#fdca26\"],[1.0,\"#f0f921\"]]}],\"surface\":[{\"type\":\"surface\",\"colorbar\":{\"outlinewidth\":0,\"ticks\":\"\"},\"colorscale\":[[0.0,\"#0d0887\"],[0.1111111111111111,\"#46039f\"],[0.2222222222222222,\"#7201a8\"],[0.3333333333333333,\"#9c179e\"],[0.4444444444444444,\"#bd3786\"],[0.5555555555555556,\"#d8576b\"],[0.6666666666666666,\"#ed7953\"],[0.7777777777777778,\"#fb9f3a\"],[0.8888888888888888,\"#fdca26\"],[1.0,\"#f0f921\"]]}],\"mesh3d\":[{\"type\":\"mesh3d\",\"colorbar\":{\"outlinewidth\":0,\"ticks\":\"\"}}],\"scatter\":[{\"fillpattern\":{\"fillmode\":\"overlay\",\"size\":10,\"solidity\":0.2},\"type\":\"scatter\"}],\"parcoords\":[{\"type\":\"parcoords\",\"line\":{\"colorbar\":{\"outlinewidth\":0,\"ticks\":\"\"}}}],\"scatterpolargl\":[{\"type\":\"scatterpolargl\",\"marker\":{\"colorbar\":{\"outlinewidth\":0,\"ticks\":\"\"}}}],\"bar\":[{\"error_x\":{\"color\":\"#2a3f5f\"},\"error_y\":{\"color\":\"#2a3f5f\"},\"marker\":{\"line\":{\"color\":\"#E5ECF6\",\"width\":0.5},\"pattern\":{\"fillmode\":\"overlay\",\"size\":10,\"solidity\":0.2}},\"type\":\"bar\"}],\"scattergeo\":[{\"type\":\"scattergeo\",\"marker\":{\"colorbar\":{\"outlinewidth\":0,\"ticks\":\"\"}}}],\"scatterpolar\":[{\"type\":\"scatterpolar\",\"marker\":{\"colorbar\":{\"outlinewidth\":0,\"ticks\":\"\"}}}],\"histogram\":[{\"marker\":{\"pattern\":{\"fillmode\":\"overlay\",\"size\":10,\"solidity\":0.2}},\"type\":\"histogram\"}],\"scattergl\":[{\"type\":\"scattergl\",\"marker\":{\"colorbar\":{\"outlinewidth\":0,\"ticks\":\"\"}}}],\"scatter3d\":[{\"type\":\"scatter3d\",\"line\":{\"colorbar\":{\"outlinewidth\":0,\"ticks\":\"\"}},\"marker\":{\"colorbar\":{\"outlinewidth\":0,\"ticks\":\"\"}}}],\"scattermapbox\":[{\"type\":\"scattermapbox\",\"marker\":{\"colorbar\":{\"outlinewidth\":0,\"ticks\":\"\"}}}],\"scatterternary\":[{\"type\":\"scatterternary\",\"marker\":{\"colorbar\":{\"outlinewidth\":0,\"ticks\":\"\"}}}],\"scattercarpet\":[{\"type\":\"scattercarpet\",\"marker\":{\"colorbar\":{\"outlinewidth\":0,\"ticks\":\"\"}}}],\"carpet\":[{\"aaxis\":{\"endlinecolor\":\"#2a3f5f\",\"gridcolor\":\"white\",\"linecolor\":\"white\",\"minorgridcolor\":\"white\",\"startlinecolor\":\"#2a3f5f\"},\"baxis\":{\"endlinecolor\":\"#2a3f5f\",\"gridcolor\":\"white\",\"linecolor\":\"white\",\"minorgridcolor\":\"white\",\"startlinecolor\":\"#2a3f5f\"},\"type\":\"carpet\"}],\"table\":[{\"cells\":{\"fill\":{\"color\":\"#EBF0F8\"},\"line\":{\"color\":\"white\"}},\"header\":{\"fill\":{\"color\":\"#C8D4E3\"},\"line\":{\"color\":\"white\"}},\"type\":\"table\"}],\"barpolar\":[{\"marker\":{\"line\":{\"color\":\"#E5ECF6\",\"width\":0.5},\"pattern\":{\"fillmode\":\"overlay\",\"size\":10,\"solidity\":0.2}},\"type\":\"barpolar\"}],\"pie\":[{\"automargin\":true,\"type\":\"pie\"}]},\"layout\":{\"autotypenumbers\":\"strict\",\"colorway\":[\"#636efa\",\"#EF553B\",\"#00cc96\",\"#ab63fa\",\"#FFA15A\",\"#19d3f3\",\"#FF6692\",\"#B6E880\",\"#FF97FF\",\"#FECB52\"],\"font\":{\"color\":\"#2a3f5f\"},\"hovermode\":\"closest\",\"hoverlabel\":{\"align\":\"left\"},\"paper_bgcolor\":\"white\",\"plot_bgcolor\":\"#E5ECF6\",\"polar\":{\"bgcolor\":\"#E5ECF6\",\"angularaxis\":{\"gridcolor\":\"white\",\"linecolor\":\"white\",\"ticks\":\"\"},\"radialaxis\":{\"gridcolor\":\"white\",\"linecolor\":\"white\",\"ticks\":\"\"}},\"ternary\":{\"bgcolor\":\"#E5ECF6\",\"aaxis\":{\"gridcolor\":\"white\",\"linecolor\":\"white\",\"ticks\":\"\"},\"baxis\":{\"gridcolor\":\"white\",\"linecolor\":\"white\",\"ticks\":\"\"},\"caxis\":{\"gridcolor\":\"white\",\"linecolor\":\"white\",\"ticks\":\"\"}},\"coloraxis\":{\"colorbar\":{\"outlinewidth\":0,\"ticks\":\"\"}},\"colorscale\":{\"sequential\":[[0.0,\"#0d0887\"],[0.1111111111111111,\"#46039f\"],[0.2222222222222222,\"#7201a8\"],[0.3333333333333333,\"#9c179e\"],[0.4444444444444444,\"#bd3786\"],[0.5555555555555556,\"#d8576b\"],[0.6666666666666666,\"#ed7953\"],[0.7777777777777778,\"#fb9f3a\"],[0.8888888888888888,\"#fdca26\"],[1.0,\"#f0f921\"]],\"sequentialminus\":[[0.0,\"#0d0887\"],[0.1111111111111111,\"#46039f\"],[0.2222222222222222,\"#7201a8\"],[0.3333333333333333,\"#9c179e\"],[0.4444444444444444,\"#bd3786\"],[0.5555555555555556,\"#d8576b\"],[0.6666666666666666,\"#ed7953\"],[0.7777777777777778,\"#fb9f3a\"],[0.8888888888888888,\"#fdca26\"],[1.0,\"#f0f921\"]],\"diverging\":[[0,\"#8e0152\"],[0.1,\"#c51b7d\"],[0.2,\"#de77ae\"],[0.3,\"#f1b6da\"],[0.4,\"#fde0ef\"],[0.5,\"#f7f7f7\"],[0.6,\"#e6f5d0\"],[0.7,\"#b8e186\"],[0.8,\"#7fbc41\"],[0.9,\"#4d9221\"],[1,\"#276419\"]]},\"xaxis\":{\"gridcolor\":\"white\",\"linecolor\":\"white\",\"ticks\":\"\",\"title\":{\"standoff\":15},\"zerolinecolor\":\"white\",\"automargin\":true,\"zerolinewidth\":2},\"yaxis\":{\"gridcolor\":\"white\",\"linecolor\":\"white\",\"ticks\":\"\",\"title\":{\"standoff\":15},\"zerolinecolor\":\"white\",\"automargin\":true,\"zerolinewidth\":2},\"scene\":{\"xaxis\":{\"backgroundcolor\":\"#E5ECF6\",\"gridcolor\":\"white\",\"linecolor\":\"white\",\"showbackground\":true,\"ticks\":\"\",\"zerolinecolor\":\"white\",\"gridwidth\":2},\"yaxis\":{\"backgroundcolor\":\"#E5ECF6\",\"gridcolor\":\"white\",\"linecolor\":\"white\",\"showbackground\":true,\"ticks\":\"\",\"zerolinecolor\":\"white\",\"gridwidth\":2},\"zaxis\":{\"backgroundcolor\":\"#E5ECF6\",\"gridcolor\":\"white\",\"linecolor\":\"white\",\"showbackground\":true,\"ticks\":\"\",\"zerolinecolor\":\"white\",\"gridwidth\":2}},\"shapedefaults\":{\"line\":{\"color\":\"#2a3f5f\"}},\"annotationdefaults\":{\"arrowcolor\":\"#2a3f5f\",\"arrowhead\":0,\"arrowwidth\":1},\"geo\":{\"bgcolor\":\"white\",\"landcolor\":\"#E5ECF6\",\"subunitcolor\":\"white\",\"showland\":true,\"showlakes\":true,\"lakecolor\":\"white\"},\"title\":{\"x\":0.05},\"mapbox\":{\"style\":\"light\"}}},\"xaxis\":{\"anchor\":\"y\",\"domain\":[0.0,1.0],\"title\":{\"text\":\"Age\"}},\"yaxis\":{\"anchor\":\"x\",\"domain\":[0.0,1.0],\"title\":{\"text\":\"Frequency [count]\"}},\"legend\":{\"tracegroupgap\":0},\"title\":{\"text\":\"DS Applicants: Distribution of Ages\"},\"barmode\":\"relative\"},                        {\"responsive\": true}                    ).then(function(){\n",
              "                            \n",
              "var gd = document.getElementById('72a4f6c1-d704-450e-925f-abcb1175c80f');\n",
              "var x = new MutationObserver(function (mutations, observer) {{\n",
              "        var display = window.getComputedStyle(gd).display;\n",
              "        if (!display || display === 'none') {{\n",
              "            console.log([gd, 'removed!']);\n",
              "            Plotly.purge(gd);\n",
              "            observer.disconnect();\n",
              "        }}\n",
              "}});\n",
              "\n",
              "// Listen for the removal of the full notebook cells\n",
              "var notebookContainer = gd.closest('#notebook-container');\n",
              "if (notebookContainer) {{\n",
              "    x.observe(notebookContainer, {childList: true});\n",
              "}}\n",
              "\n",
              "// Listen for the clearing of the current output cell\n",
              "var outputEl = gd.closest('.output');\n",
              "if (outputEl) {{\n",
              "    x.observe(outputEl, {childList: true});\n",
              "}}\n",
              "\n",
              "                        })                };                            </script>        </div>\n",
              "</body>\n",
              "</html>"
            ]
          },
          "metadata": {}
        }
      ]
    },
    {
      "cell_type": "markdown",
      "source": [
        "## Education"
      ],
      "metadata": {
        "id": "lXtZ6AC2Esl5"
      }
    },
    {
      "cell_type": "markdown",
      "source": [
        "Okay, there's one more attribute left for us to explore: educational attainment. Which degrees do our applicants have? First, let's count the number of applicants in each category..."
      ],
      "metadata": {
        "id": "Bv2lvTPxEuB1"
      }
    },
    {
      "cell_type": "code",
      "source": [
        "result = ds_app.aggregate(\n",
        "    [\n",
        "        {\n",
        "            \"$group\": {\n",
        "                \"_id\": \"$highestDegreeEarned\",\n",
        "                \"count\":{\"$count\":{}}\n",
        "                }\n",
        "            }\n",
        "        ]\n",
        "    )\n",
        "\n",
        "print(\"result type:\", type(result))"
      ],
      "metadata": {
        "id": "zHtw39Y7Exre",
        "colab": {
          "base_uri": "https://localhost:8080/"
        },
        "outputId": "36831751-0528-4133-f7c1-3aa86de194c5"
      },
      "execution_count": 23,
      "outputs": [
        {
          "output_type": "stream",
          "name": "stdout",
          "text": [
            "result type: <class 'pymongo.command_cursor.CommandCursor'>\n"
          ]
        }
      ]
    },
    {
      "cell_type": "markdown",
      "source": [
        "... and create a Series..."
      ],
      "metadata": {
        "id": "3MeYeuS2E2Yo"
      }
    },
    {
      "cell_type": "code",
      "source": [
        "education = (\n",
        "    pd.DataFrame(result)\n",
        "    .rename({\"_id\": \"highest_degree_earned\"}, axis=\"columns\")\n",
        "    .set_index(\"highest_degree_earned\")\n",
        "    .squeeze()\n",
        "    )\n",
        "\n",
        "\n",
        "print(\"education type:\", type(education))\n",
        "print(\"education shape:\", education.shape)\n",
        "education.head()"
      ],
      "metadata": {
        "id": "BThwAbxZE7va",
        "colab": {
          "base_uri": "https://localhost:8080/"
        },
        "outputId": "dd2cf96c-2ffc-42da-d19c-747ce9ba427a"
      },
      "execution_count": 24,
      "outputs": [
        {
          "output_type": "stream",
          "name": "stdout",
          "text": [
            "education type: <class 'pandas.core.series.Series'>\n",
            "education shape: (5,)\n"
          ]
        },
        {
          "output_type": "execute_result",
          "data": {
            "text/plain": [
              "highest_degree_earned\n",
              "Doctorate (e.g. PhD)              93\n",
              "Bachelor's degree               3259\n",
              "High School or Baccalaureate    1040\n",
              "Some College (1-3 years)         791\n",
              "Master's degree                 1095\n",
              "Name: count, dtype: int64"
            ]
          },
          "metadata": {},
          "execution_count": 24
        }
      ]
    },
    {
      "cell_type": "markdown",
      "source": [
        "Since we're talking about the highest level of education our applicants have, we need to sort the categories hierarchically rather than alphabetically or numerically. The order should be: `\"High School or Baccalaureate\"`, `\"Some College (1-3 years)\"`, `\"Bachelor's Degree\"`, `\"Master's Degree\"`, and `\"Doctorate (e.g. PhD)\"`. Let's do that with a function."
      ],
      "metadata": {
        "id": "Bz4bLvXlFBGm"
      }
    },
    {
      "cell_type": "code",
      "source": [
        "def ed_sort(counts):\n",
        "    \"\"\"Sort array `counts` from highest to lowest degree earned.\"\"\"\n",
        "    degrees = [\n",
        "        \"High School or Baccalaureate\",\n",
        "        \"Some College (1-3 years)\",\n",
        "        \"Bachelor's degree\",\n",
        "        \"Master's degree\",\n",
        "        \"Doctorate (e.g. PhD)\",\n",
        "    ]\n",
        "    mapping = {k: v for v, k in enumerate(degrees)}\n",
        "    sort_order = [mapping[c] for c in counts]\n",
        "    return sort_order\n",
        "\n",
        "\n",
        "education.sort_index(key=ed_sort, inplace=True)\n",
        "education"
      ],
      "metadata": {
        "id": "8Dq4nqmpFGRC",
        "colab": {
          "base_uri": "https://localhost:8080/"
        },
        "outputId": "3f017517-f0c8-452c-8d8d-cf92706b0f5c"
      },
      "execution_count": 25,
      "outputs": [
        {
          "output_type": "execute_result",
          "data": {
            "text/plain": [
              "highest_degree_earned\n",
              "High School or Baccalaureate    1040\n",
              "Some College (1-3 years)         791\n",
              "Bachelor's degree               3259\n",
              "Master's degree                 1095\n",
              "Doctorate (e.g. PhD)              93\n",
              "Name: count, dtype: int64"
            ]
          },
          "metadata": {},
          "execution_count": 25
        }
      ]
    },
    {
      "cell_type": "code",
      "source": [
        "def build_ed_bar():\n",
        "    # Create bar chart\n",
        "    fig = px.bar(\n",
        "        x=education,\n",
        "        y=education.index,\n",
        "        orientation=\"h\",\n",
        "        title=\"DS Applicants: Highest Degree Earned\"\n",
        "        )\n",
        "    # Add axis labels\n",
        "    fig.update_layout(xaxis_title=\"Frequency [count]\", yaxis_title=\"Highest Degree Earned\")\n",
        "    return fig\n",
        "\n",
        "\n",
        "ed_fig = build_ed_bar()\n",
        "print(\"ed_fig type:\", type(ed_fig))\n",
        "ed_fig.show()"
      ],
      "metadata": {
        "id": "KShhAsBbFUph",
        "colab": {
          "base_uri": "https://localhost:8080/",
          "height": 559
        },
        "outputId": "cd21eb9b-5e19-4852-e08e-858a31debde8"
      },
      "execution_count": 26,
      "outputs": [
        {
          "output_type": "stream",
          "name": "stdout",
          "text": [
            "ed_fig type: <class 'plotly.graph_objs._figure.Figure'>\n"
          ]
        },
        {
          "output_type": "display_data",
          "data": {
            "text/html": [
              "<html>\n",
              "<head><meta charset=\"utf-8\" /></head>\n",
              "<body>\n",
              "    <div>            <script src=\"https://cdnjs.cloudflare.com/ajax/libs/mathjax/2.7.5/MathJax.js?config=TeX-AMS-MML_SVG\"></script><script type=\"text/javascript\">if (window.MathJax && window.MathJax.Hub && window.MathJax.Hub.Config) {window.MathJax.Hub.Config({SVG: {font: \"STIX-Web\"}});}</script>                <script type=\"text/javascript\">window.PlotlyConfig = {MathJaxConfig: 'local'};</script>\n",
              "        <script charset=\"utf-8\" src=\"https://cdn.plot.ly/plotly-2.24.1.min.js\"></script>                <div id=\"330d6014-5e0e-4ca3-980e-bdd5968d0b4c\" class=\"plotly-graph-div\" style=\"height:525px; width:100%;\"></div>            <script type=\"text/javascript\">                                    window.PLOTLYENV=window.PLOTLYENV || {};                                    if (document.getElementById(\"330d6014-5e0e-4ca3-980e-bdd5968d0b4c\")) {                    Plotly.newPlot(                        \"330d6014-5e0e-4ca3-980e-bdd5968d0b4c\",                        [{\"alignmentgroup\":\"True\",\"hovertemplate\":\"x=%{x}\\u003cbr\\u003ey=%{y}\\u003cextra\\u003e\\u003c\\u002fextra\\u003e\",\"legendgroup\":\"\",\"marker\":{\"color\":\"#636efa\",\"pattern\":{\"shape\":\"\"}},\"name\":\"\",\"offsetgroup\":\"\",\"orientation\":\"h\",\"showlegend\":false,\"textposition\":\"auto\",\"x\":[1040,791,3259,1095,93],\"xaxis\":\"x\",\"y\":[\"High School or Baccalaureate\",\"Some College (1-3 years)\",\"Bachelor's degree\",\"Master's degree\",\"Doctorate (e.g. PhD)\"],\"yaxis\":\"y\",\"type\":\"bar\"}],                        {\"template\":{\"data\":{\"histogram2dcontour\":[{\"type\":\"histogram2dcontour\",\"colorbar\":{\"outlinewidth\":0,\"ticks\":\"\"},\"colorscale\":[[0.0,\"#0d0887\"],[0.1111111111111111,\"#46039f\"],[0.2222222222222222,\"#7201a8\"],[0.3333333333333333,\"#9c179e\"],[0.4444444444444444,\"#bd3786\"],[0.5555555555555556,\"#d8576b\"],[0.6666666666666666,\"#ed7953\"],[0.7777777777777778,\"#fb9f3a\"],[0.8888888888888888,\"#fdca26\"],[1.0,\"#f0f921\"]]}],\"choropleth\":[{\"type\":\"choropleth\",\"colorbar\":{\"outlinewidth\":0,\"ticks\":\"\"}}],\"histogram2d\":[{\"type\":\"histogram2d\",\"colorbar\":{\"outlinewidth\":0,\"ticks\":\"\"},\"colorscale\":[[0.0,\"#0d0887\"],[0.1111111111111111,\"#46039f\"],[0.2222222222222222,\"#7201a8\"],[0.3333333333333333,\"#9c179e\"],[0.4444444444444444,\"#bd3786\"],[0.5555555555555556,\"#d8576b\"],[0.6666666666666666,\"#ed7953\"],[0.7777777777777778,\"#fb9f3a\"],[0.8888888888888888,\"#fdca26\"],[1.0,\"#f0f921\"]]}],\"heatmap\":[{\"type\":\"heatmap\",\"colorbar\":{\"outlinewidth\":0,\"ticks\":\"\"},\"colorscale\":[[0.0,\"#0d0887\"],[0.1111111111111111,\"#46039f\"],[0.2222222222222222,\"#7201a8\"],[0.3333333333333333,\"#9c179e\"],[0.4444444444444444,\"#bd3786\"],[0.5555555555555556,\"#d8576b\"],[0.6666666666666666,\"#ed7953\"],[0.7777777777777778,\"#fb9f3a\"],[0.8888888888888888,\"#fdca26\"],[1.0,\"#f0f921\"]]}],\"heatmapgl\":[{\"type\":\"heatmapgl\",\"colorbar\":{\"outlinewidth\":0,\"ticks\":\"\"},\"colorscale\":[[0.0,\"#0d0887\"],[0.1111111111111111,\"#46039f\"],[0.2222222222222222,\"#7201a8\"],[0.3333333333333333,\"#9c179e\"],[0.4444444444444444,\"#bd3786\"],[0.5555555555555556,\"#d8576b\"],[0.6666666666666666,\"#ed7953\"],[0.7777777777777778,\"#fb9f3a\"],[0.8888888888888888,\"#fdca26\"],[1.0,\"#f0f921\"]]}],\"contourcarpet\":[{\"type\":\"contourcarpet\",\"colorbar\":{\"outlinewidth\":0,\"ticks\":\"\"}}],\"contour\":[{\"type\":\"contour\",\"colorbar\":{\"outlinewidth\":0,\"ticks\":\"\"},\"colorscale\":[[0.0,\"#0d0887\"],[0.1111111111111111,\"#46039f\"],[0.2222222222222222,\"#7201a8\"],[0.3333333333333333,\"#9c179e\"],[0.4444444444444444,\"#bd3786\"],[0.5555555555555556,\"#d8576b\"],[0.6666666666666666,\"#ed7953\"],[0.7777777777777778,\"#fb9f3a\"],[0.8888888888888888,\"#fdca26\"],[1.0,\"#f0f921\"]]}],\"surface\":[{\"type\":\"surface\",\"colorbar\":{\"outlinewidth\":0,\"ticks\":\"\"},\"colorscale\":[[0.0,\"#0d0887\"],[0.1111111111111111,\"#46039f\"],[0.2222222222222222,\"#7201a8\"],[0.3333333333333333,\"#9c179e\"],[0.4444444444444444,\"#bd3786\"],[0.5555555555555556,\"#d8576b\"],[0.6666666666666666,\"#ed7953\"],[0.7777777777777778,\"#fb9f3a\"],[0.8888888888888888,\"#fdca26\"],[1.0,\"#f0f921\"]]}],\"mesh3d\":[{\"type\":\"mesh3d\",\"colorbar\":{\"outlinewidth\":0,\"ticks\":\"\"}}],\"scatter\":[{\"fillpattern\":{\"fillmode\":\"overlay\",\"size\":10,\"solidity\":0.2},\"type\":\"scatter\"}],\"parcoords\":[{\"type\":\"parcoords\",\"line\":{\"colorbar\":{\"outlinewidth\":0,\"ticks\":\"\"}}}],\"scatterpolargl\":[{\"type\":\"scatterpolargl\",\"marker\":{\"colorbar\":{\"outlinewidth\":0,\"ticks\":\"\"}}}],\"bar\":[{\"error_x\":{\"color\":\"#2a3f5f\"},\"error_y\":{\"color\":\"#2a3f5f\"},\"marker\":{\"line\":{\"color\":\"#E5ECF6\",\"width\":0.5},\"pattern\":{\"fillmode\":\"overlay\",\"size\":10,\"solidity\":0.2}},\"type\":\"bar\"}],\"scattergeo\":[{\"type\":\"scattergeo\",\"marker\":{\"colorbar\":{\"outlinewidth\":0,\"ticks\":\"\"}}}],\"scatterpolar\":[{\"type\":\"scatterpolar\",\"marker\":{\"colorbar\":{\"outlinewidth\":0,\"ticks\":\"\"}}}],\"histogram\":[{\"marker\":{\"pattern\":{\"fillmode\":\"overlay\",\"size\":10,\"solidity\":0.2}},\"type\":\"histogram\"}],\"scattergl\":[{\"type\":\"scattergl\",\"marker\":{\"colorbar\":{\"outlinewidth\":0,\"ticks\":\"\"}}}],\"scatter3d\":[{\"type\":\"scatter3d\",\"line\":{\"colorbar\":{\"outlinewidth\":0,\"ticks\":\"\"}},\"marker\":{\"colorbar\":{\"outlinewidth\":0,\"ticks\":\"\"}}}],\"scattermapbox\":[{\"type\":\"scattermapbox\",\"marker\":{\"colorbar\":{\"outlinewidth\":0,\"ticks\":\"\"}}}],\"scatterternary\":[{\"type\":\"scatterternary\",\"marker\":{\"colorbar\":{\"outlinewidth\":0,\"ticks\":\"\"}}}],\"scattercarpet\":[{\"type\":\"scattercarpet\",\"marker\":{\"colorbar\":{\"outlinewidth\":0,\"ticks\":\"\"}}}],\"carpet\":[{\"aaxis\":{\"endlinecolor\":\"#2a3f5f\",\"gridcolor\":\"white\",\"linecolor\":\"white\",\"minorgridcolor\":\"white\",\"startlinecolor\":\"#2a3f5f\"},\"baxis\":{\"endlinecolor\":\"#2a3f5f\",\"gridcolor\":\"white\",\"linecolor\":\"white\",\"minorgridcolor\":\"white\",\"startlinecolor\":\"#2a3f5f\"},\"type\":\"carpet\"}],\"table\":[{\"cells\":{\"fill\":{\"color\":\"#EBF0F8\"},\"line\":{\"color\":\"white\"}},\"header\":{\"fill\":{\"color\":\"#C8D4E3\"},\"line\":{\"color\":\"white\"}},\"type\":\"table\"}],\"barpolar\":[{\"marker\":{\"line\":{\"color\":\"#E5ECF6\",\"width\":0.5},\"pattern\":{\"fillmode\":\"overlay\",\"size\":10,\"solidity\":0.2}},\"type\":\"barpolar\"}],\"pie\":[{\"automargin\":true,\"type\":\"pie\"}]},\"layout\":{\"autotypenumbers\":\"strict\",\"colorway\":[\"#636efa\",\"#EF553B\",\"#00cc96\",\"#ab63fa\",\"#FFA15A\",\"#19d3f3\",\"#FF6692\",\"#B6E880\",\"#FF97FF\",\"#FECB52\"],\"font\":{\"color\":\"#2a3f5f\"},\"hovermode\":\"closest\",\"hoverlabel\":{\"align\":\"left\"},\"paper_bgcolor\":\"white\",\"plot_bgcolor\":\"#E5ECF6\",\"polar\":{\"bgcolor\":\"#E5ECF6\",\"angularaxis\":{\"gridcolor\":\"white\",\"linecolor\":\"white\",\"ticks\":\"\"},\"radialaxis\":{\"gridcolor\":\"white\",\"linecolor\":\"white\",\"ticks\":\"\"}},\"ternary\":{\"bgcolor\":\"#E5ECF6\",\"aaxis\":{\"gridcolor\":\"white\",\"linecolor\":\"white\",\"ticks\":\"\"},\"baxis\":{\"gridcolor\":\"white\",\"linecolor\":\"white\",\"ticks\":\"\"},\"caxis\":{\"gridcolor\":\"white\",\"linecolor\":\"white\",\"ticks\":\"\"}},\"coloraxis\":{\"colorbar\":{\"outlinewidth\":0,\"ticks\":\"\"}},\"colorscale\":{\"sequential\":[[0.0,\"#0d0887\"],[0.1111111111111111,\"#46039f\"],[0.2222222222222222,\"#7201a8\"],[0.3333333333333333,\"#9c179e\"],[0.4444444444444444,\"#bd3786\"],[0.5555555555555556,\"#d8576b\"],[0.6666666666666666,\"#ed7953\"],[0.7777777777777778,\"#fb9f3a\"],[0.8888888888888888,\"#fdca26\"],[1.0,\"#f0f921\"]],\"sequentialminus\":[[0.0,\"#0d0887\"],[0.1111111111111111,\"#46039f\"],[0.2222222222222222,\"#7201a8\"],[0.3333333333333333,\"#9c179e\"],[0.4444444444444444,\"#bd3786\"],[0.5555555555555556,\"#d8576b\"],[0.6666666666666666,\"#ed7953\"],[0.7777777777777778,\"#fb9f3a\"],[0.8888888888888888,\"#fdca26\"],[1.0,\"#f0f921\"]],\"diverging\":[[0,\"#8e0152\"],[0.1,\"#c51b7d\"],[0.2,\"#de77ae\"],[0.3,\"#f1b6da\"],[0.4,\"#fde0ef\"],[0.5,\"#f7f7f7\"],[0.6,\"#e6f5d0\"],[0.7,\"#b8e186\"],[0.8,\"#7fbc41\"],[0.9,\"#4d9221\"],[1,\"#276419\"]]},\"xaxis\":{\"gridcolor\":\"white\",\"linecolor\":\"white\",\"ticks\":\"\",\"title\":{\"standoff\":15},\"zerolinecolor\":\"white\",\"automargin\":true,\"zerolinewidth\":2},\"yaxis\":{\"gridcolor\":\"white\",\"linecolor\":\"white\",\"ticks\":\"\",\"title\":{\"standoff\":15},\"zerolinecolor\":\"white\",\"automargin\":true,\"zerolinewidth\":2},\"scene\":{\"xaxis\":{\"backgroundcolor\":\"#E5ECF6\",\"gridcolor\":\"white\",\"linecolor\":\"white\",\"showbackground\":true,\"ticks\":\"\",\"zerolinecolor\":\"white\",\"gridwidth\":2},\"yaxis\":{\"backgroundcolor\":\"#E5ECF6\",\"gridcolor\":\"white\",\"linecolor\":\"white\",\"showbackground\":true,\"ticks\":\"\",\"zerolinecolor\":\"white\",\"gridwidth\":2},\"zaxis\":{\"backgroundcolor\":\"#E5ECF6\",\"gridcolor\":\"white\",\"linecolor\":\"white\",\"showbackground\":true,\"ticks\":\"\",\"zerolinecolor\":\"white\",\"gridwidth\":2}},\"shapedefaults\":{\"line\":{\"color\":\"#2a3f5f\"}},\"annotationdefaults\":{\"arrowcolor\":\"#2a3f5f\",\"arrowhead\":0,\"arrowwidth\":1},\"geo\":{\"bgcolor\":\"white\",\"landcolor\":\"#E5ECF6\",\"subunitcolor\":\"white\",\"showland\":true,\"showlakes\":true,\"lakecolor\":\"white\"},\"title\":{\"x\":0.05},\"mapbox\":{\"style\":\"light\"}}},\"xaxis\":{\"anchor\":\"y\",\"domain\":[0.0,1.0],\"title\":{\"text\":\"Frequency [count]\"}},\"yaxis\":{\"anchor\":\"x\",\"domain\":[0.0,1.0],\"title\":{\"text\":\"Highest Degree Earned\"}},\"legend\":{\"tracegroupgap\":0},\"title\":{\"text\":\"DS Applicants: Highest Degree Earned\"},\"barmode\":\"relative\"},                        {\"responsive\": true}                    ).then(function(){\n",
              "                            \n",
              "var gd = document.getElementById('330d6014-5e0e-4ca3-980e-bdd5968d0b4c');\n",
              "var x = new MutationObserver(function (mutations, observer) {{\n",
              "        var display = window.getComputedStyle(gd).display;\n",
              "        if (!display || display === 'none') {{\n",
              "            console.log([gd, 'removed!']);\n",
              "            Plotly.purge(gd);\n",
              "            observer.disconnect();\n",
              "        }}\n",
              "}});\n",
              "\n",
              "// Listen for the removal of the full notebook cells\n",
              "var notebookContainer = gd.closest('#notebook-container');\n",
              "if (notebookContainer) {{\n",
              "    x.observe(notebookContainer, {childList: true});\n",
              "}}\n",
              "\n",
              "// Listen for the clearing of the current output cell\n",
              "var outputEl = gd.closest('.output');\n",
              "if (outputEl) {{\n",
              "    x.observe(outputEl, {childList: true});\n",
              "}}\n",
              "\n",
              "                        })                };                            </script>        </div>\n",
              "</body>\n",
              "</html>"
            ]
          },
          "metadata": {}
        }
      ]
    }
  ]
}