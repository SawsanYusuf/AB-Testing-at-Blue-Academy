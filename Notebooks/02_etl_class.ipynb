{
  "nbformat": 4,
  "nbformat_minor": 0,
  "metadata": {
    "colab": {
      "provenance": []
    },
    "kernelspec": {
      "name": "python3",
      "display_name": "Python 3"
    },
    "language_info": {
      "name": "python"
    }
  },
  "cells": [
    {
      "cell_type": "markdown",
      "source": [
        "<font size=\"+3\"><strong>2. Extract, Transform, Load</strong></font>"
      ],
      "metadata": {
        "id": "dCYqEdUrTGCV"
      }
    },
    {
      "cell_type": "markdown",
      "source": [
        "In the last notebook, we focused on exploratory data analysis. Specifically, we extracted information from our MongoDB database in order to describe some characteristics of the DS Lab applicant pool — country of origin, age, and education level. In this notebook, our goal is to design our experiment, and that means we'll need to go beyond extracting information. We'll also need to make some transformations in our data and then load it back into our database.\n",
        "\n",
        "In Data Science and Data Engineering, the process of taking data from a source, changing it, and then loading it into a database is called **ETL**, which is short for **extract, transform, load**. ETL tends to be more programming-intensive than other data science tasks like visualization, so we'll also spend time in this lesson exploring Python as an **object-oriented programming** language. Specifically, we'll create our own Python **class** to contain our ETL processes."
      ],
      "metadata": {
        "id": "9bNOndFWTITX"
      }
    },
    {
      "cell_type": "code",
      "execution_count": 4,
      "metadata": {
        "id": "8EDNfSXRSjXI"
      },
      "outputs": [],
      "source": [
        "# Import libraries\n",
        "import random\n",
        "\n",
        "import pandas as pd\n",
        "from pymongo.mongo_client import MongoClient"
      ]
    },
    {
      "cell_type": "markdown",
      "source": [
        "# **1. Connect**"
      ],
      "metadata": {
        "id": "wuBB5FinTU64"
      }
    },
    {
      "cell_type": "code",
      "source": [
        "client = MongoClient(uri)\n",
        "db = client[\"ds-abtest\"]\n",
        "ds_app = db[\"ds-applicants\"]\n",
        "\n",
        "print(\"client:\", type(client))\n",
        "print(\"ds_app:\", type(ds_app))"
      ],
      "metadata": {
        "colab": {
          "base_uri": "https://localhost:8080/"
        },
        "id": "b2DY73exPqGW",
        "outputId": "3dc2db7b-0a33-4ef4-9810-69e71a542a1a"
      },
      "execution_count": 12,
      "outputs": [
        {
          "output_type": "stream",
          "name": "stdout",
          "text": [
            "client: <class 'pymongo.mongo_client.MongoClient'>\n",
            "ds_app: <class 'pymongo.collection.Collection'>\n"
          ]
        }
      ]
    },
    {
      "cell_type": "markdown",
      "source": [
        "# **2. Extract: Developing the Hypothesis**"
      ],
      "metadata": {
        "id": "xg4dk1eJThWo"
      }
    },
    {
      "cell_type": "markdown",
      "source": [
        "Now that we've connected to the data, we need to pull out the information we need. One aspect of our applicant pool that we didn't explore in the last notebook is how many applicants actually complete the DS python quiz."
      ],
      "metadata": {
        "id": "GsZ5ih8zTk7n"
      }
    },
    {
      "cell_type": "code",
      "source": [
        "# How many applicants complete python quiz?\n",
        "result = ds_app.aggregate(\n",
        "    [\n",
        "        {\n",
        "            \"$group\": {\n",
        "                 \"_id\": \"$pythonQuiz\",\n",
        "                 \"count\": {\"$count\":{}}\n",
        "                }\n",
        "            }\n",
        "        ]\n",
        "    )\n",
        "\n",
        "for r in result:\n",
        "    if r[\"_id\"] == \"incomplete\":\n",
        "        incomplete = r[\"count\"]\n",
        "    else:\n",
        "        complete = r[\"count\"]\n",
        "\n",
        "print(\"Completed quiz:\", complete)\n",
        "print(\"Did not complete quiz:\", incomplete)"
      ],
      "metadata": {
        "id": "0ImCQEsITqCm",
        "colab": {
          "base_uri": "https://localhost:8080/"
        },
        "outputId": "84c82f80-0c49-4eb5-fd3c-1034580a8b23"
      },
      "execution_count": 14,
      "outputs": [
        {
          "output_type": "stream",
          "name": "stdout",
          "text": [
            "Completed quiz: 971\n",
            "Did not complete quiz: 364\n"
          ]
        }
      ]
    },
    {
      "cell_type": "markdown",
      "source": [
        "That gives us some raw numbers, but we're interested in participation *rates*, not participation numbers. Let's turn what we just got into a percentage."
      ],
      "metadata": {
        "id": "M0e7L3JzTxd0"
      }
    },
    {
      "cell_type": "code",
      "source": [
        "total = complete + incomplete\n",
        "prop_incomplete = incomplete / total\n",
        "print(\n",
        "    \"Proportion of users who don't complete admissions quiz:\", round(prop_incomplete, 2)\n",
        ")"
      ],
      "metadata": {
        "id": "iQjOGb0cT35A",
        "colab": {
          "base_uri": "https://localhost:8080/"
        },
        "outputId": "b370d7e8-e38f-48e9-995f-9d0ebf9201e0"
      },
      "execution_count": null,
      "outputs": [
        {
          "output_type": "stream",
          "name": "stdout",
          "text": [
            "Proportion of users who don't complete admissions quiz: 0.27\n"
          ]
        }
      ]
    },
    {
      "cell_type": "markdown",
      "source": [
        "Now that we know that around a quarter of DS Lab applicants don't complete the admissions quiz, is there anything we can do improve the completion rate?\n",
        "\n",
        "\n",
        "A **hypothesis** is an informed guess about what we think is going to happen in an experiment. We probably hope that whatever we're trying out is going to work, but it's important to maintain a healthy degree of skepticism. Science experiments are designed to demonstrate what *does* work, not what doesn't, so we always start out by assuming that whatever we're about to do won't make a difference (even if we hope it will). The idea that an experimental intervention won't change anything is called a **null hypothesis** ($H_0$), and every experiment either rejects the null hypothesis (meaning the intervention worked), or fails to reject the null hypothesis (meaning it didn't).\n",
        "\n",
        "The mirror image of the null hypothesis is called an **alternate hypothesis** ($H_a$), and it proceeds from the idea that whatever we're about to do actually *will* work. If I'm trying to figure out whether exercising is going to help me lose weight, the null hypothesis says that if I exercise, I won't lose any weight. The alternate hypothesis says that if I exercise, I will lose weight.\n",
        "\n",
        "It's important to keep both types of hypothesis in mind as we work through our experimental design."
      ],
      "metadata": {
        "id": "KrXpdxGXT9op"
      }
    },
    {
      "cell_type": "code",
      "source": [
        "null_hypothesis = \"\"\"\n",
        "   There is no relationship between receiving an email and completing the python quiz.\n",
        "   Sending an email to \"no-quiz applicants\" doesn't increase the rate of completion.\n",
        "\"\"\"\n",
        "alternate_hypothesis = \"\"\"\n",
        "   There is a relationship between receiving an email and completing the python quiz.\n",
        "   Sending an email to 'no-quiz applicants' does increase the rate of completion.\n",
        "\"\"\"\n",
        "print(\"Null Hypothesis:\", null_hypothesis)\n",
        "print(\"Alternate Hypothesis:\", alternate_hypothesis)"
      ],
      "metadata": {
        "id": "nSxhxgOEUFy_",
        "colab": {
          "base_uri": "https://localhost:8080/"
        },
        "outputId": "a52218d5-51db-481a-d3c7-e651361fabcf"
      },
      "execution_count": 15,
      "outputs": [
        {
          "output_type": "stream",
          "name": "stdout",
          "text": [
            "Null Hypothesis: \n",
            "   There is no relationship between receiving an email and completing the python quiz.\n",
            "   Sending an email to \"no-quiz applicants\" doesn't increase the rate of completion.\n",
            "\n",
            "Alternate Hypothesis: \n",
            "   There is a relationship between receiving an email and completing the python quiz.\n",
            "   Sending an email to 'no-quiz applicants' does increase the rate of completion.\n",
            "\n"
          ]
        }
      ]
    },
    {
      "cell_type": "markdown",
      "source": [
        "The next thing we need to do is figure out a way to filter the data so that we're only looking at students who applied on a certain date. This is a perfect chance to write a function!"
      ],
      "metadata": {
        "id": "chc86ofyUMBu"
      }
    },
    {
      "cell_type": "code",
      "source": [
        "def find_by_date(collection, date_string):\n",
        "    \"\"\"Find records in a PyMongo Collection created on a given date.\n",
        "\n",
        "    Parameters\n",
        "    ----------\n",
        "    collection : pymongo.collection.Collection\n",
        "        Collection in which to search for documents.\n",
        "    date_string : str\n",
        "        Date to query. Format must be '%Y-%m-%d', e.g. '2022-06-28'.\n",
        "\n",
        "    Returns\n",
        "    -------\n",
        "    observations : list\n",
        "        Result of query. List of documents (dictionaries).\n",
        "    \"\"\"\n",
        "    # Convert `date_string` to datetime object\n",
        "    start = pd.to_datetime(date_string, format = \"%Y-%m-%d\")\n",
        "    # Offset `start` by 1 day\n",
        "    end = start + pd.DateOffset(days=1)\n",
        "    # Create PyMongo query for no-quiz applicants b/t `start` and `end`\n",
        "    query = {\"createdAt\": {\"$gte\": start, \"$lt\": end}, \"pythonQuiz\": \"incomplete\"}\n",
        "    # Query collection, get result\n",
        "    result = collection.find(query)\n",
        "    # Convert `result` to list\n",
        "    observations = list(result)\n",
        "    # REMOVE}\n",
        "    return observations"
      ],
      "metadata": {
        "id": "jnxRoF43URQR"
      },
      "execution_count": 16,
      "outputs": []
    },
    {
      "cell_type": "markdown",
      "source": [
        "3 June 2022 seems like as good a date as any, so let's use the function we just wrote to get all the students who applied that day."
      ],
      "metadata": {
        "id": "zXgnAMlLUUrC"
      }
    },
    {
      "cell_type": "code",
      "source": [
        "observations = find_by_date(ds_app, date_string=\"2022-06-03\")\n",
        "\n",
        "print(\"observations type:\", type(observations))\n",
        "print(\"observations len:\", len(observations))\n",
        "observations[0]"
      ],
      "metadata": {
        "id": "4Z8ibmREUdPu",
        "colab": {
          "base_uri": "https://localhost:8080/"
        },
        "outputId": "06a852c0-5133-46f1-9f13-484119d9df04"
      },
      "execution_count": 18,
      "outputs": [
        {
          "output_type": "stream",
          "name": "stdout",
          "text": [
            "observations type: <class 'list'>\n",
            "observations len: 12\n"
          ]
        },
        {
          "output_type": "execute_result",
          "data": {
            "text/plain": [
              "{'_id': ObjectId('651c300236eab9d3c09aeede'),\n",
              " 'createdAt': datetime.datetime(2022, 6, 3, 16, 38, 11),\n",
              " 'firstName': 'James',\n",
              " 'lastName': 'Huston',\n",
              " 'email': 'james.huston13@gmall.com',\n",
              " 'birthday': datetime.datetime(1996, 4, 21, 0, 0),\n",
              " 'gender': 'male',\n",
              " 'highestDegreeEarned': \"Bachelor's degree\",\n",
              " 'countryISO2': 'IN',\n",
              " 'pythonQuiz': 'incomplete'}"
            ]
          },
          "metadata": {},
          "execution_count": 18
        }
      ]
    },
    {
      "cell_type": "markdown",
      "source": [
        "# **3. Transform: Designing the Experiment**"
      ],
      "metadata": {
        "id": "h5Xt21csUkgy"
      }
    },
    {
      "cell_type": "markdown",
      "source": [
        "Okay! Now that we've extracted the data we'll need for the experiment, it's time to get our hands dirty.\n",
        "\n",
        "The **transform** stage of ETL involves manipulating the data we just extracted. In this case, we're going to be figuring out which students didn't take the quiz, and assigning them to different experimental groups. To do that, we'll need to *transform* each document in the database by creating a new attribute for each record.\n",
        "\n",
        "Now we can split the students who didn't take the quiz into two groups: one that will receive a reminder email, and one that will not."
      ],
      "metadata": {
        "id": "lFE51uxkUttu"
      }
    },
    {
      "cell_type": "code",
      "source": [
        "def assign_to_groups(observations):\n",
        "    \"\"\"Randomly assigns observations to control and treatment groups.\n",
        "\n",
        "    Parameters\n",
        "    ----------\n",
        "    observations : list or pymongo.cursor.Cursor\n",
        "        List of users to assign to groups.\n",
        "\n",
        "    Returns\n",
        "    -------\n",
        "    observations : list\n",
        "        List of documents from `observations` with two additional keys:\n",
        "        `inExperiment` and `group`.\n",
        "    \"\"\"\n",
        "    # Shuffle `observations`\n",
        "    random.seed(42)\n",
        "    random.shuffle(observations)\n",
        "\n",
        "    # Get index position of item at observations halfway point\n",
        "    idx = len(observations) // 2\n",
        "\n",
        "    # Assign first half of observations to control group\n",
        "    for doc in observations [:idx]:\n",
        "        doc[\"inExperiment\"] = True\n",
        "        doc[\"group\"] = \"no email (control)\"\n",
        "\n",
        "    # Assign second half of observations to treatment group\n",
        "    for doc in observations [idx:]:\n",
        "        doc[\"inExperiment\"] = True\n",
        "        doc[\"group\"] = \"email (treatment)\"\n",
        "\n",
        "    return observations"
      ],
      "metadata": {
        "id": "fN7ubY38UycE"
      },
      "execution_count": 19,
      "outputs": []
    },
    {
      "cell_type": "code",
      "source": [
        "observations_assigned = assign_to_groups(observations)\n",
        "\n",
        "print(\"observations_assigned type:\", type(observations_assigned))\n",
        "print(\"observations_assigned len:\", len(observations_assigned))\n",
        "observations_assigned[0]"
      ],
      "metadata": {
        "colab": {
          "base_uri": "https://localhost:8080/"
        },
        "id": "W3_vKD3GfyeB",
        "outputId": "e6001c86-b713-49d4-9987-21caded4bd75"
      },
      "execution_count": 20,
      "outputs": [
        {
          "output_type": "stream",
          "name": "stdout",
          "text": [
            "observations_assigned type: <class 'list'>\n",
            "observations_assigned len: 12\n"
          ]
        },
        {
          "output_type": "execute_result",
          "data": {
            "text/plain": [
              "{'_id': ObjectId('651c300236eab9d3c09af0b0'),\n",
              " 'createdAt': datetime.datetime(2022, 6, 3, 19, 33, 44),\n",
              " 'firstName': 'Armando',\n",
              " 'lastName': 'Kozel',\n",
              " 'email': 'armando.kozel49@gmall.com',\n",
              " 'birthday': datetime.datetime(1993, 2, 15, 0, 0),\n",
              " 'gender': 'male',\n",
              " 'highestDegreeEarned': \"Bachelor's degree\",\n",
              " 'countryISO2': 'US',\n",
              " 'pythonQuiz': 'incomplete',\n",
              " 'inExperiment': True,\n",
              " 'group': 'no email (control)'}"
            ]
          },
          "metadata": {},
          "execution_count": 20
        }
      ]
    },
    {
      "cell_type": "code",
      "source": [
        "def export_treatment_emails(observations_assigned, directory=\".\"):\n",
        "    \"\"\"Creates CSV file with email addresses of observations in treatment group.\n",
        "\n",
        "    CSV file name will include today's date, e.g. `'2022-06-28_ab-test.csv'`,\n",
        "    and a `'tag'` column where every row will be 'ab-test'.\n",
        "\n",
        "    Parameters\n",
        "    ----------\n",
        "    observations_assigned : list\n",
        "        Observations with group assignment.\n",
        "    directory : str, default='.'\n",
        "        Location for saved CSV file.\n",
        "\n",
        "    Returns\n",
        "    -------\n",
        "    None\n",
        "    \"\"\"\n",
        "    # Put `observations_assigned` docs into DataFrame\n",
        "    df = pd.DataFrame(observations_assigned)\n",
        "\n",
        "    # Add `\"tag\"` column\n",
        "    df[\"tag\"] = \"ab-test\"\n",
        "\n",
        "    # Create mask for treatment group only\n",
        "    mask = df[\"group\"] == \"email (treatment)\"\n",
        "\n",
        "    # Create filename with date\n",
        "    date_string = pd.Timestamp.now().strftime(format=\"%Y-%m-%d\")\n",
        "    filename = directory + \"/\" + date_string + \"_ab-test.csv\"\n",
        "\n",
        "    # Save DataFrame to directory (email and tag only)\n",
        "    df[mask][[\"email\", \"tag\"]].to_csv(filename, index=False)"
      ],
      "metadata": {
        "id": "QOSlRzPQVB-T"
      },
      "execution_count": 21,
      "outputs": []
    },
    {
      "cell_type": "code",
      "source": [
        "export_treatment_emails(observations_assigned=observations_assigned)"
      ],
      "metadata": {
        "id": "yHb_U5y1f878"
      },
      "execution_count": 22,
      "outputs": []
    },
    {
      "cell_type": "markdown",
      "source": [
        "# **4. Load: Preparing the Data**"
      ],
      "metadata": {
        "id": "_fK5R1l2VFyz"
      }
    },
    {
      "cell_type": "markdown",
      "source": [
        "We've *extracted* the data and written a bunch of functions we can use to *transform* the data, so it's time for the third part of this module: *loading* the data.\n",
        "\n",
        "We've assigned the no-quiz applicants to groups for our experiment, so we should update the records in the `\"ds-applicants\"` collection to reflect that assignment. Before we update all our records, let's start with just one."
      ],
      "metadata": {
        "id": "yPgtj47QVr54"
      }
    },
    {
      "cell_type": "code",
      "source": [
        "# Assign the first item in observations_assigned list to the variable updated_applicant. The assign that applicant's ID to the variable applicant_id.\n",
        "updated_applicant = observations_assigned[0]\n",
        "applicant_id = updated_applicant[\"_id\"]\n",
        "print(\"applicant type:\", type(updated_applicant))\n",
        "print(updated_applicant)\n",
        "print()\n",
        "print(\"applicant_id type:\", type(applicant_id))\n",
        "print(applicant_id)"
      ],
      "metadata": {
        "id": "tXnZ4xnXWw84",
        "colab": {
          "base_uri": "https://localhost:8080/"
        },
        "outputId": "44f47601-9d7c-4680-857f-466bfb15d016"
      },
      "execution_count": 23,
      "outputs": [
        {
          "output_type": "stream",
          "name": "stdout",
          "text": [
            "applicant type: <class 'dict'>\n",
            "{'_id': ObjectId('651c300236eab9d3c09af0b0'), 'createdAt': datetime.datetime(2022, 6, 3, 19, 33, 44), 'firstName': 'Armando', 'lastName': 'Kozel', 'email': 'armando.kozel49@gmall.com', 'birthday': datetime.datetime(1993, 2, 15, 0, 0), 'gender': 'male', 'highestDegreeEarned': \"Bachelor's degree\", 'countryISO2': 'US', 'pythonQuiz': 'incomplete', 'inExperiment': True, 'group': 'no email (control)'}\n",
            "\n",
            "applicant_id type: <class 'bson.objectid.ObjectId'>\n",
            "651c300236eab9d3c09af0b0\n"
          ]
        }
      ]
    },
    {
      "cell_type": "markdown",
      "source": [
        "Now that we have the unique identifier for one of the applicants, we can find it in the collection."
      ],
      "metadata": {
        "id": "gZLsGaUnW2Pq"
      }
    },
    {
      "cell_type": "code",
      "source": [
        "# Find original record for `applicant_id`\n",
        "ds_app.find_one({\"_id\": applicant_id})"
      ],
      "metadata": {
        "colab": {
          "base_uri": "https://localhost:8080/"
        },
        "id": "d6hAzt00gaHI",
        "outputId": "8a21ca90-1eb1-42ce-a004-b43403da2c21"
      },
      "execution_count": 24,
      "outputs": [
        {
          "output_type": "execute_result",
          "data": {
            "text/plain": [
              "{'_id': ObjectId('651c300236eab9d3c09af0b0'),\n",
              " 'createdAt': datetime.datetime(2022, 6, 3, 19, 33, 44),\n",
              " 'firstName': 'Armando',\n",
              " 'lastName': 'Kozel',\n",
              " 'email': 'armando.kozel49@gmall.com',\n",
              " 'birthday': datetime.datetime(1993, 2, 15, 0, 0),\n",
              " 'gender': 'male',\n",
              " 'highestDegreeEarned': \"Bachelor's degree\",\n",
              " 'countryISO2': 'US',\n",
              " 'pythonQuiz': 'incomplete'}"
            ]
          },
          "metadata": {},
          "execution_count": 24
        }
      ]
    },
    {
      "cell_type": "markdown",
      "source": [
        "And now we can update that document to show which group that applicant belongs to."
      ],
      "metadata": {
        "id": "xABkDYsJXAkT"
      }
    },
    {
      "cell_type": "code",
      "source": [
        "result = ds_app.update_one(\n",
        "    filter={\"_id\": applicant_id},\n",
        "    update={\"$set\": updated_applicant}\n",
        ")\n",
        "print(\"result type:\", type(result))"
      ],
      "metadata": {
        "id": "LX95Q0ksXFPP",
        "colab": {
          "base_uri": "https://localhost:8080/"
        },
        "outputId": "8010ff83-fe6b-4893-8d20-38af17ffd7ce"
      },
      "execution_count": 25,
      "outputs": [
        {
          "output_type": "stream",
          "name": "stdout",
          "text": [
            "result type: <class 'pymongo.results.UpdateResult'>\n"
          ]
        }
      ]
    },
    {
      "cell_type": "markdown",
      "source": [
        "We know how to update a record, and we can interpret our operation results. Since we can do it for one record, we can do it for all of them! So let's update the records for all the observations in our experiment."
      ],
      "metadata": {
        "id": "u9yPfSigXUG_"
      }
    },
    {
      "cell_type": "code",
      "source": [
        "def update_applicants(collection, observations_assigned):\n",
        "    \"\"\"Update applicant documents in collection.\n",
        "\n",
        "    Parameters\n",
        "    ----------\n",
        "    collection : pymongo.collection.Collection\n",
        "        Collection in which documents will be updated.\n",
        "\n",
        "    observations_assigned : list\n",
        "        Documents that will be used to update collection\n",
        "\n",
        "    Returns\n",
        "    -------\n",
        "    transaction_result : dict\n",
        "        Status of update operation, including number of documents\n",
        "        and number of documents modified.\n",
        "    \"\"\"\n",
        "    # Initialize counters\n",
        "    n = 0\n",
        "    n_modified = 0\n",
        "\n",
        "    # Iterate through applicants\n",
        "    for doc in observations_assigned:\n",
        "        # Update doc\n",
        "        result = collection.update_one(\n",
        "            filter={\"_id\": doc[\"_id\"]},\n",
        "            update={\"$set\": doc}\n",
        "        )\n",
        "        # Update counters\n",
        "        n += result.matched_count\n",
        "        n_modified += result.modified_count\n",
        "\n",
        "    # Create results\n",
        "    transaction_result = {\"n\": n, \"nModified\": n_modified}\n",
        "\n",
        "    return transaction_result"
      ],
      "metadata": {
        "id": "M_Bbil8QXZyP"
      },
      "execution_count": 27,
      "outputs": []
    },
    {
      "cell_type": "code",
      "source": [
        "result = update_applicants(ds_app, observations_assigned)\n",
        "print(\"result type:\", type(result))\n",
        "result"
      ],
      "metadata": {
        "id": "s4rXeXJpXcJP",
        "colab": {
          "base_uri": "https://localhost:8080/"
        },
        "outputId": "0cd30bb4-403e-4528-dc17-f8938d7af155"
      },
      "execution_count": 28,
      "outputs": [
        {
          "output_type": "stream",
          "name": "stdout",
          "text": [
            "result type: <class 'dict'>\n"
          ]
        },
        {
          "output_type": "execute_result",
          "data": {
            "text/plain": [
              "{'n': 12, 'nModified': 11}"
            ]
          },
          "metadata": {},
          "execution_count": 28
        }
      ]
    },
    {
      "cell_type": "markdown",
      "source": [
        "# **5. Python Classes: Building the Repository**"
      ],
      "metadata": {
        "id": "Yv5q1ygjXkwR"
      }
    },
    {
      "cell_type": "markdown",
      "source": [
        "We've managed to extract data from our database using our `find_by_date` function, transform it using our `assign_to_groups` function, and load it using our `update_applicants` function. Does that mean we're done? Not yet! There's an issue we need to address: distraction.\n",
        "\n",
        "What do we mean when we say distraction? Think about it this way: Do you need to know the exact code that makes `df.describe()` work? No, you just need to calculate summary statistics! Going into more details would distract you from the work you need to get done. The same is true of the tools you've created in this lesson. Others will want to use them in future experiments with worrying about your implementation. The solution is to **abstract** the details of your code away.\n",
        "\n",
        "To do this we're going to create a [Python class.](https://docs.python.org/3/tutorial/classes.html) Python classes contain both information and ways to interact with that information. An example of class is a pandas `DataFrame`. Not only does it hold data (like the size of an apartment in Buenos Aires or the income of a household in the United States); it also provides methods for inspecting it (like `DataFrame.head()` or `DataFrame.info()`) and manipulating it (like `DataFrame.sum()` or `DataFrame.replace()`).\n",
        "\n",
        "In the case of this project, we want to create a class that will hold information about the documents we want (like the name and location of the collection) and provide tools for interacting with those documents (like the functions we've built above)."
      ],
      "metadata": {
        "id": "AgNV05nfXn-h"
      }
    },
    {
      "cell_type": "code",
      "source": [
        "class MongoRepository:\n",
        "    \"\"\"Repository class for interacting with MongoDB database.\n",
        "\n",
        "    Parameters\n",
        "    ----------\n",
        "    client : `pymongo.MongoClient`\n",
        "        By default, `MongoClient(host='localhost', port=27017)`.\n",
        "    db : str\n",
        "        By default, `'wqu-abtest'`.\n",
        "    collection : str\n",
        "        By default, `'ds-applicants'`.\n",
        "\n",
        "    Attributes\n",
        "    ----------\n",
        "    collection : pymongo.collection.Collection\n",
        "        All data will be extracted from and loaded to this collection.\n",
        "    \"\"\"\n",
        "\n",
        "    # Task 7.2.14\n",
        "    def __init__(\n",
        "        self,\n",
        "        client = MongoClient(uri),\n",
        "        db = client[\"ds-abtest\"],\n",
        "        ds_app = db[\"ds-applicants\"]\n",
        "\n",
        "     ):\n",
        "        self.collection = db[\"ds-applicants\"]\n",
        "\n",
        "    def find_by_date(self, date_string):\n",
        "        # Convert `date_string` to datetime object\n",
        "        start = pd.to_datetime(date_string, format = \"%Y-%m-%d\")\n",
        "        # Offset `start` by 1 day\n",
        "        end = start + pd.DateOffset(days=1)\n",
        "        # Create PyMongo query for no-quiz applicants b/t `start` and `end`\n",
        "        query = {\"createdAt\": {\"$gte\": start, \"$lt\": end}, \"pythonQuiz\": \"incomplete\"}\n",
        "        # Query collection, get result\n",
        "        result = self.collection.find(query)\n",
        "        # Convert `result` to list\n",
        "        observations = list(result)\n",
        "\n",
        "        return observations\n",
        "\n",
        "    def update_applicants(self, observations_assigned):\n",
        "\n",
        "        # Initialize counters\n",
        "        n = 0\n",
        "        n_modified = 0\n",
        "\n",
        "        # Iterate through applicants\n",
        "        for doc in observations_assigned:\n",
        "\n",
        "            # Update doc\n",
        "            result = self.collection.update_one(\n",
        "                  filter={\"_id\": doc[\"_id\"]},\n",
        "                  update={\"$set\": doc}\n",
        "            )\n",
        "            # Update counters\n",
        "            n += result.matched_count\n",
        "            n_modified += result.modified_count\n",
        "\n",
        "        # Create results\n",
        "        transaction_result = {\"n\": n, \"nModified\": n_modified}\n",
        "\n",
        "        return transaction_result\n",
        "\n",
        "    def assign_to_groups(self, date_string):\n",
        "\n",
        "        #Get observations\n",
        "        observations = self.find_by_date(date_string)\n",
        "\n",
        "        # Shuffle `observations`\n",
        "        random.seed(42)\n",
        "        random.shuffle(observations)\n",
        "\n",
        "        # Get index position of item at observations halfway point\n",
        "        idx = len(observations) // 2\n",
        "\n",
        "        # Assign first half of observations to control group\n",
        "        for doc in observations [:idx]:\n",
        "            doc[\"inExperiment\"] = True\n",
        "            doc[\"group\"] = \"no email (control)\"\n",
        "\n",
        "        # Assign second half of observations to treatment group\n",
        "        for doc in observations [idx:]:\n",
        "            doc[\"inExperiment\"] = True\n",
        "            doc[\"group\"] = \"email (treatment)\"\n",
        "\n",
        "        # Update collection\n",
        "        result = self.update_applicants(observations)\n",
        "        return result"
      ],
      "metadata": {
        "id": "AcDeIVe_XuGZ"
      },
      "execution_count": 29,
      "outputs": []
    },
    {
      "cell_type": "markdown",
      "source": [
        "Now that we have a class definition, we can do all sorts of interesting things. The first thing to do is instantiate the class..."
      ],
      "metadata": {
        "id": "FU3iiOzMXyBY"
      }
    },
    {
      "cell_type": "code",
      "source": [
        "repo = MongoRepository()\n",
        "print(\"repo type:\", type(repo))\n",
        "repo"
      ],
      "metadata": {
        "id": "bB3Lxa7qX2h8",
        "colab": {
          "base_uri": "https://localhost:8080/"
        },
        "outputId": "7b7370c3-49c2-4d79-b4f6-ba97040cbdf3"
      },
      "execution_count": 30,
      "outputs": [
        {
          "output_type": "stream",
          "name": "stdout",
          "text": [
            "repo type: <class '__main__.MongoRepository'>\n"
          ]
        },
        {
          "output_type": "execute_result",
          "data": {
            "text/plain": [
              "<__main__.MongoRepository at 0x7864186be290>"
            ]
          },
          "metadata": {},
          "execution_count": 30
        }
      ]
    },
    {
      "cell_type": "markdown",
      "source": [
        "...and then we can look at the attributes of the collection."
      ],
      "metadata": {
        "id": "FLTvp1k0X6tF"
      }
    },
    {
      "cell_type": "code",
      "source": [
        "dir(repo)"
      ],
      "metadata": {
        "id": "TsO8fiv7YANz",
        "colab": {
          "base_uri": "https://localhost:8080/"
        },
        "outputId": "6adb3b63-daed-481b-8f51-5c8ddaef7109"
      },
      "execution_count": 31,
      "outputs": [
        {
          "output_type": "execute_result",
          "data": {
            "text/plain": [
              "['__class__',\n",
              " '__delattr__',\n",
              " '__dict__',\n",
              " '__dir__',\n",
              " '__doc__',\n",
              " '__eq__',\n",
              " '__format__',\n",
              " '__ge__',\n",
              " '__getattribute__',\n",
              " '__gt__',\n",
              " '__hash__',\n",
              " '__init__',\n",
              " '__init_subclass__',\n",
              " '__le__',\n",
              " '__lt__',\n",
              " '__module__',\n",
              " '__ne__',\n",
              " '__new__',\n",
              " '__reduce__',\n",
              " '__reduce_ex__',\n",
              " '__repr__',\n",
              " '__setattr__',\n",
              " '__sizeof__',\n",
              " '__str__',\n",
              " '__subclasshook__',\n",
              " '__weakref__',\n",
              " 'assign_to_groups',\n",
              " 'collection',\n",
              " 'find_by_date',\n",
              " 'update_applicants']"
            ]
          },
          "metadata": {},
          "execution_count": 31
        }
      ]
    },
    {
      "cell_type": "code",
      "source": [
        "c_test = repo.collection\n",
        "print(\"c_test type:\", type(c_test))"
      ],
      "metadata": {
        "id": "rGjztOhKYNWE",
        "colab": {
          "base_uri": "https://localhost:8080/"
        },
        "outputId": "69d92f0c-686f-4955-b138-f5431e1743a7"
      },
      "execution_count": 33,
      "outputs": [
        {
          "output_type": "stream",
          "name": "stdout",
          "text": [
            "c_test type: <class 'pymongo.collection.Collection'>\n"
          ]
        }
      ]
    },
    {
      "cell_type": "code",
      "source": [
        "june_16_users = repo.find_by_date(date_string=\"2022-06-16\")\n",
        "print(\"june_16_users type\", type(june_16_users))\n",
        "print(\"june_16_users len\", len(june_16_users))\n",
        "june_16_users[:3]"
      ],
      "metadata": {
        "id": "7s6hOWQZYaOq",
        "colab": {
          "base_uri": "https://localhost:8080/"
        },
        "outputId": "8d4aa19c-ad82-40de-cf57-9ee06c74b611"
      },
      "execution_count": 35,
      "outputs": [
        {
          "output_type": "stream",
          "name": "stdout",
          "text": [
            "june_15_users type <class 'list'>\n",
            "june_15_users len 11\n"
          ]
        },
        {
          "output_type": "execute_result",
          "data": {
            "text/plain": [
              "[{'_id': ObjectId('651c300236eab9d3c09aeef3'),\n",
              "  'createdAt': datetime.datetime(2022, 6, 16, 23, 31, 48),\n",
              "  'firstName': 'Michael',\n",
              "  'lastName': 'Anaya',\n",
              "  'email': 'michael.anaya90@yahow.com',\n",
              "  'birthday': datetime.datetime(1997, 10, 15, 0, 0),\n",
              "  'gender': 'male',\n",
              "  'highestDegreeEarned': \"Bachelor's degree\",\n",
              "  'countryISO2': 'NG',\n",
              "  'pythonQuiz': 'incomplete'},\n",
              " {'_id': ObjectId('651c300236eab9d3c09aeef9'),\n",
              "  'createdAt': datetime.datetime(2022, 6, 16, 9, 39, 12),\n",
              "  'firstName': 'John',\n",
              "  'lastName': 'Rivera',\n",
              "  'email': 'john.rivera5@microsift.com',\n",
              "  'birthday': datetime.datetime(1998, 12, 29, 0, 0),\n",
              "  'gender': 'male',\n",
              "  'highestDegreeEarned': \"Bachelor's degree\",\n",
              "  'countryISO2': 'NG',\n",
              "  'pythonQuiz': 'incomplete'},\n",
              " {'_id': ObjectId('651c300236eab9d3c09aeff3'),\n",
              "  'createdAt': datetime.datetime(2022, 6, 16, 15, 33, 18),\n",
              "  'firstName': 'Steven',\n",
              "  'lastName': 'Camarillo',\n",
              "  'email': 'steven.camarillo62@microsift.com',\n",
              "  'birthday': datetime.datetime(1993, 6, 28, 0, 0),\n",
              "  'gender': 'male',\n",
              "  'highestDegreeEarned': 'High School or Baccalaureate',\n",
              "  'countryISO2': 'NG',\n",
              "  'pythonQuiz': 'incomplete'}]"
            ]
          },
          "metadata": {},
          "execution_count": 35
        }
      ]
    },
    {
      "cell_type": "code",
      "source": [
        "result = repo.update_applicants(observations_assigned)\n",
        "print(\"result type:\", type(result))\n",
        "result"
      ],
      "metadata": {
        "id": "CoPwYU4YYk-G",
        "colab": {
          "base_uri": "https://localhost:8080/"
        },
        "outputId": "25a771cb-dda4-471f-87c0-21b1e2f787af"
      },
      "execution_count": 36,
      "outputs": [
        {
          "output_type": "stream",
          "name": "stdout",
          "text": [
            "result type: <class 'dict'>\n"
          ]
        },
        {
          "output_type": "execute_result",
          "data": {
            "text/plain": [
              "{'n': 12, 'nModified': 0}"
            ]
          },
          "metadata": {},
          "execution_count": 36
        }
      ]
    },
    {
      "cell_type": "code",
      "source": [
        "result = repo.assign_to_groups(date_string=\"2022-06-17\")\n",
        "print(\"result type:\", type(result))\n",
        "result"
      ],
      "metadata": {
        "id": "343_TM-1Yv4f",
        "colab": {
          "base_uri": "https://localhost:8080/"
        },
        "outputId": "560f56f2-2c40-4879-8376-e7c62b458ffa"
      },
      "execution_count": 37,
      "outputs": [
        {
          "output_type": "stream",
          "name": "stdout",
          "text": [
            "result type: <class 'dict'>\n"
          ]
        },
        {
          "output_type": "execute_result",
          "data": {
            "text/plain": [
              "{'n': 12, 'nModified': 12}"
            ]
          },
          "metadata": {},
          "execution_count": 37
        }
      ]
    },
    {
      "cell_type": "code",
      "source": [
        "repo_test = MongoRepository()\n",
        "repo_test.assign_to_groups(\"2022-06-20\")\n",
        "repo_test.find_by_date(\"2022-06-20\")"
      ],
      "metadata": {
        "id": "9QUVslKfY5Vi",
        "colab": {
          "base_uri": "https://localhost:8080/"
        },
        "outputId": "746180d0-3c1b-41b1-fb2f-2c477bda9bff"
      },
      "execution_count": 40,
      "outputs": [
        {
          "output_type": "execute_result",
          "data": {
            "text/plain": [
              "[{'_id': ObjectId('651c300236eab9d3c09aeebb'),\n",
              "  'createdAt': datetime.datetime(2022, 6, 20, 4, 42, 59),\n",
              "  'firstName': 'James',\n",
              "  'lastName': 'Smith',\n",
              "  'email': 'james.smith16@hotmeal.com',\n",
              "  'birthday': datetime.datetime(2003, 10, 9, 0, 0),\n",
              "  'gender': 'male',\n",
              "  'highestDegreeEarned': \"Bachelor's degree\",\n",
              "  'countryISO2': 'NG',\n",
              "  'pythonQuiz': 'incomplete',\n",
              "  'group': 'email (treatment)',\n",
              "  'inExperiment': True},\n",
              " {'_id': ObjectId('651c300236eab9d3c09aeef7'),\n",
              "  'createdAt': datetime.datetime(2022, 6, 20, 19, 1, 48),\n",
              "  'firstName': 'Richard',\n",
              "  'lastName': 'Simons',\n",
              "  'email': 'richard.simons92@microsift.com',\n",
              "  'birthday': datetime.datetime(1998, 6, 3, 0, 0),\n",
              "  'gender': 'male',\n",
              "  'highestDegreeEarned': \"Bachelor's degree\",\n",
              "  'countryISO2': 'TR',\n",
              "  'pythonQuiz': 'incomplete',\n",
              "  'group': 'email (treatment)',\n",
              "  'inExperiment': True},\n",
              " {'_id': ObjectId('651c300236eab9d3c09aef4d'),\n",
              "  'createdAt': datetime.datetime(2022, 6, 20, 5, 21, 34),\n",
              "  'firstName': 'Mary',\n",
              "  'lastName': 'Rovero',\n",
              "  'email': 'mary.rovero99@gmall.com',\n",
              "  'birthday': datetime.datetime(1988, 9, 30, 0, 0),\n",
              "  'gender': 'male',\n",
              "  'highestDegreeEarned': 'Some College (1-3 years)',\n",
              "  'countryISO2': 'ZW',\n",
              "  'pythonQuiz': 'incomplete',\n",
              "  'group': 'email (treatment)',\n",
              "  'inExperiment': True},\n",
              " {'_id': ObjectId('651c300236eab9d3c09aef51'),\n",
              "  'createdAt': datetime.datetime(2022, 6, 20, 17, 16, 7),\n",
              "  'firstName': 'Jose',\n",
              "  'lastName': 'Rodriguez',\n",
              "  'email': 'jose.rodriguez80@hotmeal.com',\n",
              "  'birthday': datetime.datetime(1993, 11, 10, 0, 0),\n",
              "  'gender': 'male',\n",
              "  'highestDegreeEarned': \"Bachelor's degree\",\n",
              "  'countryISO2': 'NG',\n",
              "  'pythonQuiz': 'incomplete',\n",
              "  'group': 'email (treatment)',\n",
              "  'inExperiment': True},\n",
              " {'_id': ObjectId('651c300236eab9d3c09af010'),\n",
              "  'createdAt': datetime.datetime(2022, 6, 20, 9, 36, 58),\n",
              "  'firstName': 'Michelle',\n",
              "  'lastName': 'Meeks',\n",
              "  'email': 'michelle.meeks31@microsift.com',\n",
              "  'birthday': datetime.datetime(1998, 3, 4, 0, 0),\n",
              "  'gender': 'female',\n",
              "  'highestDegreeEarned': \"Bachelor's degree\",\n",
              "  'countryISO2': 'NG',\n",
              "  'pythonQuiz': 'incomplete',\n",
              "  'group': 'email (treatment)',\n",
              "  'inExperiment': True},\n",
              " {'_id': ObjectId('651c300236eab9d3c09af0d3'),\n",
              "  'createdAt': datetime.datetime(2022, 6, 20, 22, 4, 42),\n",
              "  'firstName': 'William',\n",
              "  'lastName': 'Wood',\n",
              "  'email': 'william.wood83@microsift.com',\n",
              "  'birthday': datetime.datetime(1998, 4, 16, 0, 0),\n",
              "  'gender': 'male',\n",
              "  'highestDegreeEarned': 'Some College (1-3 years)',\n",
              "  'countryISO2': 'PK',\n",
              "  'pythonQuiz': 'incomplete',\n",
              "  'group': 'no email (control)',\n",
              "  'inExperiment': True},\n",
              " {'_id': ObjectId('651c300236eab9d3c09af199'),\n",
              "  'createdAt': datetime.datetime(2022, 6, 20, 12, 13, 12),\n",
              "  'firstName': 'Robert',\n",
              "  'lastName': 'Rodriguez',\n",
              "  'email': 'robert.rodriguez11@gmall.com',\n",
              "  'birthday': datetime.datetime(1991, 12, 16, 0, 0),\n",
              "  'gender': 'male',\n",
              "  'highestDegreeEarned': \"Bachelor's degree\",\n",
              "  'countryISO2': 'ES',\n",
              "  'pythonQuiz': 'incomplete',\n",
              "  'group': 'no email (control)',\n",
              "  'inExperiment': True},\n",
              " {'_id': ObjectId('651c300236eab9d3c09af205'),\n",
              "  'createdAt': datetime.datetime(2022, 6, 20, 23, 59, 10),\n",
              "  'firstName': 'Joan',\n",
              "  'lastName': 'Espinoza',\n",
              "  'email': 'joan.espinoza93@microsift.com',\n",
              "  'birthday': datetime.datetime(1996, 11, 5, 0, 0),\n",
              "  'gender': 'female',\n",
              "  'highestDegreeEarned': 'High School or Baccalaureate',\n",
              "  'countryISO2': 'ZM',\n",
              "  'pythonQuiz': 'incomplete',\n",
              "  'group': 'no email (control)',\n",
              "  'inExperiment': True},\n",
              " {'_id': ObjectId('651c300236eab9d3c09af22e'),\n",
              "  'createdAt': datetime.datetime(2022, 6, 20, 19, 3, 14),\n",
              "  'firstName': 'Gregory',\n",
              "  'lastName': 'Brown',\n",
              "  'email': 'gregory.brown28@hotmeal.com',\n",
              "  'birthday': datetime.datetime(1997, 4, 16, 0, 0),\n",
              "  'gender': 'male',\n",
              "  'highestDegreeEarned': \"Bachelor's degree\",\n",
              "  'countryISO2': 'VN',\n",
              "  'pythonQuiz': 'incomplete',\n",
              "  'group': 'no email (control)',\n",
              "  'inExperiment': True},\n",
              " {'_id': ObjectId('651c300236eab9d3c09af2d4'),\n",
              "  'createdAt': datetime.datetime(2022, 6, 20, 1, 34, 27),\n",
              "  'firstName': 'Thomas',\n",
              "  'lastName': 'Hiatt',\n",
              "  'email': 'thomas.hiatt53@yahow.com',\n",
              "  'birthday': datetime.datetime(2003, 7, 2, 0, 0),\n",
              "  'gender': 'male',\n",
              "  'highestDegreeEarned': \"Master's degree\",\n",
              "  'countryISO2': 'IN',\n",
              "  'pythonQuiz': 'incomplete',\n",
              "  'group': 'email (treatment)',\n",
              "  'inExperiment': True},\n",
              " {'_id': ObjectId('651c300236eab9d3c09af2ec'),\n",
              "  'createdAt': datetime.datetime(2022, 6, 20, 4, 12, 42),\n",
              "  'firstName': 'Alton',\n",
              "  'lastName': 'Burns',\n",
              "  'email': 'alton.burns43@gmall.com',\n",
              "  'birthday': datetime.datetime(1995, 11, 1, 0, 0),\n",
              "  'gender': 'male',\n",
              "  'highestDegreeEarned': \"Bachelor's degree\",\n",
              "  'countryISO2': 'PK',\n",
              "  'pythonQuiz': 'incomplete',\n",
              "  'group': 'email (treatment)',\n",
              "  'inExperiment': True},\n",
              " {'_id': ObjectId('651c300236eab9d3c09af394'),\n",
              "  'createdAt': datetime.datetime(2022, 6, 20, 21, 6, 52),\n",
              "  'firstName': 'Eugene',\n",
              "  'lastName': 'Naiman',\n",
              "  'email': 'eugene.naiman98@microsift.com',\n",
              "  'birthday': datetime.datetime(1985, 10, 14, 0, 0),\n",
              "  'gender': 'male',\n",
              "  'highestDegreeEarned': \"Bachelor's degree\",\n",
              "  'countryISO2': 'ZA',\n",
              "  'pythonQuiz': 'incomplete',\n",
              "  'group': 'email (treatment)',\n",
              "  'inExperiment': True},\n",
              " {'_id': ObjectId('651c300236eab9d3c09af3a5'),\n",
              "  'createdAt': datetime.datetime(2022, 6, 20, 20, 2, 26),\n",
              "  'firstName': 'Richard',\n",
              "  'lastName': 'Kallin',\n",
              "  'email': 'richard.kallin99@gmall.com',\n",
              "  'birthday': datetime.datetime(1989, 6, 27, 0, 0),\n",
              "  'gender': 'male',\n",
              "  'highestDegreeEarned': \"Bachelor's degree\",\n",
              "  'countryISO2': 'PK',\n",
              "  'pythonQuiz': 'incomplete',\n",
              "  'group': 'no email (control)',\n",
              "  'inExperiment': True},\n",
              " {'_id': ObjectId('651c300236eab9d3c09af3a9'),\n",
              "  'createdAt': datetime.datetime(2022, 6, 20, 14, 45, 16),\n",
              "  'firstName': 'Denice',\n",
              "  'lastName': 'Denn',\n",
              "  'email': 'denice.denn96@gmall.com',\n",
              "  'birthday': datetime.datetime(1996, 11, 23, 0, 0),\n",
              "  'gender': 'female',\n",
              "  'highestDegreeEarned': 'Some College (1-3 years)',\n",
              "  'countryISO2': 'PE',\n",
              "  'pythonQuiz': 'incomplete',\n",
              "  'group': 'no email (control)',\n",
              "  'inExperiment': True},\n",
              " {'_id': ObjectId('651c300236eab9d3c09af3db'),\n",
              "  'createdAt': datetime.datetime(2022, 6, 20, 5, 8, 34),\n",
              "  'firstName': 'Danny',\n",
              "  'lastName': 'Knaub',\n",
              "  'email': 'danny.knaub54@hotmeal.com',\n",
              "  'birthday': datetime.datetime(1993, 2, 3, 0, 0),\n",
              "  'gender': 'male',\n",
              "  'highestDegreeEarned': 'High School or Baccalaureate',\n",
              "  'countryISO2': 'RO',\n",
              "  'pythonQuiz': 'incomplete',\n",
              "  'group': 'no email (control)',\n",
              "  'inExperiment': True}]"
            ]
          },
          "metadata": {},
          "execution_count": 40
        }
      ]
    }
  ]
}